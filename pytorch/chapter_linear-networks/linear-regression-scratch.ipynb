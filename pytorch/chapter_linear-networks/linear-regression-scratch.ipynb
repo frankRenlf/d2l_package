{
 "cells": [
  {
   "cell_type": "markdown",
   "id": "d90261b4",
   "metadata": {
    "origin_pos": 0
   },
   "source": [
    "# 线性回归的从零开始实现\n",
    ":label:`sec_linear_scratch`\n",
    "\n",
    "在了解线性回归的关键思想之后，我们可以开始通过代码来动手实现线性回归了。\n",
    "在这一节中，(**我们将从零开始实现整个方法，\n",
    "包括数据流水线、模型、损失函数和小批量随机梯度下降优化器**)。\n",
    "虽然现代的深度学习框架几乎可以自动化地进行所有这些工作，但从零开始实现可以确保我们真正知道自己在做什么。\n",
    "同时，了解更细致的工作原理将方便我们自定义模型、自定义层或自定义损失函数。\n",
    "在这一节中，我们将只使用张量和自动求导。\n",
    "在之后的章节中，我们会充分利用深度学习框架的优势，介绍更简洁的实现方式。\n"
   ]
  },
  {
   "cell_type": "code",
   "execution_count": 172,
   "id": "5afac710",
   "metadata": {
    "execution": {
     "iopub.execute_input": "2022-12-07T16:43:03.768491Z",
     "iopub.status.busy": "2022-12-07T16:43:03.768163Z",
     "iopub.status.idle": "2022-12-07T16:43:06.309758Z",
     "shell.execute_reply": "2022-12-07T16:43:06.308920Z"
    },
    "origin_pos": 2,
    "tab": [
     "pytorch"
    ],
    "ExecuteTime": {
     "end_time": "2023-07-31T06:51:29.848771Z",
     "start_time": "2023-07-31T06:51:29.721407Z"
    }
   },
   "outputs": [],
   "source": [
    "%matplotlib inline\n",
    "import random\n",
    "import torch\n",
    "from d2l import torch as d2l"
   ]
  },
  {
   "cell_type": "markdown",
   "id": "9737c61d",
   "metadata": {
    "origin_pos": 5
   },
   "source": [
    "## 生成数据集\n",
    "\n",
    "为了简单起见，我们将[**根据带有噪声的线性模型构造一个人造数据集。**]\n",
    "我们的任务是使用这个有限样本的数据集来恢复这个模型的参数。\n",
    "我们将使用低维数据，这样可以很容易地将其可视化。\n",
    "在下面的代码中，我们生成一个包含1000个样本的数据集，\n",
    "每个样本包含从标准正态分布中采样的2个特征。\n",
    "我们的合成数据集是一个矩阵$\\mathbf{X}\\in \\mathbb{R}^{1000 \\times 2}$。\n",
    "\n",
    "(**我们使用线性模型参数$\\mathbf{w} = [2, -3.4]^\\top$、$b = 4.2$\n",
    "和噪声项$\\epsilon$生成数据集及其标签：\n",
    "\n",
    "$$\\mathbf{y}= \\mathbf{X} \\mathbf{w} + b + \\mathbf\\epsilon.$$\n",
    "**)\n",
    "\n",
    "$\\epsilon$可以视为模型预测和标签时的潜在观测误差。\n",
    "在这里我们认为标准假设成立，即$\\epsilon$服从均值为0的正态分布。\n",
    "为了简化问题，我们将标准差设为0.01。\n",
    "下面的代码生成合成数据集。\n"
   ]
  },
  {
   "cell_type": "code",
   "execution_count": 173,
   "id": "a12aa0dc",
   "metadata": {
    "execution": {
     "iopub.execute_input": "2022-12-07T16:43:06.314470Z",
     "iopub.status.busy": "2022-12-07T16:43:06.313919Z",
     "iopub.status.idle": "2022-12-07T16:43:06.319119Z",
     "shell.execute_reply": "2022-12-07T16:43:06.318364Z"
    },
    "origin_pos": 6,
    "tab": [
     "pytorch"
    ],
    "ExecuteTime": {
     "end_time": "2023-07-31T06:51:29.850380Z",
     "start_time": "2023-07-31T06:51:29.732031Z"
    }
   },
   "outputs": [],
   "source": [
    "def synthetic_data(w, b, num_examples):  #@save\n",
    "    \"\"\"生成y=Xw+b+噪声\"\"\"\n",
    "    X = torch.normal(0, 1, (num_examples, len(w)))\n",
    "    y = torch.matmul(X, w) + b\n",
    "    y += torch.normal(0, 0.01, y.shape)\n",
    "    return X, y.reshape((-1, 1))"
   ]
  },
  {
   "cell_type": "code",
   "execution_count": 174,
   "id": "c825e9f2",
   "metadata": {
    "execution": {
     "iopub.execute_input": "2022-12-07T16:43:06.322894Z",
     "iopub.status.busy": "2022-12-07T16:43:06.322362Z",
     "iopub.status.idle": "2022-12-07T16:43:06.346342Z",
     "shell.execute_reply": "2022-12-07T16:43:06.345545Z"
    },
    "origin_pos": 8,
    "tab": [
     "pytorch"
    ],
    "ExecuteTime": {
     "end_time": "2023-07-31T06:51:29.899011Z",
     "start_time": "2023-07-31T06:51:29.734931Z"
    }
   },
   "outputs": [
    {
     "data": {
      "text/plain": "(tensor([-0.3784,  1.2013]), torch.Size([1000, 1]))"
     },
     "execution_count": 174,
     "metadata": {},
     "output_type": "execute_result"
    }
   ],
   "source": [
    "true_w = torch.tensor([2, -3.4])\n",
    "true_b = 4.2\n",
    "features, labels = synthetic_data(true_w, true_b, 1000)\n",
    "features[0], labels.shape"
   ]
  },
  {
   "cell_type": "markdown",
   "id": "8f793e73",
   "metadata": {
    "origin_pos": 9
   },
   "source": [
    "注意，[**`features`中的每一行都包含一个二维数据样本，\n",
    "`labels`中的每一行都包含一维标签值（一个标量）**]。\n"
   ]
  },
  {
   "cell_type": "code",
   "execution_count": 175,
   "id": "ff9bf839",
   "metadata": {
    "execution": {
     "iopub.execute_input": "2022-12-07T16:43:06.350058Z",
     "iopub.status.busy": "2022-12-07T16:43:06.349622Z",
     "iopub.status.idle": "2022-12-07T16:43:06.356271Z",
     "shell.execute_reply": "2022-12-07T16:43:06.355499Z"
    },
    "origin_pos": 10,
    "tab": [
     "pytorch"
    ],
    "ExecuteTime": {
     "end_time": "2023-07-31T06:51:29.900130Z",
     "start_time": "2023-07-31T06:51:29.741842Z"
    }
   },
   "outputs": [
    {
     "name": "stdout",
     "output_type": "stream",
     "text": [
      "features: tensor([-0.3784,  1.2013]) \n",
      "label: tensor([-0.6522])\n"
     ]
    }
   ],
   "source": [
    "print('features:', features[0],'\\nlabel:', labels[0])"
   ]
  },
  {
   "cell_type": "markdown",
   "id": "fceaa9b1",
   "metadata": {
    "origin_pos": 11
   },
   "source": [
    "通过生成第二个特征`features[:, 1]`和`labels`的散点图，\n",
    "可以直观观察到两者之间的线性关系。\n"
   ]
  },
  {
   "cell_type": "code",
   "execution_count": 176,
   "id": "ec27cda9",
   "metadata": {
    "execution": {
     "iopub.execute_input": "2022-12-07T16:43:06.360566Z",
     "iopub.status.busy": "2022-12-07T16:43:06.360291Z",
     "iopub.status.idle": "2022-12-07T16:43:06.547379Z",
     "shell.execute_reply": "2022-12-07T16:43:06.546494Z"
    },
    "origin_pos": 12,
    "tab": [
     "pytorch"
    ],
    "ExecuteTime": {
     "end_time": "2023-07-31T06:51:29.911798Z",
     "start_time": "2023-07-31T06:51:29.752429Z"
    }
   },
   "outputs": [
    {
     "data": {
      "text/plain": "<Figure size 350x250 with 1 Axes>",
      "image/svg+xml": "<?xml version=\"1.0\" encoding=\"utf-8\" standalone=\"no\"?>\n<!DOCTYPE svg PUBLIC \"-//W3C//DTD SVG 1.1//EN\"\n  \"http://www.w3.org/Graphics/SVG/1.1/DTD/svg11.dtd\">\n<svg xmlns:xlink=\"http://www.w3.org/1999/xlink\" width=\"231.442187pt\" height=\"169.678125pt\" viewBox=\"0 0 231.442187 169.678125\" xmlns=\"http://www.w3.org/2000/svg\" version=\"1.1\">\n <metadata>\n  <rdf:RDF xmlns:dc=\"http://purl.org/dc/elements/1.1/\" xmlns:cc=\"http://creativecommons.org/ns#\" xmlns:rdf=\"http://www.w3.org/1999/02/22-rdf-syntax-ns#\">\n   <cc:Work>\n    <dc:type rdf:resource=\"http://purl.org/dc/dcmitype/StillImage\"/>\n    <dc:date>2023-07-31T14:51:29.785666</dc:date>\n    <dc:format>image/svg+xml</dc:format>\n    <dc:creator>\n     <cc:Agent>\n      <dc:title>Matplotlib v3.7.2, https://matplotlib.org/</dc:title>\n     </cc:Agent>\n    </dc:creator>\n   </cc:Work>\n  </rdf:RDF>\n </metadata>\n <defs>\n  <style type=\"text/css\">*{stroke-linejoin: round; stroke-linecap: butt}</style>\n </defs>\n <g id=\"figure_1\">\n  <g id=\"patch_1\">\n   <path d=\"M 0 169.678125 \nL 231.442187 169.678125 \nL 231.442187 0 \nL 0 0 \nz\n\" style=\"fill: #ffffff\"/>\n  </g>\n  <g id=\"axes_1\">\n   <g id=\"patch_2\">\n    <path d=\"M 28.942188 145.8 \nL 224.242188 145.8 \nL 224.242188 7.2 \nL 28.942188 7.2 \nz\n\" style=\"fill: #ffffff\"/>\n   </g>\n   <g id=\"PathCollection_1\">\n    <defs>\n     <path id=\"mf4b2810a5e\" d=\"M 0 0.5 \nC 0.132602 0.5 0.25979 0.447317 0.353553 0.353553 \nC 0.447317 0.25979 0.5 0.132602 0.5 0 \nC 0.5 -0.132602 0.447317 -0.25979 0.353553 -0.353553 \nC 0.25979 -0.447317 0.132602 -0.5 0 -0.5 \nC -0.132602 -0.5 -0.25979 -0.447317 -0.353553 -0.353553 \nC -0.447317 -0.25979 -0.5 -0.132602 -0.5 0 \nC -0.5 0.132602 -0.447317 0.25979 -0.353553 0.353553 \nC -0.25979 0.447317 -0.132602 0.5 0 0.5 \nz\n\" style=\"stroke: #1f77b4\"/>\n    </defs>\n    <g clip-path=\"url(#pad893eb66b)\">\n     <use xlink:href=\"#mf4b2810a5e\" x=\"166.220473\" y=\"107.779824\" style=\"fill: #1f77b4; stroke: #1f77b4\"/>\n     <use xlink:href=\"#mf4b2810a5e\" x=\"90.139751\" y=\"61.654091\" style=\"fill: #1f77b4; stroke: #1f77b4\"/>\n     <use xlink:href=\"#mf4b2810a5e\" x=\"102.70038\" y=\"50.316128\" style=\"fill: #1f77b4; stroke: #1f77b4\"/>\n     <use xlink:href=\"#mf4b2810a5e\" x=\"147.341336\" y=\"86.661342\" style=\"fill: #1f77b4; stroke: #1f77b4\"/>\n     <use xlink:href=\"#mf4b2810a5e\" x=\"156.058498\" y=\"98.252641\" style=\"fill: #1f77b4; stroke: #1f77b4\"/>\n     <use xlink:href=\"#mf4b2810a5e\" x=\"141.624794\" y=\"73.897621\" style=\"fill: #1f77b4; stroke: #1f77b4\"/>\n     <use xlink:href=\"#mf4b2810a5e\" x=\"132.420355\" y=\"93.981568\" style=\"fill: #1f77b4; stroke: #1f77b4\"/>\n     <use xlink:href=\"#mf4b2810a5e\" x=\"89.260503\" y=\"41.222401\" style=\"fill: #1f77b4; stroke: #1f77b4\"/>\n     <use xlink:href=\"#mf4b2810a5e\" x=\"104.218321\" y=\"69.051587\" style=\"fill: #1f77b4; stroke: #1f77b4\"/>\n     <use xlink:href=\"#mf4b2810a5e\" x=\"120.756371\" y=\"78.022042\" style=\"fill: #1f77b4; stroke: #1f77b4\"/>\n     <use xlink:href=\"#mf4b2810a5e\" x=\"107.406719\" y=\"51.421099\" style=\"fill: #1f77b4; stroke: #1f77b4\"/>\n     <use xlink:href=\"#mf4b2810a5e\" x=\"162.638769\" y=\"100.103147\" style=\"fill: #1f77b4; stroke: #1f77b4\"/>\n     <use xlink:href=\"#mf4b2810a5e\" x=\"128.960669\" y=\"74.104805\" style=\"fill: #1f77b4; stroke: #1f77b4\"/>\n     <use xlink:href=\"#mf4b2810a5e\" x=\"124.634753\" y=\"76.956901\" style=\"fill: #1f77b4; stroke: #1f77b4\"/>\n     <use xlink:href=\"#mf4b2810a5e\" x=\"128.952499\" y=\"82.024846\" style=\"fill: #1f77b4; stroke: #1f77b4\"/>\n     <use xlink:href=\"#mf4b2810a5e\" x=\"153.848167\" y=\"94.919391\" style=\"fill: #1f77b4; stroke: #1f77b4\"/>\n     <use xlink:href=\"#mf4b2810a5e\" x=\"153.114851\" y=\"92.092967\" style=\"fill: #1f77b4; stroke: #1f77b4\"/>\n     <use xlink:href=\"#mf4b2810a5e\" x=\"184.973642\" y=\"107.773692\" style=\"fill: #1f77b4; stroke: #1f77b4\"/>\n     <use xlink:href=\"#mf4b2810a5e\" x=\"132.429996\" y=\"92.148548\" style=\"fill: #1f77b4; stroke: #1f77b4\"/>\n     <use xlink:href=\"#mf4b2810a5e\" x=\"69.993424\" y=\"57.156607\" style=\"fill: #1f77b4; stroke: #1f77b4\"/>\n     <use xlink:href=\"#mf4b2810a5e\" x=\"137.47652\" y=\"91.21253\" style=\"fill: #1f77b4; stroke: #1f77b4\"/>\n     <use xlink:href=\"#mf4b2810a5e\" x=\"154.616252\" y=\"94.243402\" style=\"fill: #1f77b4; stroke: #1f77b4\"/>\n     <use xlink:href=\"#mf4b2810a5e\" x=\"157.169607\" y=\"115.04692\" style=\"fill: #1f77b4; stroke: #1f77b4\"/>\n     <use xlink:href=\"#mf4b2810a5e\" x=\"88.400576\" y=\"31.957044\" style=\"fill: #1f77b4; stroke: #1f77b4\"/>\n     <use xlink:href=\"#mf4b2810a5e\" x=\"131.810716\" y=\"94.925113\" style=\"fill: #1f77b4; stroke: #1f77b4\"/>\n     <use xlink:href=\"#mf4b2810a5e\" x=\"108.013356\" y=\"57.401463\" style=\"fill: #1f77b4; stroke: #1f77b4\"/>\n     <use xlink:href=\"#mf4b2810a5e\" x=\"105.771019\" y=\"72.747603\" style=\"fill: #1f77b4; stroke: #1f77b4\"/>\n     <use xlink:href=\"#mf4b2810a5e\" x=\"148.537319\" y=\"89.69637\" style=\"fill: #1f77b4; stroke: #1f77b4\"/>\n     <use xlink:href=\"#mf4b2810a5e\" x=\"154.485849\" y=\"95.144651\" style=\"fill: #1f77b4; stroke: #1f77b4\"/>\n     <use xlink:href=\"#mf4b2810a5e\" x=\"127.377376\" y=\"71.432312\" style=\"fill: #1f77b4; stroke: #1f77b4\"/>\n     <use xlink:href=\"#mf4b2810a5e\" x=\"118.24259\" y=\"59.239586\" style=\"fill: #1f77b4; stroke: #1f77b4\"/>\n     <use xlink:href=\"#mf4b2810a5e\" x=\"104.419796\" y=\"74.541238\" style=\"fill: #1f77b4; stroke: #1f77b4\"/>\n     <use xlink:href=\"#mf4b2810a5e\" x=\"139.080644\" y=\"95.301902\" style=\"fill: #1f77b4; stroke: #1f77b4\"/>\n     <use xlink:href=\"#mf4b2810a5e\" x=\"149.23365\" y=\"96.071575\" style=\"fill: #1f77b4; stroke: #1f77b4\"/>\n     <use xlink:href=\"#mf4b2810a5e\" x=\"133.108976\" y=\"97.747841\" style=\"fill: #1f77b4; stroke: #1f77b4\"/>\n     <use xlink:href=\"#mf4b2810a5e\" x=\"117.511811\" y=\"59.731313\" style=\"fill: #1f77b4; stroke: #1f77b4\"/>\n     <use xlink:href=\"#mf4b2810a5e\" x=\"92.681192\" y=\"61.195005\" style=\"fill: #1f77b4; stroke: #1f77b4\"/>\n     <use xlink:href=\"#mf4b2810a5e\" x=\"107.473361\" y=\"73.602824\" style=\"fill: #1f77b4; stroke: #1f77b4\"/>\n     <use xlink:href=\"#mf4b2810a5e\" x=\"137.167725\" y=\"88.220968\" style=\"fill: #1f77b4; stroke: #1f77b4\"/>\n     <use xlink:href=\"#mf4b2810a5e\" x=\"169.746672\" y=\"113.248517\" style=\"fill: #1f77b4; stroke: #1f77b4\"/>\n     <use xlink:href=\"#mf4b2810a5e\" x=\"109.456937\" y=\"58.647985\" style=\"fill: #1f77b4; stroke: #1f77b4\"/>\n     <use xlink:href=\"#mf4b2810a5e\" x=\"98.94502\" y=\"47.969773\" style=\"fill: #1f77b4; stroke: #1f77b4\"/>\n     <use xlink:href=\"#mf4b2810a5e\" x=\"134.017683\" y=\"79.075342\" style=\"fill: #1f77b4; stroke: #1f77b4\"/>\n     <use xlink:href=\"#mf4b2810a5e\" x=\"132.950242\" y=\"67.266666\" style=\"fill: #1f77b4; stroke: #1f77b4\"/>\n     <use xlink:href=\"#mf4b2810a5e\" x=\"141.568345\" y=\"104.067634\" style=\"fill: #1f77b4; stroke: #1f77b4\"/>\n     <use xlink:href=\"#mf4b2810a5e\" x=\"157.698645\" y=\"99.761322\" style=\"fill: #1f77b4; stroke: #1f77b4\"/>\n     <use xlink:href=\"#mf4b2810a5e\" x=\"113.037977\" y=\"72.725689\" style=\"fill: #1f77b4; stroke: #1f77b4\"/>\n     <use xlink:href=\"#mf4b2810a5e\" x=\"151.784021\" y=\"108.534557\" style=\"fill: #1f77b4; stroke: #1f77b4\"/>\n     <use xlink:href=\"#mf4b2810a5e\" x=\"133.97537\" y=\"81.172436\" style=\"fill: #1f77b4; stroke: #1f77b4\"/>\n     <use xlink:href=\"#mf4b2810a5e\" x=\"107.690561\" y=\"66.916091\" style=\"fill: #1f77b4; stroke: #1f77b4\"/>\n     <use xlink:href=\"#mf4b2810a5e\" x=\"104.23519\" y=\"71.27304\" style=\"fill: #1f77b4; stroke: #1f77b4\"/>\n     <use xlink:href=\"#mf4b2810a5e\" x=\"179.808608\" y=\"122.999527\" style=\"fill: #1f77b4; stroke: #1f77b4\"/>\n     <use xlink:href=\"#mf4b2810a5e\" x=\"130.319648\" y=\"89.97883\" style=\"fill: #1f77b4; stroke: #1f77b4\"/>\n     <use xlink:href=\"#mf4b2810a5e\" x=\"98.12524\" y=\"44.109049\" style=\"fill: #1f77b4; stroke: #1f77b4\"/>\n     <use xlink:href=\"#mf4b2810a5e\" x=\"131.298798\" y=\"95.611203\" style=\"fill: #1f77b4; stroke: #1f77b4\"/>\n     <use xlink:href=\"#mf4b2810a5e\" x=\"93.096724\" y=\"63.358022\" style=\"fill: #1f77b4; stroke: #1f77b4\"/>\n     <use xlink:href=\"#mf4b2810a5e\" x=\"169.92659\" y=\"83.697146\" style=\"fill: #1f77b4; stroke: #1f77b4\"/>\n     <use xlink:href=\"#mf4b2810a5e\" x=\"96.411244\" y=\"43.284263\" style=\"fill: #1f77b4; stroke: #1f77b4\"/>\n     <use xlink:href=\"#mf4b2810a5e\" x=\"93.997218\" y=\"68.847215\" style=\"fill: #1f77b4; stroke: #1f77b4\"/>\n     <use xlink:href=\"#mf4b2810a5e\" x=\"129.715323\" y=\"75.601422\" style=\"fill: #1f77b4; stroke: #1f77b4\"/>\n     <use xlink:href=\"#mf4b2810a5e\" x=\"125.194698\" y=\"79.848551\" style=\"fill: #1f77b4; stroke: #1f77b4\"/>\n     <use xlink:href=\"#mf4b2810a5e\" x=\"105.585026\" y=\"79.6717\" style=\"fill: #1f77b4; stroke: #1f77b4\"/>\n     <use xlink:href=\"#mf4b2810a5e\" x=\"149.777885\" y=\"101.215546\" style=\"fill: #1f77b4; stroke: #1f77b4\"/>\n     <use xlink:href=\"#mf4b2810a5e\" x=\"128.544769\" y=\"60.113145\" style=\"fill: #1f77b4; stroke: #1f77b4\"/>\n     <use xlink:href=\"#mf4b2810a5e\" x=\"128.506996\" y=\"78.566673\" style=\"fill: #1f77b4; stroke: #1f77b4\"/>\n     <use xlink:href=\"#mf4b2810a5e\" x=\"126.844325\" y=\"68.950137\" style=\"fill: #1f77b4; stroke: #1f77b4\"/>\n     <use xlink:href=\"#mf4b2810a5e\" x=\"158.083707\" y=\"96.22606\" style=\"fill: #1f77b4; stroke: #1f77b4\"/>\n     <use xlink:href=\"#mf4b2810a5e\" x=\"154.920171\" y=\"106.164291\" style=\"fill: #1f77b4; stroke: #1f77b4\"/>\n     <use xlink:href=\"#mf4b2810a5e\" x=\"77.609072\" y=\"39.469753\" style=\"fill: #1f77b4; stroke: #1f77b4\"/>\n     <use xlink:href=\"#mf4b2810a5e\" x=\"60.975033\" y=\"47.095262\" style=\"fill: #1f77b4; stroke: #1f77b4\"/>\n     <use xlink:href=\"#mf4b2810a5e\" x=\"136.715832\" y=\"76.484994\" style=\"fill: #1f77b4; stroke: #1f77b4\"/>\n     <use xlink:href=\"#mf4b2810a5e\" x=\"122.425568\" y=\"67.677666\" style=\"fill: #1f77b4; stroke: #1f77b4\"/>\n     <use xlink:href=\"#mf4b2810a5e\" x=\"121.128084\" y=\"71.613145\" style=\"fill: #1f77b4; stroke: #1f77b4\"/>\n     <use xlink:href=\"#mf4b2810a5e\" x=\"144.040556\" y=\"71.75554\" style=\"fill: #1f77b4; stroke: #1f77b4\"/>\n     <use xlink:href=\"#mf4b2810a5e\" x=\"104.159693\" y=\"64.434947\" style=\"fill: #1f77b4; stroke: #1f77b4\"/>\n     <use xlink:href=\"#mf4b2810a5e\" x=\"152.180943\" y=\"89.515055\" style=\"fill: #1f77b4; stroke: #1f77b4\"/>\n     <use xlink:href=\"#mf4b2810a5e\" x=\"170.729982\" y=\"89.242203\" style=\"fill: #1f77b4; stroke: #1f77b4\"/>\n     <use xlink:href=\"#mf4b2810a5e\" x=\"148.129036\" y=\"85.832792\" style=\"fill: #1f77b4; stroke: #1f77b4\"/>\n     <use xlink:href=\"#mf4b2810a5e\" x=\"185.977811\" y=\"118.838094\" style=\"fill: #1f77b4; stroke: #1f77b4\"/>\n     <use xlink:href=\"#mf4b2810a5e\" x=\"150.184487\" y=\"94.668338\" style=\"fill: #1f77b4; stroke: #1f77b4\"/>\n     <use xlink:href=\"#mf4b2810a5e\" x=\"95.072662\" y=\"57.253378\" style=\"fill: #1f77b4; stroke: #1f77b4\"/>\n     <use xlink:href=\"#mf4b2810a5e\" x=\"147.775075\" y=\"86.530444\" style=\"fill: #1f77b4; stroke: #1f77b4\"/>\n     <use xlink:href=\"#mf4b2810a5e\" x=\"122.552709\" y=\"79.898225\" style=\"fill: #1f77b4; stroke: #1f77b4\"/>\n     <use xlink:href=\"#mf4b2810a5e\" x=\"142.348111\" y=\"91.770891\" style=\"fill: #1f77b4; stroke: #1f77b4\"/>\n     <use xlink:href=\"#mf4b2810a5e\" x=\"137.161\" y=\"77.339934\" style=\"fill: #1f77b4; stroke: #1f77b4\"/>\n     <use xlink:href=\"#mf4b2810a5e\" x=\"171.35368\" y=\"114.843851\" style=\"fill: #1f77b4; stroke: #1f77b4\"/>\n     <use xlink:href=\"#mf4b2810a5e\" x=\"139.517688\" y=\"76.872291\" style=\"fill: #1f77b4; stroke: #1f77b4\"/>\n     <use xlink:href=\"#mf4b2810a5e\" x=\"150.053922\" y=\"102.016861\" style=\"fill: #1f77b4; stroke: #1f77b4\"/>\n     <use xlink:href=\"#mf4b2810a5e\" x=\"70.721545\" y=\"38.45442\" style=\"fill: #1f77b4; stroke: #1f77b4\"/>\n     <use xlink:href=\"#mf4b2810a5e\" x=\"142.151495\" y=\"73.106058\" style=\"fill: #1f77b4; stroke: #1f77b4\"/>\n     <use xlink:href=\"#mf4b2810a5e\" x=\"95.880579\" y=\"70.267183\" style=\"fill: #1f77b4; stroke: #1f77b4\"/>\n     <use xlink:href=\"#mf4b2810a5e\" x=\"149.128634\" y=\"97.130058\" style=\"fill: #1f77b4; stroke: #1f77b4\"/>\n     <use xlink:href=\"#mf4b2810a5e\" x=\"76.480265\" y=\"39.483457\" style=\"fill: #1f77b4; stroke: #1f77b4\"/>\n     <use xlink:href=\"#mf4b2810a5e\" x=\"89.409871\" y=\"55.911904\" style=\"fill: #1f77b4; stroke: #1f77b4\"/>\n     <use xlink:href=\"#mf4b2810a5e\" x=\"87.857445\" y=\"52.882552\" style=\"fill: #1f77b4; stroke: #1f77b4\"/>\n     <use xlink:href=\"#mf4b2810a5e\" x=\"151.328261\" y=\"84.179346\" style=\"fill: #1f77b4; stroke: #1f77b4\"/>\n     <use xlink:href=\"#mf4b2810a5e\" x=\"129.730634\" y=\"66.688015\" style=\"fill: #1f77b4; stroke: #1f77b4\"/>\n     <use xlink:href=\"#mf4b2810a5e\" x=\"97.71172\" y=\"69.252898\" style=\"fill: #1f77b4; stroke: #1f77b4\"/>\n     <use xlink:href=\"#mf4b2810a5e\" x=\"171.4753\" y=\"102.825529\" style=\"fill: #1f77b4; stroke: #1f77b4\"/>\n     <use xlink:href=\"#mf4b2810a5e\" x=\"130.452579\" y=\"84.167825\" style=\"fill: #1f77b4; stroke: #1f77b4\"/>\n     <use xlink:href=\"#mf4b2810a5e\" x=\"124.568382\" y=\"88.003357\" style=\"fill: #1f77b4; stroke: #1f77b4\"/>\n     <use xlink:href=\"#mf4b2810a5e\" x=\"127.352911\" y=\"91.229342\" style=\"fill: #1f77b4; stroke: #1f77b4\"/>\n     <use xlink:href=\"#mf4b2810a5e\" x=\"106.594368\" y=\"45.056679\" style=\"fill: #1f77b4; stroke: #1f77b4\"/>\n     <use xlink:href=\"#mf4b2810a5e\" x=\"110.551938\" y=\"67.302901\" style=\"fill: #1f77b4; stroke: #1f77b4\"/>\n     <use xlink:href=\"#mf4b2810a5e\" x=\"95.713565\" y=\"42.905799\" style=\"fill: #1f77b4; stroke: #1f77b4\"/>\n     <use xlink:href=\"#mf4b2810a5e\" x=\"136.869608\" y=\"80.708207\" style=\"fill: #1f77b4; stroke: #1f77b4\"/>\n     <use xlink:href=\"#mf4b2810a5e\" x=\"62.300108\" y=\"39.189749\" style=\"fill: #1f77b4; stroke: #1f77b4\"/>\n     <use xlink:href=\"#mf4b2810a5e\" x=\"117.762956\" y=\"83.175142\" style=\"fill: #1f77b4; stroke: #1f77b4\"/>\n     <use xlink:href=\"#mf4b2810a5e\" x=\"77.214765\" y=\"19.608794\" style=\"fill: #1f77b4; stroke: #1f77b4\"/>\n     <use xlink:href=\"#mf4b2810a5e\" x=\"105.433525\" y=\"67.026954\" style=\"fill: #1f77b4; stroke: #1f77b4\"/>\n     <use xlink:href=\"#mf4b2810a5e\" x=\"112.455231\" y=\"75.326416\" style=\"fill: #1f77b4; stroke: #1f77b4\"/>\n     <use xlink:href=\"#mf4b2810a5e\" x=\"129.467443\" y=\"77.406583\" style=\"fill: #1f77b4; stroke: #1f77b4\"/>\n     <use xlink:href=\"#mf4b2810a5e\" x=\"120.11871\" y=\"67.447922\" style=\"fill: #1f77b4; stroke: #1f77b4\"/>\n     <use xlink:href=\"#mf4b2810a5e\" x=\"184.342407\" y=\"115.68074\" style=\"fill: #1f77b4; stroke: #1f77b4\"/>\n     <use xlink:href=\"#mf4b2810a5e\" x=\"151.120034\" y=\"84.585681\" style=\"fill: #1f77b4; stroke: #1f77b4\"/>\n     <use xlink:href=\"#mf4b2810a5e\" x=\"137.589579\" y=\"84.191253\" style=\"fill: #1f77b4; stroke: #1f77b4\"/>\n     <use xlink:href=\"#mf4b2810a5e\" x=\"146.698723\" y=\"80.791022\" style=\"fill: #1f77b4; stroke: #1f77b4\"/>\n     <use xlink:href=\"#mf4b2810a5e\" x=\"99.145087\" y=\"71.314024\" style=\"fill: #1f77b4; stroke: #1f77b4\"/>\n     <use xlink:href=\"#mf4b2810a5e\" x=\"132.58071\" y=\"69.501397\" style=\"fill: #1f77b4; stroke: #1f77b4\"/>\n     <use xlink:href=\"#mf4b2810a5e\" x=\"99.328027\" y=\"56.038477\" style=\"fill: #1f77b4; stroke: #1f77b4\"/>\n     <use xlink:href=\"#mf4b2810a5e\" x=\"123.096664\" y=\"88.364297\" style=\"fill: #1f77b4; stroke: #1f77b4\"/>\n     <use xlink:href=\"#mf4b2810a5e\" x=\"151.267401\" y=\"101.203456\" style=\"fill: #1f77b4; stroke: #1f77b4\"/>\n     <use xlink:href=\"#mf4b2810a5e\" x=\"149.433812\" y=\"102.308128\" style=\"fill: #1f77b4; stroke: #1f77b4\"/>\n     <use xlink:href=\"#mf4b2810a5e\" x=\"94.541038\" y=\"60.15333\" style=\"fill: #1f77b4; stroke: #1f77b4\"/>\n     <use xlink:href=\"#mf4b2810a5e\" x=\"193.169802\" y=\"136.23102\" style=\"fill: #1f77b4; stroke: #1f77b4\"/>\n     <use xlink:href=\"#mf4b2810a5e\" x=\"107.947283\" y=\"68.153262\" style=\"fill: #1f77b4; stroke: #1f77b4\"/>\n     <use xlink:href=\"#mf4b2810a5e\" x=\"138.652805\" y=\"89.938974\" style=\"fill: #1f77b4; stroke: #1f77b4\"/>\n     <use xlink:href=\"#mf4b2810a5e\" x=\"130.799825\" y=\"86.886658\" style=\"fill: #1f77b4; stroke: #1f77b4\"/>\n     <use xlink:href=\"#mf4b2810a5e\" x=\"152.374025\" y=\"93.867816\" style=\"fill: #1f77b4; stroke: #1f77b4\"/>\n     <use xlink:href=\"#mf4b2810a5e\" x=\"118.582656\" y=\"82.032834\" style=\"fill: #1f77b4; stroke: #1f77b4\"/>\n     <use xlink:href=\"#mf4b2810a5e\" x=\"119.715801\" y=\"82.726552\" style=\"fill: #1f77b4; stroke: #1f77b4\"/>\n     <use xlink:href=\"#mf4b2810a5e\" x=\"116.96723\" y=\"40.744471\" style=\"fill: #1f77b4; stroke: #1f77b4\"/>\n     <use xlink:href=\"#mf4b2810a5e\" x=\"79.937405\" y=\"33.492479\" style=\"fill: #1f77b4; stroke: #1f77b4\"/>\n     <use xlink:href=\"#mf4b2810a5e\" x=\"130.591024\" y=\"70.611041\" style=\"fill: #1f77b4; stroke: #1f77b4\"/>\n     <use xlink:href=\"#mf4b2810a5e\" x=\"96.899186\" y=\"57.609356\" style=\"fill: #1f77b4; stroke: #1f77b4\"/>\n     <use xlink:href=\"#mf4b2810a5e\" x=\"158.543801\" y=\"118.945611\" style=\"fill: #1f77b4; stroke: #1f77b4\"/>\n     <use xlink:href=\"#mf4b2810a5e\" x=\"120.418147\" y=\"94.783036\" style=\"fill: #1f77b4; stroke: #1f77b4\"/>\n     <use xlink:href=\"#mf4b2810a5e\" x=\"129.718947\" y=\"68.734511\" style=\"fill: #1f77b4; stroke: #1f77b4\"/>\n     <use xlink:href=\"#mf4b2810a5e\" x=\"93.251615\" y=\"33.946963\" style=\"fill: #1f77b4; stroke: #1f77b4\"/>\n     <use xlink:href=\"#mf4b2810a5e\" x=\"124.126323\" y=\"80.545172\" style=\"fill: #1f77b4; stroke: #1f77b4\"/>\n     <use xlink:href=\"#mf4b2810a5e\" x=\"92.480061\" y=\"63.216728\" style=\"fill: #1f77b4; stroke: #1f77b4\"/>\n     <use xlink:href=\"#mf4b2810a5e\" x=\"143.933671\" y=\"71.926555\" style=\"fill: #1f77b4; stroke: #1f77b4\"/>\n     <use xlink:href=\"#mf4b2810a5e\" x=\"71.331924\" y=\"60.300213\" style=\"fill: #1f77b4; stroke: #1f77b4\"/>\n     <use xlink:href=\"#mf4b2810a5e\" x=\"138.023141\" y=\"92.206714\" style=\"fill: #1f77b4; stroke: #1f77b4\"/>\n     <use xlink:href=\"#mf4b2810a5e\" x=\"114.746614\" y=\"77.898174\" style=\"fill: #1f77b4; stroke: #1f77b4\"/>\n     <use xlink:href=\"#mf4b2810a5e\" x=\"119.986516\" y=\"81.557685\" style=\"fill: #1f77b4; stroke: #1f77b4\"/>\n     <use xlink:href=\"#mf4b2810a5e\" x=\"127.933777\" y=\"72.273571\" style=\"fill: #1f77b4; stroke: #1f77b4\"/>\n     <use xlink:href=\"#mf4b2810a5e\" x=\"119.562771\" y=\"71.32063\" style=\"fill: #1f77b4; stroke: #1f77b4\"/>\n     <use xlink:href=\"#mf4b2810a5e\" x=\"98.324008\" y=\"67.889637\" style=\"fill: #1f77b4; stroke: #1f77b4\"/>\n     <use xlink:href=\"#mf4b2810a5e\" x=\"119.678877\" y=\"65.289496\" style=\"fill: #1f77b4; stroke: #1f77b4\"/>\n     <use xlink:href=\"#mf4b2810a5e\" x=\"94.755996\" y=\"53.856657\" style=\"fill: #1f77b4; stroke: #1f77b4\"/>\n     <use xlink:href=\"#mf4b2810a5e\" x=\"145.544291\" y=\"77.066628\" style=\"fill: #1f77b4; stroke: #1f77b4\"/>\n     <use xlink:href=\"#mf4b2810a5e\" x=\"131.574156\" y=\"74.023514\" style=\"fill: #1f77b4; stroke: #1f77b4\"/>\n     <use xlink:href=\"#mf4b2810a5e\" x=\"134.975668\" y=\"72.970136\" style=\"fill: #1f77b4; stroke: #1f77b4\"/>\n     <use xlink:href=\"#mf4b2810a5e\" x=\"107.2969\" y=\"67.978904\" style=\"fill: #1f77b4; stroke: #1f77b4\"/>\n     <use xlink:href=\"#mf4b2810a5e\" x=\"189.124488\" y=\"103.592375\" style=\"fill: #1f77b4; stroke: #1f77b4\"/>\n     <use xlink:href=\"#mf4b2810a5e\" x=\"101.574846\" y=\"75.671578\" style=\"fill: #1f77b4; stroke: #1f77b4\"/>\n     <use xlink:href=\"#mf4b2810a5e\" x=\"142.684669\" y=\"88.063677\" style=\"fill: #1f77b4; stroke: #1f77b4\"/>\n     <use xlink:href=\"#mf4b2810a5e\" x=\"103.861336\" y=\"73.033431\" style=\"fill: #1f77b4; stroke: #1f77b4\"/>\n     <use xlink:href=\"#mf4b2810a5e\" x=\"104.924521\" y=\"58.243628\" style=\"fill: #1f77b4; stroke: #1f77b4\"/>\n     <use xlink:href=\"#mf4b2810a5e\" x=\"90.485672\" y=\"66.600159\" style=\"fill: #1f77b4; stroke: #1f77b4\"/>\n     <use xlink:href=\"#mf4b2810a5e\" x=\"130.581204\" y=\"75.379682\" style=\"fill: #1f77b4; stroke: #1f77b4\"/>\n     <use xlink:href=\"#mf4b2810a5e\" x=\"128.288855\" y=\"77.379482\" style=\"fill: #1f77b4; stroke: #1f77b4\"/>\n     <use xlink:href=\"#mf4b2810a5e\" x=\"176.187961\" y=\"121.033128\" style=\"fill: #1f77b4; stroke: #1f77b4\"/>\n     <use xlink:href=\"#mf4b2810a5e\" x=\"147.80421\" y=\"92.796904\" style=\"fill: #1f77b4; stroke: #1f77b4\"/>\n     <use xlink:href=\"#mf4b2810a5e\" x=\"148.386206\" y=\"75.123431\" style=\"fill: #1f77b4; stroke: #1f77b4\"/>\n     <use xlink:href=\"#mf4b2810a5e\" x=\"74.194089\" y=\"43.242172\" style=\"fill: #1f77b4; stroke: #1f77b4\"/>\n     <use xlink:href=\"#mf4b2810a5e\" x=\"127.928821\" y=\"79.618875\" style=\"fill: #1f77b4; stroke: #1f77b4\"/>\n     <use xlink:href=\"#mf4b2810a5e\" x=\"174.843231\" y=\"108.807984\" style=\"fill: #1f77b4; stroke: #1f77b4\"/>\n     <use xlink:href=\"#mf4b2810a5e\" x=\"149.923266\" y=\"110.778101\" style=\"fill: #1f77b4; stroke: #1f77b4\"/>\n     <use xlink:href=\"#mf4b2810a5e\" x=\"150.676623\" y=\"93.213292\" style=\"fill: #1f77b4; stroke: #1f77b4\"/>\n     <use xlink:href=\"#mf4b2810a5e\" x=\"140.821256\" y=\"97.391774\" style=\"fill: #1f77b4; stroke: #1f77b4\"/>\n     <use xlink:href=\"#mf4b2810a5e\" x=\"159.28342\" y=\"94.03064\" style=\"fill: #1f77b4; stroke: #1f77b4\"/>\n     <use xlink:href=\"#mf4b2810a5e\" x=\"173.23334\" y=\"94.752929\" style=\"fill: #1f77b4; stroke: #1f77b4\"/>\n     <use xlink:href=\"#mf4b2810a5e\" x=\"96.931679\" y=\"54.538808\" style=\"fill: #1f77b4; stroke: #1f77b4\"/>\n     <use xlink:href=\"#mf4b2810a5e\" x=\"95.273516\" y=\"51.11986\" style=\"fill: #1f77b4; stroke: #1f77b4\"/>\n     <use xlink:href=\"#mf4b2810a5e\" x=\"142.286299\" y=\"90.679625\" style=\"fill: #1f77b4; stroke: #1f77b4\"/>\n     <use xlink:href=\"#mf4b2810a5e\" x=\"103.644103\" y=\"48.021195\" style=\"fill: #1f77b4; stroke: #1f77b4\"/>\n     <use xlink:href=\"#mf4b2810a5e\" x=\"82.251222\" y=\"66.865217\" style=\"fill: #1f77b4; stroke: #1f77b4\"/>\n     <use xlink:href=\"#mf4b2810a5e\" x=\"73.205806\" y=\"20.398776\" style=\"fill: #1f77b4; stroke: #1f77b4\"/>\n     <use xlink:href=\"#mf4b2810a5e\" x=\"115.67651\" y=\"55.219587\" style=\"fill: #1f77b4; stroke: #1f77b4\"/>\n     <use xlink:href=\"#mf4b2810a5e\" x=\"151.072221\" y=\"93.957651\" style=\"fill: #1f77b4; stroke: #1f77b4\"/>\n     <use xlink:href=\"#mf4b2810a5e\" x=\"124.010546\" y=\"78.273173\" style=\"fill: #1f77b4; stroke: #1f77b4\"/>\n     <use xlink:href=\"#mf4b2810a5e\" x=\"115.314047\" y=\"69.789287\" style=\"fill: #1f77b4; stroke: #1f77b4\"/>\n     <use xlink:href=\"#mf4b2810a5e\" x=\"69.799438\" y=\"51.120162\" style=\"fill: #1f77b4; stroke: #1f77b4\"/>\n     <use xlink:href=\"#mf4b2810a5e\" x=\"118.011348\" y=\"85.400109\" style=\"fill: #1f77b4; stroke: #1f77b4\"/>\n     <use xlink:href=\"#mf4b2810a5e\" x=\"140.731096\" y=\"90.458682\" style=\"fill: #1f77b4; stroke: #1f77b4\"/>\n     <use xlink:href=\"#mf4b2810a5e\" x=\"84.668513\" y=\"37.889552\" style=\"fill: #1f77b4; stroke: #1f77b4\"/>\n     <use xlink:href=\"#mf4b2810a5e\" x=\"132.411576\" y=\"51.104726\" style=\"fill: #1f77b4; stroke: #1f77b4\"/>\n     <use xlink:href=\"#mf4b2810a5e\" x=\"113.6976\" y=\"49.682612\" style=\"fill: #1f77b4; stroke: #1f77b4\"/>\n     <use xlink:href=\"#mf4b2810a5e\" x=\"110.997484\" y=\"56.879302\" style=\"fill: #1f77b4; stroke: #1f77b4\"/>\n     <use xlink:href=\"#mf4b2810a5e\" x=\"197.830343\" y=\"109.677629\" style=\"fill: #1f77b4; stroke: #1f77b4\"/>\n     <use xlink:href=\"#mf4b2810a5e\" x=\"105.128571\" y=\"67.648341\" style=\"fill: #1f77b4; stroke: #1f77b4\"/>\n     <use xlink:href=\"#mf4b2810a5e\" x=\"118.729159\" y=\"69.080171\" style=\"fill: #1f77b4; stroke: #1f77b4\"/>\n     <use xlink:href=\"#mf4b2810a5e\" x=\"181.675356\" y=\"106.60003\" style=\"fill: #1f77b4; stroke: #1f77b4\"/>\n     <use xlink:href=\"#mf4b2810a5e\" x=\"200.670056\" y=\"120.578521\" style=\"fill: #1f77b4; stroke: #1f77b4\"/>\n     <use xlink:href=\"#mf4b2810a5e\" x=\"128.460589\" y=\"66.605971\" style=\"fill: #1f77b4; stroke: #1f77b4\"/>\n     <use xlink:href=\"#mf4b2810a5e\" x=\"112.606708\" y=\"59.905022\" style=\"fill: #1f77b4; stroke: #1f77b4\"/>\n     <use xlink:href=\"#mf4b2810a5e\" x=\"91.948212\" y=\"53.765363\" style=\"fill: #1f77b4; stroke: #1f77b4\"/>\n     <use xlink:href=\"#mf4b2810a5e\" x=\"147.807527\" y=\"92.621252\" style=\"fill: #1f77b4; stroke: #1f77b4\"/>\n     <use xlink:href=\"#mf4b2810a5e\" x=\"115.2417\" y=\"72.254883\" style=\"fill: #1f77b4; stroke: #1f77b4\"/>\n     <use xlink:href=\"#mf4b2810a5e\" x=\"191.819206\" y=\"129.154726\" style=\"fill: #1f77b4; stroke: #1f77b4\"/>\n     <use xlink:href=\"#mf4b2810a5e\" x=\"120.960714\" y=\"69.596855\" style=\"fill: #1f77b4; stroke: #1f77b4\"/>\n     <use xlink:href=\"#mf4b2810a5e\" x=\"112.872637\" y=\"81.846537\" style=\"fill: #1f77b4; stroke: #1f77b4\"/>\n     <use xlink:href=\"#mf4b2810a5e\" x=\"137.544007\" y=\"98.313828\" style=\"fill: #1f77b4; stroke: #1f77b4\"/>\n     <use xlink:href=\"#mf4b2810a5e\" x=\"146.079761\" y=\"122.527376\" style=\"fill: #1f77b4; stroke: #1f77b4\"/>\n     <use xlink:href=\"#mf4b2810a5e\" x=\"111.68026\" y=\"75.866098\" style=\"fill: #1f77b4; stroke: #1f77b4\"/>\n     <use xlink:href=\"#mf4b2810a5e\" x=\"76.804632\" y=\"46.440078\" style=\"fill: #1f77b4; stroke: #1f77b4\"/>\n     <use xlink:href=\"#mf4b2810a5e\" x=\"154.265594\" y=\"87.883963\" style=\"fill: #1f77b4; stroke: #1f77b4\"/>\n     <use xlink:href=\"#mf4b2810a5e\" x=\"132.693277\" y=\"86.561031\" style=\"fill: #1f77b4; stroke: #1f77b4\"/>\n     <use xlink:href=\"#mf4b2810a5e\" x=\"115.235889\" y=\"56.802957\" style=\"fill: #1f77b4; stroke: #1f77b4\"/>\n     <use xlink:href=\"#mf4b2810a5e\" x=\"106.855432\" y=\"48.688924\" style=\"fill: #1f77b4; stroke: #1f77b4\"/>\n     <use xlink:href=\"#mf4b2810a5e\" x=\"130.557469\" y=\"89.280229\" style=\"fill: #1f77b4; stroke: #1f77b4\"/>\n     <use xlink:href=\"#mf4b2810a5e\" x=\"169.257355\" y=\"103.944862\" style=\"fill: #1f77b4; stroke: #1f77b4\"/>\n     <use xlink:href=\"#mf4b2810a5e\" x=\"106.313379\" y=\"72.587349\" style=\"fill: #1f77b4; stroke: #1f77b4\"/>\n     <use xlink:href=\"#mf4b2810a5e\" x=\"178.247471\" y=\"125.18351\" style=\"fill: #1f77b4; stroke: #1f77b4\"/>\n     <use xlink:href=\"#mf4b2810a5e\" x=\"139.577802\" y=\"90.075149\" style=\"fill: #1f77b4; stroke: #1f77b4\"/>\n     <use xlink:href=\"#mf4b2810a5e\" x=\"115.364014\" y=\"67.040461\" style=\"fill: #1f77b4; stroke: #1f77b4\"/>\n     <use xlink:href=\"#mf4b2810a5e\" x=\"110.445659\" y=\"59.190858\" style=\"fill: #1f77b4; stroke: #1f77b4\"/>\n     <use xlink:href=\"#mf4b2810a5e\" x=\"177.426775\" y=\"132.281199\" style=\"fill: #1f77b4; stroke: #1f77b4\"/>\n     <use xlink:href=\"#mf4b2810a5e\" x=\"100.396293\" y=\"76.75239\" style=\"fill: #1f77b4; stroke: #1f77b4\"/>\n     <use xlink:href=\"#mf4b2810a5e\" x=\"158.612263\" y=\"87.387863\" style=\"fill: #1f77b4; stroke: #1f77b4\"/>\n     <use xlink:href=\"#mf4b2810a5e\" x=\"158.803952\" y=\"106.176519\" style=\"fill: #1f77b4; stroke: #1f77b4\"/>\n     <use xlink:href=\"#mf4b2810a5e\" x=\"137.822404\" y=\"97.301857\" style=\"fill: #1f77b4; stroke: #1f77b4\"/>\n     <use xlink:href=\"#mf4b2810a5e\" x=\"75.285131\" y=\"43.374578\" style=\"fill: #1f77b4; stroke: #1f77b4\"/>\n     <use xlink:href=\"#mf4b2810a5e\" x=\"162.952354\" y=\"90.835696\" style=\"fill: #1f77b4; stroke: #1f77b4\"/>\n     <use xlink:href=\"#mf4b2810a5e\" x=\"131.184\" y=\"88.411509\" style=\"fill: #1f77b4; stroke: #1f77b4\"/>\n     <use xlink:href=\"#mf4b2810a5e\" x=\"165.483272\" y=\"113.986474\" style=\"fill: #1f77b4; stroke: #1f77b4\"/>\n     <use xlink:href=\"#mf4b2810a5e\" x=\"151.686418\" y=\"110.044479\" style=\"fill: #1f77b4; stroke: #1f77b4\"/>\n     <use xlink:href=\"#mf4b2810a5e\" x=\"136.591958\" y=\"82.556125\" style=\"fill: #1f77b4; stroke: #1f77b4\"/>\n     <use xlink:href=\"#mf4b2810a5e\" x=\"162.518352\" y=\"98.718624\" style=\"fill: #1f77b4; stroke: #1f77b4\"/>\n     <use xlink:href=\"#mf4b2810a5e\" x=\"101.735181\" y=\"65.675031\" style=\"fill: #1f77b4; stroke: #1f77b4\"/>\n     <use xlink:href=\"#mf4b2810a5e\" x=\"62.996827\" y=\"13.5\" style=\"fill: #1f77b4; stroke: #1f77b4\"/>\n     <use xlink:href=\"#mf4b2810a5e\" x=\"166.023164\" y=\"100.212855\" style=\"fill: #1f77b4; stroke: #1f77b4\"/>\n     <use xlink:href=\"#mf4b2810a5e\" x=\"135.54462\" y=\"72.122393\" style=\"fill: #1f77b4; stroke: #1f77b4\"/>\n     <use xlink:href=\"#mf4b2810a5e\" x=\"111.408033\" y=\"66.759767\" style=\"fill: #1f77b4; stroke: #1f77b4\"/>\n     <use xlink:href=\"#mf4b2810a5e\" x=\"112.352094\" y=\"87.195227\" style=\"fill: #1f77b4; stroke: #1f77b4\"/>\n     <use xlink:href=\"#mf4b2810a5e\" x=\"114.860301\" y=\"91.21919\" style=\"fill: #1f77b4; stroke: #1f77b4\"/>\n     <use xlink:href=\"#mf4b2810a5e\" x=\"151.182848\" y=\"78.725175\" style=\"fill: #1f77b4; stroke: #1f77b4\"/>\n     <use xlink:href=\"#mf4b2810a5e\" x=\"147.689281\" y=\"72.799668\" style=\"fill: #1f77b4; stroke: #1f77b4\"/>\n     <use xlink:href=\"#mf4b2810a5e\" x=\"129.275586\" y=\"63.175413\" style=\"fill: #1f77b4; stroke: #1f77b4\"/>\n     <use xlink:href=\"#mf4b2810a5e\" x=\"115.841232\" y=\"65.24799\" style=\"fill: #1f77b4; stroke: #1f77b4\"/>\n     <use xlink:href=\"#mf4b2810a5e\" x=\"178.394753\" y=\"92.9747\" style=\"fill: #1f77b4; stroke: #1f77b4\"/>\n     <use xlink:href=\"#mf4b2810a5e\" x=\"133.295417\" y=\"81.433402\" style=\"fill: #1f77b4; stroke: #1f77b4\"/>\n     <use xlink:href=\"#mf4b2810a5e\" x=\"116.86159\" y=\"83.239495\" style=\"fill: #1f77b4; stroke: #1f77b4\"/>\n     <use xlink:href=\"#mf4b2810a5e\" x=\"84.416713\" y=\"57.590886\" style=\"fill: #1f77b4; stroke: #1f77b4\"/>\n     <use xlink:href=\"#mf4b2810a5e\" x=\"103.676724\" y=\"60.117286\" style=\"fill: #1f77b4; stroke: #1f77b4\"/>\n     <use xlink:href=\"#mf4b2810a5e\" x=\"128.163881\" y=\"72.343322\" style=\"fill: #1f77b4; stroke: #1f77b4\"/>\n     <use xlink:href=\"#mf4b2810a5e\" x=\"92.739885\" y=\"50.151843\" style=\"fill: #1f77b4; stroke: #1f77b4\"/>\n     <use xlink:href=\"#mf4b2810a5e\" x=\"140.870675\" y=\"76.27333\" style=\"fill: #1f77b4; stroke: #1f77b4\"/>\n     <use xlink:href=\"#mf4b2810a5e\" x=\"132.415924\" y=\"77.436768\" style=\"fill: #1f77b4; stroke: #1f77b4\"/>\n     <use xlink:href=\"#mf4b2810a5e\" x=\"138.459043\" y=\"93.565742\" style=\"fill: #1f77b4; stroke: #1f77b4\"/>\n     <use xlink:href=\"#mf4b2810a5e\" x=\"143.48119\" y=\"101.875534\" style=\"fill: #1f77b4; stroke: #1f77b4\"/>\n     <use xlink:href=\"#mf4b2810a5e\" x=\"175.094819\" y=\"106.875458\" style=\"fill: #1f77b4; stroke: #1f77b4\"/>\n     <use xlink:href=\"#mf4b2810a5e\" x=\"135.691967\" y=\"82.842368\" style=\"fill: #1f77b4; stroke: #1f77b4\"/>\n     <use xlink:href=\"#mf4b2810a5e\" x=\"125.659247\" y=\"72.435047\" style=\"fill: #1f77b4; stroke: #1f77b4\"/>\n     <use xlink:href=\"#mf4b2810a5e\" x=\"172.771888\" y=\"88.868667\" style=\"fill: #1f77b4; stroke: #1f77b4\"/>\n     <use xlink:href=\"#mf4b2810a5e\" x=\"146.491039\" y=\"100.705677\" style=\"fill: #1f77b4; stroke: #1f77b4\"/>\n     <use xlink:href=\"#mf4b2810a5e\" x=\"93.368476\" y=\"52.889577\" style=\"fill: #1f77b4; stroke: #1f77b4\"/>\n     <use xlink:href=\"#mf4b2810a5e\" x=\"97.063168\" y=\"77.771137\" style=\"fill: #1f77b4; stroke: #1f77b4\"/>\n     <use xlink:href=\"#mf4b2810a5e\" x=\"122.975747\" y=\"84.51754\" style=\"fill: #1f77b4; stroke: #1f77b4\"/>\n     <use xlink:href=\"#mf4b2810a5e\" x=\"137.597233\" y=\"92.375005\" style=\"fill: #1f77b4; stroke: #1f77b4\"/>\n     <use xlink:href=\"#mf4b2810a5e\" x=\"190.927073\" y=\"107.29263\" style=\"fill: #1f77b4; stroke: #1f77b4\"/>\n     <use xlink:href=\"#mf4b2810a5e\" x=\"114.542125\" y=\"63.831958\" style=\"fill: #1f77b4; stroke: #1f77b4\"/>\n     <use xlink:href=\"#mf4b2810a5e\" x=\"87.360675\" y=\"66.1069\" style=\"fill: #1f77b4; stroke: #1f77b4\"/>\n     <use xlink:href=\"#mf4b2810a5e\" x=\"143.402559\" y=\"74.034206\" style=\"fill: #1f77b4; stroke: #1f77b4\"/>\n     <use xlink:href=\"#mf4b2810a5e\" x=\"90.902856\" y=\"58.261172\" style=\"fill: #1f77b4; stroke: #1f77b4\"/>\n     <use xlink:href=\"#mf4b2810a5e\" x=\"111.886966\" y=\"48.178061\" style=\"fill: #1f77b4; stroke: #1f77b4\"/>\n     <use xlink:href=\"#mf4b2810a5e\" x=\"108.438507\" y=\"68.99508\" style=\"fill: #1f77b4; stroke: #1f77b4\"/>\n     <use xlink:href=\"#mf4b2810a5e\" x=\"141.981582\" y=\"88.215795\" style=\"fill: #1f77b4; stroke: #1f77b4\"/>\n     <use xlink:href=\"#mf4b2810a5e\" x=\"115.218777\" y=\"70.485476\" style=\"fill: #1f77b4; stroke: #1f77b4\"/>\n     <use xlink:href=\"#mf4b2810a5e\" x=\"122.111451\" y=\"93.013672\" style=\"fill: #1f77b4; stroke: #1f77b4\"/>\n     <use xlink:href=\"#mf4b2810a5e\" x=\"175.091578\" y=\"119.243491\" style=\"fill: #1f77b4; stroke: #1f77b4\"/>\n     <use xlink:href=\"#mf4b2810a5e\" x=\"121.091163\" y=\"55.211739\" style=\"fill: #1f77b4; stroke: #1f77b4\"/>\n     <use xlink:href=\"#mf4b2810a5e\" x=\"167.394843\" y=\"100.889816\" style=\"fill: #1f77b4; stroke: #1f77b4\"/>\n     <use xlink:href=\"#mf4b2810a5e\" x=\"114.466265\" y=\"68.439311\" style=\"fill: #1f77b4; stroke: #1f77b4\"/>\n     <use xlink:href=\"#mf4b2810a5e\" x=\"125.8928\" y=\"69.357392\" style=\"fill: #1f77b4; stroke: #1f77b4\"/>\n     <use xlink:href=\"#mf4b2810a5e\" x=\"154.460827\" y=\"104.869942\" style=\"fill: #1f77b4; stroke: #1f77b4\"/>\n     <use xlink:href=\"#mf4b2810a5e\" x=\"208.006055\" y=\"117.128187\" style=\"fill: #1f77b4; stroke: #1f77b4\"/>\n     <use xlink:href=\"#mf4b2810a5e\" x=\"133.357665\" y=\"88.389524\" style=\"fill: #1f77b4; stroke: #1f77b4\"/>\n     <use xlink:href=\"#mf4b2810a5e\" x=\"110.151292\" y=\"69.056852\" style=\"fill: #1f77b4; stroke: #1f77b4\"/>\n     <use xlink:href=\"#mf4b2810a5e\" x=\"128.023317\" y=\"87.489266\" style=\"fill: #1f77b4; stroke: #1f77b4\"/>\n     <use xlink:href=\"#mf4b2810a5e\" x=\"117.161774\" y=\"65.745622\" style=\"fill: #1f77b4; stroke: #1f77b4\"/>\n     <use xlink:href=\"#mf4b2810a5e\" x=\"117.782169\" y=\"81.060224\" style=\"fill: #1f77b4; stroke: #1f77b4\"/>\n     <use xlink:href=\"#mf4b2810a5e\" x=\"105.533681\" y=\"59.529594\" style=\"fill: #1f77b4; stroke: #1f77b4\"/>\n     <use xlink:href=\"#mf4b2810a5e\" x=\"212.867183\" y=\"129.993289\" style=\"fill: #1f77b4; stroke: #1f77b4\"/>\n     <use xlink:href=\"#mf4b2810a5e\" x=\"88.681894\" y=\"52.150166\" style=\"fill: #1f77b4; stroke: #1f77b4\"/>\n     <use xlink:href=\"#mf4b2810a5e\" x=\"118.992562\" y=\"71.066316\" style=\"fill: #1f77b4; stroke: #1f77b4\"/>\n     <use xlink:href=\"#mf4b2810a5e\" x=\"186.197302\" y=\"110.361555\" style=\"fill: #1f77b4; stroke: #1f77b4\"/>\n     <use xlink:href=\"#mf4b2810a5e\" x=\"96.371012\" y=\"58.447708\" style=\"fill: #1f77b4; stroke: #1f77b4\"/>\n     <use xlink:href=\"#mf4b2810a5e\" x=\"182.735372\" y=\"92.282213\" style=\"fill: #1f77b4; stroke: #1f77b4\"/>\n     <use xlink:href=\"#mf4b2810a5e\" x=\"144.319451\" y=\"101.240651\" style=\"fill: #1f77b4; stroke: #1f77b4\"/>\n     <use xlink:href=\"#mf4b2810a5e\" x=\"75.435551\" y=\"37.383739\" style=\"fill: #1f77b4; stroke: #1f77b4\"/>\n     <use xlink:href=\"#mf4b2810a5e\" x=\"135.570897\" y=\"72.558267\" style=\"fill: #1f77b4; stroke: #1f77b4\"/>\n     <use xlink:href=\"#mf4b2810a5e\" x=\"116.1008\" y=\"87.235163\" style=\"fill: #1f77b4; stroke: #1f77b4\"/>\n     <use xlink:href=\"#mf4b2810a5e\" x=\"151.301322\" y=\"82.226212\" style=\"fill: #1f77b4; stroke: #1f77b4\"/>\n     <use xlink:href=\"#mf4b2810a5e\" x=\"144.387164\" y=\"104.457333\" style=\"fill: #1f77b4; stroke: #1f77b4\"/>\n     <use xlink:href=\"#mf4b2810a5e\" x=\"118.773321\" y=\"83.728431\" style=\"fill: #1f77b4; stroke: #1f77b4\"/>\n     <use xlink:href=\"#mf4b2810a5e\" x=\"65.409123\" y=\"75.573142\" style=\"fill: #1f77b4; stroke: #1f77b4\"/>\n     <use xlink:href=\"#mf4b2810a5e\" x=\"102.378023\" y=\"56.327352\" style=\"fill: #1f77b4; stroke: #1f77b4\"/>\n     <use xlink:href=\"#mf4b2810a5e\" x=\"137.386143\" y=\"85.644571\" style=\"fill: #1f77b4; stroke: #1f77b4\"/>\n     <use xlink:href=\"#mf4b2810a5e\" x=\"97.03975\" y=\"48.786978\" style=\"fill: #1f77b4; stroke: #1f77b4\"/>\n     <use xlink:href=\"#mf4b2810a5e\" x=\"182.239309\" y=\"106.935609\" style=\"fill: #1f77b4; stroke: #1f77b4\"/>\n     <use xlink:href=\"#mf4b2810a5e\" x=\"106.52464\" y=\"46.243508\" style=\"fill: #1f77b4; stroke: #1f77b4\"/>\n     <use xlink:href=\"#mf4b2810a5e\" x=\"163.672383\" y=\"100.963934\" style=\"fill: #1f77b4; stroke: #1f77b4\"/>\n     <use xlink:href=\"#mf4b2810a5e\" x=\"110.414939\" y=\"66.233111\" style=\"fill: #1f77b4; stroke: #1f77b4\"/>\n     <use xlink:href=\"#mf4b2810a5e\" x=\"165.002043\" y=\"76.476442\" style=\"fill: #1f77b4; stroke: #1f77b4\"/>\n     <use xlink:href=\"#mf4b2810a5e\" x=\"147.177075\" y=\"89.229559\" style=\"fill: #1f77b4; stroke: #1f77b4\"/>\n     <use xlink:href=\"#mf4b2810a5e\" x=\"178.016983\" y=\"114.157855\" style=\"fill: #1f77b4; stroke: #1f77b4\"/>\n     <use xlink:href=\"#mf4b2810a5e\" x=\"178.801186\" y=\"96.826319\" style=\"fill: #1f77b4; stroke: #1f77b4\"/>\n     <use xlink:href=\"#mf4b2810a5e\" x=\"167.301402\" y=\"113.29032\" style=\"fill: #1f77b4; stroke: #1f77b4\"/>\n     <use xlink:href=\"#mf4b2810a5e\" x=\"125.182315\" y=\"72.397298\" style=\"fill: #1f77b4; stroke: #1f77b4\"/>\n     <use xlink:href=\"#mf4b2810a5e\" x=\"163.436287\" y=\"131.345122\" style=\"fill: #1f77b4; stroke: #1f77b4\"/>\n     <use xlink:href=\"#mf4b2810a5e\" x=\"132.414014\" y=\"73.983893\" style=\"fill: #1f77b4; stroke: #1f77b4\"/>\n     <use xlink:href=\"#mf4b2810a5e\" x=\"74.907599\" y=\"39.587812\" style=\"fill: #1f77b4; stroke: #1f77b4\"/>\n     <use xlink:href=\"#mf4b2810a5e\" x=\"144.227361\" y=\"76.981708\" style=\"fill: #1f77b4; stroke: #1f77b4\"/>\n     <use xlink:href=\"#mf4b2810a5e\" x=\"137.636353\" y=\"89.165855\" style=\"fill: #1f77b4; stroke: #1f77b4\"/>\n     <use xlink:href=\"#mf4b2810a5e\" x=\"157.444182\" y=\"96.30339\" style=\"fill: #1f77b4; stroke: #1f77b4\"/>\n     <use xlink:href=\"#mf4b2810a5e\" x=\"117.834515\" y=\"83.318411\" style=\"fill: #1f77b4; stroke: #1f77b4\"/>\n     <use xlink:href=\"#mf4b2810a5e\" x=\"113.922391\" y=\"52.902378\" style=\"fill: #1f77b4; stroke: #1f77b4\"/>\n     <use xlink:href=\"#mf4b2810a5e\" x=\"67.851182\" y=\"33.114184\" style=\"fill: #1f77b4; stroke: #1f77b4\"/>\n     <use xlink:href=\"#mf4b2810a5e\" x=\"154.99883\" y=\"102.05412\" style=\"fill: #1f77b4; stroke: #1f77b4\"/>\n     <use xlink:href=\"#mf4b2810a5e\" x=\"119.792154\" y=\"104.402018\" style=\"fill: #1f77b4; stroke: #1f77b4\"/>\n     <use xlink:href=\"#mf4b2810a5e\" x=\"193.4011\" y=\"129.31931\" style=\"fill: #1f77b4; stroke: #1f77b4\"/>\n     <use xlink:href=\"#mf4b2810a5e\" x=\"173.171525\" y=\"111.284376\" style=\"fill: #1f77b4; stroke: #1f77b4\"/>\n     <use xlink:href=\"#mf4b2810a5e\" x=\"146.173629\" y=\"92.077046\" style=\"fill: #1f77b4; stroke: #1f77b4\"/>\n     <use xlink:href=\"#mf4b2810a5e\" x=\"186.253111\" y=\"118.665092\" style=\"fill: #1f77b4; stroke: #1f77b4\"/>\n     <use xlink:href=\"#mf4b2810a5e\" x=\"122.70162\" y=\"56.554252\" style=\"fill: #1f77b4; stroke: #1f77b4\"/>\n     <use xlink:href=\"#mf4b2810a5e\" x=\"123.1817\" y=\"92.939336\" style=\"fill: #1f77b4; stroke: #1f77b4\"/>\n     <use xlink:href=\"#mf4b2810a5e\" x=\"175.82074\" y=\"106.51301\" style=\"fill: #1f77b4; stroke: #1f77b4\"/>\n     <use xlink:href=\"#mf4b2810a5e\" x=\"93.561504\" y=\"63.79738\" style=\"fill: #1f77b4; stroke: #1f77b4\"/>\n     <use xlink:href=\"#mf4b2810a5e\" x=\"160.75828\" y=\"103.998973\" style=\"fill: #1f77b4; stroke: #1f77b4\"/>\n     <use xlink:href=\"#mf4b2810a5e\" x=\"140.8121\" y=\"72.409226\" style=\"fill: #1f77b4; stroke: #1f77b4\"/>\n     <use xlink:href=\"#mf4b2810a5e\" x=\"100.088245\" y=\"51.359935\" style=\"fill: #1f77b4; stroke: #1f77b4\"/>\n     <use xlink:href=\"#mf4b2810a5e\" x=\"166.429429\" y=\"111.976094\" style=\"fill: #1f77b4; stroke: #1f77b4\"/>\n     <use xlink:href=\"#mf4b2810a5e\" x=\"175.556609\" y=\"102.69792\" style=\"fill: #1f77b4; stroke: #1f77b4\"/>\n     <use xlink:href=\"#mf4b2810a5e\" x=\"135.891197\" y=\"59.279221\" style=\"fill: #1f77b4; stroke: #1f77b4\"/>\n     <use xlink:href=\"#mf4b2810a5e\" x=\"99.86982\" y=\"63.229867\" style=\"fill: #1f77b4; stroke: #1f77b4\"/>\n     <use xlink:href=\"#mf4b2810a5e\" x=\"109.237805\" y=\"74.114576\" style=\"fill: #1f77b4; stroke: #1f77b4\"/>\n     <use xlink:href=\"#mf4b2810a5e\" x=\"94.219201\" y=\"55.097039\" style=\"fill: #1f77b4; stroke: #1f77b4\"/>\n     <use xlink:href=\"#mf4b2810a5e\" x=\"132.684465\" y=\"89.24962\" style=\"fill: #1f77b4; stroke: #1f77b4\"/>\n     <use xlink:href=\"#mf4b2810a5e\" x=\"154.76542\" y=\"92.510346\" style=\"fill: #1f77b4; stroke: #1f77b4\"/>\n     <use xlink:href=\"#mf4b2810a5e\" x=\"126.286249\" y=\"70.77323\" style=\"fill: #1f77b4; stroke: #1f77b4\"/>\n     <use xlink:href=\"#mf4b2810a5e\" x=\"142.805499\" y=\"88.819412\" style=\"fill: #1f77b4; stroke: #1f77b4\"/>\n     <use xlink:href=\"#mf4b2810a5e\" x=\"171.046237\" y=\"120.762929\" style=\"fill: #1f77b4; stroke: #1f77b4\"/>\n     <use xlink:href=\"#mf4b2810a5e\" x=\"149.561822\" y=\"78.169994\" style=\"fill: #1f77b4; stroke: #1f77b4\"/>\n     <use xlink:href=\"#mf4b2810a5e\" x=\"81.827557\" y=\"16.095905\" style=\"fill: #1f77b4; stroke: #1f77b4\"/>\n     <use xlink:href=\"#mf4b2810a5e\" x=\"124.042169\" y=\"61.171249\" style=\"fill: #1f77b4; stroke: #1f77b4\"/>\n     <use xlink:href=\"#mf4b2810a5e\" x=\"114.359167\" y=\"72.049292\" style=\"fill: #1f77b4; stroke: #1f77b4\"/>\n     <use xlink:href=\"#mf4b2810a5e\" x=\"130.369051\" y=\"89.274668\" style=\"fill: #1f77b4; stroke: #1f77b4\"/>\n     <use xlink:href=\"#mf4b2810a5e\" x=\"116.013625\" y=\"79.445097\" style=\"fill: #1f77b4; stroke: #1f77b4\"/>\n     <use xlink:href=\"#mf4b2810a5e\" x=\"155.891366\" y=\"103.656587\" style=\"fill: #1f77b4; stroke: #1f77b4\"/>\n     <use xlink:href=\"#mf4b2810a5e\" x=\"116.576704\" y=\"95.995813\" style=\"fill: #1f77b4; stroke: #1f77b4\"/>\n     <use xlink:href=\"#mf4b2810a5e\" x=\"88.241499\" y=\"32.122106\" style=\"fill: #1f77b4; stroke: #1f77b4\"/>\n     <use xlink:href=\"#mf4b2810a5e\" x=\"90.853406\" y=\"41.571053\" style=\"fill: #1f77b4; stroke: #1f77b4\"/>\n     <use xlink:href=\"#mf4b2810a5e\" x=\"105.223606\" y=\"42.565297\" style=\"fill: #1f77b4; stroke: #1f77b4\"/>\n     <use xlink:href=\"#mf4b2810a5e\" x=\"121.111396\" y=\"75.262292\" style=\"fill: #1f77b4; stroke: #1f77b4\"/>\n     <use xlink:href=\"#mf4b2810a5e\" x=\"163.371338\" y=\"104.589352\" style=\"fill: #1f77b4; stroke: #1f77b4\"/>\n     <use xlink:href=\"#mf4b2810a5e\" x=\"134.188119\" y=\"76.12614\" style=\"fill: #1f77b4; stroke: #1f77b4\"/>\n     <use xlink:href=\"#mf4b2810a5e\" x=\"196.358859\" y=\"128.905909\" style=\"fill: #1f77b4; stroke: #1f77b4\"/>\n     <use xlink:href=\"#mf4b2810a5e\" x=\"144.668789\" y=\"83.453994\" style=\"fill: #1f77b4; stroke: #1f77b4\"/>\n     <use xlink:href=\"#mf4b2810a5e\" x=\"107.150814\" y=\"90.658662\" style=\"fill: #1f77b4; stroke: #1f77b4\"/>\n     <use xlink:href=\"#mf4b2810a5e\" x=\"139.097343\" y=\"92.4531\" style=\"fill: #1f77b4; stroke: #1f77b4\"/>\n     <use xlink:href=\"#mf4b2810a5e\" x=\"148.305114\" y=\"78.761532\" style=\"fill: #1f77b4; stroke: #1f77b4\"/>\n     <use xlink:href=\"#mf4b2810a5e\" x=\"75.225861\" y=\"35.794919\" style=\"fill: #1f77b4; stroke: #1f77b4\"/>\n     <use xlink:href=\"#mf4b2810a5e\" x=\"121.314934\" y=\"79.282401\" style=\"fill: #1f77b4; stroke: #1f77b4\"/>\n     <use xlink:href=\"#mf4b2810a5e\" x=\"142.976942\" y=\"87.734747\" style=\"fill: #1f77b4; stroke: #1f77b4\"/>\n     <use xlink:href=\"#mf4b2810a5e\" x=\"83.261569\" y=\"59.302867\" style=\"fill: #1f77b4; stroke: #1f77b4\"/>\n     <use xlink:href=\"#mf4b2810a5e\" x=\"152.056247\" y=\"87.188\" style=\"fill: #1f77b4; stroke: #1f77b4\"/>\n     <use xlink:href=\"#mf4b2810a5e\" x=\"143.754274\" y=\"83.170707\" style=\"fill: #1f77b4; stroke: #1f77b4\"/>\n     <use xlink:href=\"#mf4b2810a5e\" x=\"66.285905\" y=\"38.328942\" style=\"fill: #1f77b4; stroke: #1f77b4\"/>\n     <use xlink:href=\"#mf4b2810a5e\" x=\"197.051089\" y=\"114.592426\" style=\"fill: #1f77b4; stroke: #1f77b4\"/>\n     <use xlink:href=\"#mf4b2810a5e\" x=\"168.963152\" y=\"87.265984\" style=\"fill: #1f77b4; stroke: #1f77b4\"/>\n     <use xlink:href=\"#mf4b2810a5e\" x=\"115.243817\" y=\"62.652945\" style=\"fill: #1f77b4; stroke: #1f77b4\"/>\n     <use xlink:href=\"#mf4b2810a5e\" x=\"137.061367\" y=\"87.131781\" style=\"fill: #1f77b4; stroke: #1f77b4\"/>\n     <use xlink:href=\"#mf4b2810a5e\" x=\"91.716022\" y=\"61.043836\" style=\"fill: #1f77b4; stroke: #1f77b4\"/>\n     <use xlink:href=\"#mf4b2810a5e\" x=\"146.996317\" y=\"107.322872\" style=\"fill: #1f77b4; stroke: #1f77b4\"/>\n     <use xlink:href=\"#mf4b2810a5e\" x=\"134.320671\" y=\"95.042735\" style=\"fill: #1f77b4; stroke: #1f77b4\"/>\n     <use xlink:href=\"#mf4b2810a5e\" x=\"116.107997\" y=\"67.887396\" style=\"fill: #1f77b4; stroke: #1f77b4\"/>\n     <use xlink:href=\"#mf4b2810a5e\" x=\"104.088812\" y=\"57.323418\" style=\"fill: #1f77b4; stroke: #1f77b4\"/>\n     <use xlink:href=\"#mf4b2810a5e\" x=\"138.786018\" y=\"92.458262\" style=\"fill: #1f77b4; stroke: #1f77b4\"/>\n     <use xlink:href=\"#mf4b2810a5e\" x=\"141.531977\" y=\"74.570812\" style=\"fill: #1f77b4; stroke: #1f77b4\"/>\n     <use xlink:href=\"#mf4b2810a5e\" x=\"63.35035\" y=\"46.415885\" style=\"fill: #1f77b4; stroke: #1f77b4\"/>\n     <use xlink:href=\"#mf4b2810a5e\" x=\"155.009678\" y=\"99.380607\" style=\"fill: #1f77b4; stroke: #1f77b4\"/>\n     <use xlink:href=\"#mf4b2810a5e\" x=\"124.222921\" y=\"70.643934\" style=\"fill: #1f77b4; stroke: #1f77b4\"/>\n     <use xlink:href=\"#mf4b2810a5e\" x=\"146.407569\" y=\"97.400699\" style=\"fill: #1f77b4; stroke: #1f77b4\"/>\n     <use xlink:href=\"#mf4b2810a5e\" x=\"107.893331\" y=\"70.416678\" style=\"fill: #1f77b4; stroke: #1f77b4\"/>\n     <use xlink:href=\"#mf4b2810a5e\" x=\"128.30333\" y=\"65.178876\" style=\"fill: #1f77b4; stroke: #1f77b4\"/>\n     <use xlink:href=\"#mf4b2810a5e\" x=\"134.092683\" y=\"70.551279\" style=\"fill: #1f77b4; stroke: #1f77b4\"/>\n     <use xlink:href=\"#mf4b2810a5e\" x=\"190.598403\" y=\"127.364672\" style=\"fill: #1f77b4; stroke: #1f77b4\"/>\n     <use xlink:href=\"#mf4b2810a5e\" x=\"40.591166\" y=\"15.798733\" style=\"fill: #1f77b4; stroke: #1f77b4\"/>\n     <use xlink:href=\"#mf4b2810a5e\" x=\"189.44675\" y=\"95.130727\" style=\"fill: #1f77b4; stroke: #1f77b4\"/>\n     <use xlink:href=\"#mf4b2810a5e\" x=\"123.561382\" y=\"52.636546\" style=\"fill: #1f77b4; stroke: #1f77b4\"/>\n     <use xlink:href=\"#mf4b2810a5e\" x=\"126.457859\" y=\"66.866833\" style=\"fill: #1f77b4; stroke: #1f77b4\"/>\n     <use xlink:href=\"#mf4b2810a5e\" x=\"87.557821\" y=\"36.409483\" style=\"fill: #1f77b4; stroke: #1f77b4\"/>\n     <use xlink:href=\"#mf4b2810a5e\" x=\"132.038639\" y=\"90.641563\" style=\"fill: #1f77b4; stroke: #1f77b4\"/>\n     <use xlink:href=\"#mf4b2810a5e\" x=\"102.741166\" y=\"64.728511\" style=\"fill: #1f77b4; stroke: #1f77b4\"/>\n     <use xlink:href=\"#mf4b2810a5e\" x=\"118.389264\" y=\"52.154208\" style=\"fill: #1f77b4; stroke: #1f77b4\"/>\n     <use xlink:href=\"#mf4b2810a5e\" x=\"161.792062\" y=\"98.945824\" style=\"fill: #1f77b4; stroke: #1f77b4\"/>\n     <use xlink:href=\"#mf4b2810a5e\" x=\"144.805657\" y=\"92.285561\" style=\"fill: #1f77b4; stroke: #1f77b4\"/>\n     <use xlink:href=\"#mf4b2810a5e\" x=\"89.171944\" y=\"68.842639\" style=\"fill: #1f77b4; stroke: #1f77b4\"/>\n     <use xlink:href=\"#mf4b2810a5e\" x=\"129.554715\" y=\"71.846619\" style=\"fill: #1f77b4; stroke: #1f77b4\"/>\n     <use xlink:href=\"#mf4b2810a5e\" x=\"103.735326\" y=\"57.538835\" style=\"fill: #1f77b4; stroke: #1f77b4\"/>\n     <use xlink:href=\"#mf4b2810a5e\" x=\"91.71908\" y=\"62.441889\" style=\"fill: #1f77b4; stroke: #1f77b4\"/>\n     <use xlink:href=\"#mf4b2810a5e\" x=\"182.925893\" y=\"116.969328\" style=\"fill: #1f77b4; stroke: #1f77b4\"/>\n     <use xlink:href=\"#mf4b2810a5e\" x=\"109.289531\" y=\"66.270569\" style=\"fill: #1f77b4; stroke: #1f77b4\"/>\n     <use xlink:href=\"#mf4b2810a5e\" x=\"136.268136\" y=\"103.212078\" style=\"fill: #1f77b4; stroke: #1f77b4\"/>\n     <use xlink:href=\"#mf4b2810a5e\" x=\"94.041494\" y=\"60.673713\" style=\"fill: #1f77b4; stroke: #1f77b4\"/>\n     <use xlink:href=\"#mf4b2810a5e\" x=\"101.067703\" y=\"64.960656\" style=\"fill: #1f77b4; stroke: #1f77b4\"/>\n     <use xlink:href=\"#mf4b2810a5e\" x=\"117.451093\" y=\"42.193419\" style=\"fill: #1f77b4; stroke: #1f77b4\"/>\n     <use xlink:href=\"#mf4b2810a5e\" x=\"144.082339\" y=\"108.13255\" style=\"fill: #1f77b4; stroke: #1f77b4\"/>\n     <use xlink:href=\"#mf4b2810a5e\" x=\"125.008678\" y=\"80.063467\" style=\"fill: #1f77b4; stroke: #1f77b4\"/>\n     <use xlink:href=\"#mf4b2810a5e\" x=\"109.673852\" y=\"62.231702\" style=\"fill: #1f77b4; stroke: #1f77b4\"/>\n     <use xlink:href=\"#mf4b2810a5e\" x=\"147.647551\" y=\"91.360198\" style=\"fill: #1f77b4; stroke: #1f77b4\"/>\n     <use xlink:href=\"#mf4b2810a5e\" x=\"104.394944\" y=\"70.472702\" style=\"fill: #1f77b4; stroke: #1f77b4\"/>\n     <use xlink:href=\"#mf4b2810a5e\" x=\"126.289631\" y=\"57.526032\" style=\"fill: #1f77b4; stroke: #1f77b4\"/>\n     <use xlink:href=\"#mf4b2810a5e\" x=\"190.18433\" y=\"119.613129\" style=\"fill: #1f77b4; stroke: #1f77b4\"/>\n     <use xlink:href=\"#mf4b2810a5e\" x=\"134.50939\" y=\"81.237924\" style=\"fill: #1f77b4; stroke: #1f77b4\"/>\n     <use xlink:href=\"#mf4b2810a5e\" x=\"134.945484\" y=\"102.279058\" style=\"fill: #1f77b4; stroke: #1f77b4\"/>\n     <use xlink:href=\"#mf4b2810a5e\" x=\"109.896384\" y=\"81.541173\" style=\"fill: #1f77b4; stroke: #1f77b4\"/>\n     <use xlink:href=\"#mf4b2810a5e\" x=\"95.365316\" y=\"61.557584\" style=\"fill: #1f77b4; stroke: #1f77b4\"/>\n     <use xlink:href=\"#mf4b2810a5e\" x=\"161.560753\" y=\"101.63046\" style=\"fill: #1f77b4; stroke: #1f77b4\"/>\n     <use xlink:href=\"#mf4b2810a5e\" x=\"169.613362\" y=\"106.584285\" style=\"fill: #1f77b4; stroke: #1f77b4\"/>\n     <use xlink:href=\"#mf4b2810a5e\" x=\"133.653315\" y=\"89.892557\" style=\"fill: #1f77b4; stroke: #1f77b4\"/>\n     <use xlink:href=\"#mf4b2810a5e\" x=\"101.996923\" y=\"67.994132\" style=\"fill: #1f77b4; stroke: #1f77b4\"/>\n     <use xlink:href=\"#mf4b2810a5e\" x=\"134.301856\" y=\"57.517121\" style=\"fill: #1f77b4; stroke: #1f77b4\"/>\n     <use xlink:href=\"#mf4b2810a5e\" x=\"85.521214\" y=\"56.842493\" style=\"fill: #1f77b4; stroke: #1f77b4\"/>\n     <use xlink:href=\"#mf4b2810a5e\" x=\"110.16813\" y=\"66.749657\" style=\"fill: #1f77b4; stroke: #1f77b4\"/>\n     <use xlink:href=\"#mf4b2810a5e\" x=\"142.924401\" y=\"99.43739\" style=\"fill: #1f77b4; stroke: #1f77b4\"/>\n     <use xlink:href=\"#mf4b2810a5e\" x=\"88.661931\" y=\"50.869447\" style=\"fill: #1f77b4; stroke: #1f77b4\"/>\n     <use xlink:href=\"#mf4b2810a5e\" x=\"130.659076\" y=\"78.027096\" style=\"fill: #1f77b4; stroke: #1f77b4\"/>\n     <use xlink:href=\"#mf4b2810a5e\" x=\"152.673879\" y=\"79.956745\" style=\"fill: #1f77b4; stroke: #1f77b4\"/>\n     <use xlink:href=\"#mf4b2810a5e\" x=\"165.037377\" y=\"92.367713\" style=\"fill: #1f77b4; stroke: #1f77b4\"/>\n     <use xlink:href=\"#mf4b2810a5e\" x=\"130.051662\" y=\"76.336217\" style=\"fill: #1f77b4; stroke: #1f77b4\"/>\n     <use xlink:href=\"#mf4b2810a5e\" x=\"119.561622\" y=\"77.899682\" style=\"fill: #1f77b4; stroke: #1f77b4\"/>\n     <use xlink:href=\"#mf4b2810a5e\" x=\"173.749526\" y=\"118.032643\" style=\"fill: #1f77b4; stroke: #1f77b4\"/>\n     <use xlink:href=\"#mf4b2810a5e\" x=\"137.00586\" y=\"103.643743\" style=\"fill: #1f77b4; stroke: #1f77b4\"/>\n     <use xlink:href=\"#mf4b2810a5e\" x=\"121.599965\" y=\"69.197457\" style=\"fill: #1f77b4; stroke: #1f77b4\"/>\n     <use xlink:href=\"#mf4b2810a5e\" x=\"130.770134\" y=\"72.487853\" style=\"fill: #1f77b4; stroke: #1f77b4\"/>\n     <use xlink:href=\"#mf4b2810a5e\" x=\"168.440701\" y=\"83.156337\" style=\"fill: #1f77b4; stroke: #1f77b4\"/>\n     <use xlink:href=\"#mf4b2810a5e\" x=\"208.386268\" y=\"112.608011\" style=\"fill: #1f77b4; stroke: #1f77b4\"/>\n     <use xlink:href=\"#mf4b2810a5e\" x=\"106.106622\" y=\"63.71208\" style=\"fill: #1f77b4; stroke: #1f77b4\"/>\n     <use xlink:href=\"#mf4b2810a5e\" x=\"121.839316\" y=\"75.576\" style=\"fill: #1f77b4; stroke: #1f77b4\"/>\n     <use xlink:href=\"#mf4b2810a5e\" x=\"144.071038\" y=\"105.181715\" style=\"fill: #1f77b4; stroke: #1f77b4\"/>\n     <use xlink:href=\"#mf4b2810a5e\" x=\"108.417732\" y=\"71.369856\" style=\"fill: #1f77b4; stroke: #1f77b4\"/>\n     <use xlink:href=\"#mf4b2810a5e\" x=\"130.536657\" y=\"84.917107\" style=\"fill: #1f77b4; stroke: #1f77b4\"/>\n     <use xlink:href=\"#mf4b2810a5e\" x=\"139.556375\" y=\"62.24423\" style=\"fill: #1f77b4; stroke: #1f77b4\"/>\n     <use xlink:href=\"#mf4b2810a5e\" x=\"175.950673\" y=\"109.574053\" style=\"fill: #1f77b4; stroke: #1f77b4\"/>\n     <use xlink:href=\"#mf4b2810a5e\" x=\"118.344044\" y=\"72.571343\" style=\"fill: #1f77b4; stroke: #1f77b4\"/>\n     <use xlink:href=\"#mf4b2810a5e\" x=\"80.85749\" y=\"45.207521\" style=\"fill: #1f77b4; stroke: #1f77b4\"/>\n     <use xlink:href=\"#mf4b2810a5e\" x=\"109.219574\" y=\"65.672413\" style=\"fill: #1f77b4; stroke: #1f77b4\"/>\n     <use xlink:href=\"#mf4b2810a5e\" x=\"109.732947\" y=\"69.938441\" style=\"fill: #1f77b4; stroke: #1f77b4\"/>\n     <use xlink:href=\"#mf4b2810a5e\" x=\"147.410448\" y=\"99.093744\" style=\"fill: #1f77b4; stroke: #1f77b4\"/>\n     <use xlink:href=\"#mf4b2810a5e\" x=\"125.180386\" y=\"61.246736\" style=\"fill: #1f77b4; stroke: #1f77b4\"/>\n     <use xlink:href=\"#mf4b2810a5e\" x=\"130.039951\" y=\"94.24894\" style=\"fill: #1f77b4; stroke: #1f77b4\"/>\n     <use xlink:href=\"#mf4b2810a5e\" x=\"164.837195\" y=\"115.061555\" style=\"fill: #1f77b4; stroke: #1f77b4\"/>\n     <use xlink:href=\"#mf4b2810a5e\" x=\"132.960339\" y=\"106.71323\" style=\"fill: #1f77b4; stroke: #1f77b4\"/>\n     <use xlink:href=\"#mf4b2810a5e\" x=\"96.68191\" y=\"44.784986\" style=\"fill: #1f77b4; stroke: #1f77b4\"/>\n     <use xlink:href=\"#mf4b2810a5e\" x=\"129.719331\" y=\"65.13916\" style=\"fill: #1f77b4; stroke: #1f77b4\"/>\n     <use xlink:href=\"#mf4b2810a5e\" x=\"152.713731\" y=\"104.692798\" style=\"fill: #1f77b4; stroke: #1f77b4\"/>\n     <use xlink:href=\"#mf4b2810a5e\" x=\"69.503191\" y=\"28.463489\" style=\"fill: #1f77b4; stroke: #1f77b4\"/>\n     <use xlink:href=\"#mf4b2810a5e\" x=\"85.704737\" y=\"44.085753\" style=\"fill: #1f77b4; stroke: #1f77b4\"/>\n     <use xlink:href=\"#mf4b2810a5e\" x=\"168.250849\" y=\"112.961406\" style=\"fill: #1f77b4; stroke: #1f77b4\"/>\n     <use xlink:href=\"#mf4b2810a5e\" x=\"148.899361\" y=\"107.469337\" style=\"fill: #1f77b4; stroke: #1f77b4\"/>\n     <use xlink:href=\"#mf4b2810a5e\" x=\"166.336536\" y=\"111.269493\" style=\"fill: #1f77b4; stroke: #1f77b4\"/>\n     <use xlink:href=\"#mf4b2810a5e\" x=\"100.429909\" y=\"57.095733\" style=\"fill: #1f77b4; stroke: #1f77b4\"/>\n     <use xlink:href=\"#mf4b2810a5e\" x=\"105.607113\" y=\"74.36092\" style=\"fill: #1f77b4; stroke: #1f77b4\"/>\n     <use xlink:href=\"#mf4b2810a5e\" x=\"122.884469\" y=\"96.018784\" style=\"fill: #1f77b4; stroke: #1f77b4\"/>\n     <use xlink:href=\"#mf4b2810a5e\" x=\"73.890764\" y=\"37.688881\" style=\"fill: #1f77b4; stroke: #1f77b4\"/>\n     <use xlink:href=\"#mf4b2810a5e\" x=\"141.985786\" y=\"119.439152\" style=\"fill: #1f77b4; stroke: #1f77b4\"/>\n     <use xlink:href=\"#mf4b2810a5e\" x=\"103.493611\" y=\"72.6284\" style=\"fill: #1f77b4; stroke: #1f77b4\"/>\n     <use xlink:href=\"#mf4b2810a5e\" x=\"179.749155\" y=\"121.198491\" style=\"fill: #1f77b4; stroke: #1f77b4\"/>\n     <use xlink:href=\"#mf4b2810a5e\" x=\"146.733819\" y=\"77.296216\" style=\"fill: #1f77b4; stroke: #1f77b4\"/>\n     <use xlink:href=\"#mf4b2810a5e\" x=\"130.996076\" y=\"74.251462\" style=\"fill: #1f77b4; stroke: #1f77b4\"/>\n     <use xlink:href=\"#mf4b2810a5e\" x=\"165.128337\" y=\"99.728312\" style=\"fill: #1f77b4; stroke: #1f77b4\"/>\n     <use xlink:href=\"#mf4b2810a5e\" x=\"63.058027\" y=\"34.782893\" style=\"fill: #1f77b4; stroke: #1f77b4\"/>\n     <use xlink:href=\"#mf4b2810a5e\" x=\"74.622194\" y=\"42.503577\" style=\"fill: #1f77b4; stroke: #1f77b4\"/>\n     <use xlink:href=\"#mf4b2810a5e\" x=\"120.260757\" y=\"103.353409\" style=\"fill: #1f77b4; stroke: #1f77b4\"/>\n     <use xlink:href=\"#mf4b2810a5e\" x=\"182.271109\" y=\"117.160367\" style=\"fill: #1f77b4; stroke: #1f77b4\"/>\n     <use xlink:href=\"#mf4b2810a5e\" x=\"166.945779\" y=\"126.230155\" style=\"fill: #1f77b4; stroke: #1f77b4\"/>\n     <use xlink:href=\"#mf4b2810a5e\" x=\"160.10124\" y=\"125.580045\" style=\"fill: #1f77b4; stroke: #1f77b4\"/>\n     <use xlink:href=\"#mf4b2810a5e\" x=\"143.215582\" y=\"92.110866\" style=\"fill: #1f77b4; stroke: #1f77b4\"/>\n     <use xlink:href=\"#mf4b2810a5e\" x=\"96.056022\" y=\"38.718369\" style=\"fill: #1f77b4; stroke: #1f77b4\"/>\n     <use xlink:href=\"#mf4b2810a5e\" x=\"96.328393\" y=\"59.442922\" style=\"fill: #1f77b4; stroke: #1f77b4\"/>\n     <use xlink:href=\"#mf4b2810a5e\" x=\"120.471816\" y=\"73.457973\" style=\"fill: #1f77b4; stroke: #1f77b4\"/>\n     <use xlink:href=\"#mf4b2810a5e\" x=\"203.055152\" y=\"125.154539\" style=\"fill: #1f77b4; stroke: #1f77b4\"/>\n     <use xlink:href=\"#mf4b2810a5e\" x=\"137.575676\" y=\"100.935272\" style=\"fill: #1f77b4; stroke: #1f77b4\"/>\n     <use xlink:href=\"#mf4b2810a5e\" x=\"157.513441\" y=\"96.198144\" style=\"fill: #1f77b4; stroke: #1f77b4\"/>\n     <use xlink:href=\"#mf4b2810a5e\" x=\"110.829232\" y=\"66.327006\" style=\"fill: #1f77b4; stroke: #1f77b4\"/>\n     <use xlink:href=\"#mf4b2810a5e\" x=\"170.380497\" y=\"87.75402\" style=\"fill: #1f77b4; stroke: #1f77b4\"/>\n     <use xlink:href=\"#mf4b2810a5e\" x=\"135.773531\" y=\"75.511193\" style=\"fill: #1f77b4; stroke: #1f77b4\"/>\n     <use xlink:href=\"#mf4b2810a5e\" x=\"118.172786\" y=\"65.588023\" style=\"fill: #1f77b4; stroke: #1f77b4\"/>\n     <use xlink:href=\"#mf4b2810a5e\" x=\"124.744303\" y=\"66.235683\" style=\"fill: #1f77b4; stroke: #1f77b4\"/>\n     <use xlink:href=\"#mf4b2810a5e\" x=\"140.149091\" y=\"71.834054\" style=\"fill: #1f77b4; stroke: #1f77b4\"/>\n     <use xlink:href=\"#mf4b2810a5e\" x=\"83.364028\" y=\"54.21252\" style=\"fill: #1f77b4; stroke: #1f77b4\"/>\n     <use xlink:href=\"#mf4b2810a5e\" x=\"94.486243\" y=\"61.897258\" style=\"fill: #1f77b4; stroke: #1f77b4\"/>\n     <use xlink:href=\"#mf4b2810a5e\" x=\"153.717653\" y=\"81.510234\" style=\"fill: #1f77b4; stroke: #1f77b4\"/>\n     <use xlink:href=\"#mf4b2810a5e\" x=\"96.266306\" y=\"44.431834\" style=\"fill: #1f77b4; stroke: #1f77b4\"/>\n     <use xlink:href=\"#mf4b2810a5e\" x=\"143.578507\" y=\"80.660168\" style=\"fill: #1f77b4; stroke: #1f77b4\"/>\n     <use xlink:href=\"#mf4b2810a5e\" x=\"178.858542\" y=\"116.473203\" style=\"fill: #1f77b4; stroke: #1f77b4\"/>\n     <use xlink:href=\"#mf4b2810a5e\" x=\"132.530531\" y=\"96.200119\" style=\"fill: #1f77b4; stroke: #1f77b4\"/>\n     <use xlink:href=\"#mf4b2810a5e\" x=\"178.016576\" y=\"117.694604\" style=\"fill: #1f77b4; stroke: #1f77b4\"/>\n     <use xlink:href=\"#mf4b2810a5e\" x=\"152.040606\" y=\"94.093074\" style=\"fill: #1f77b4; stroke: #1f77b4\"/>\n     <use xlink:href=\"#mf4b2810a5e\" x=\"119.805343\" y=\"84.847824\" style=\"fill: #1f77b4; stroke: #1f77b4\"/>\n     <use xlink:href=\"#mf4b2810a5e\" x=\"133.026858\" y=\"67.925487\" style=\"fill: #1f77b4; stroke: #1f77b4\"/>\n     <use xlink:href=\"#mf4b2810a5e\" x=\"68.526529\" y=\"31.751502\" style=\"fill: #1f77b4; stroke: #1f77b4\"/>\n     <use xlink:href=\"#mf4b2810a5e\" x=\"103.167365\" y=\"67.456086\" style=\"fill: #1f77b4; stroke: #1f77b4\"/>\n     <use xlink:href=\"#mf4b2810a5e\" x=\"129.497405\" y=\"87.280851\" style=\"fill: #1f77b4; stroke: #1f77b4\"/>\n     <use xlink:href=\"#mf4b2810a5e\" x=\"117.335121\" y=\"86.266645\" style=\"fill: #1f77b4; stroke: #1f77b4\"/>\n     <use xlink:href=\"#mf4b2810a5e\" x=\"98.267344\" y=\"53.335298\" style=\"fill: #1f77b4; stroke: #1f77b4\"/>\n     <use xlink:href=\"#mf4b2810a5e\" x=\"75.117984\" y=\"40.461258\" style=\"fill: #1f77b4; stroke: #1f77b4\"/>\n     <use xlink:href=\"#mf4b2810a5e\" x=\"91.614197\" y=\"62.502674\" style=\"fill: #1f77b4; stroke: #1f77b4\"/>\n     <use xlink:href=\"#mf4b2810a5e\" x=\"181.148848\" y=\"118.565604\" style=\"fill: #1f77b4; stroke: #1f77b4\"/>\n     <use xlink:href=\"#mf4b2810a5e\" x=\"180.109197\" y=\"106.257909\" style=\"fill: #1f77b4; stroke: #1f77b4\"/>\n     <use xlink:href=\"#mf4b2810a5e\" x=\"166.357186\" y=\"111.718976\" style=\"fill: #1f77b4; stroke: #1f77b4\"/>\n     <use xlink:href=\"#mf4b2810a5e\" x=\"173.286797\" y=\"114.097928\" style=\"fill: #1f77b4; stroke: #1f77b4\"/>\n     <use xlink:href=\"#mf4b2810a5e\" x=\"109.224125\" y=\"86.37977\" style=\"fill: #1f77b4; stroke: #1f77b4\"/>\n     <use xlink:href=\"#mf4b2810a5e\" x=\"149.485838\" y=\"115.614318\" style=\"fill: #1f77b4; stroke: #1f77b4\"/>\n     <use xlink:href=\"#mf4b2810a5e\" x=\"140.207593\" y=\"95.740313\" style=\"fill: #1f77b4; stroke: #1f77b4\"/>\n     <use xlink:href=\"#mf4b2810a5e\" x=\"112.121773\" y=\"58.44897\" style=\"fill: #1f77b4; stroke: #1f77b4\"/>\n     <use xlink:href=\"#mf4b2810a5e\" x=\"133.390629\" y=\"64.588755\" style=\"fill: #1f77b4; stroke: #1f77b4\"/>\n     <use xlink:href=\"#mf4b2810a5e\" x=\"135.942233\" y=\"79.831565\" style=\"fill: #1f77b4; stroke: #1f77b4\"/>\n     <use xlink:href=\"#mf4b2810a5e\" x=\"168.680983\" y=\"98.781707\" style=\"fill: #1f77b4; stroke: #1f77b4\"/>\n     <use xlink:href=\"#mf4b2810a5e\" x=\"108.915532\" y=\"48.981735\" style=\"fill: #1f77b4; stroke: #1f77b4\"/>\n     <use xlink:href=\"#mf4b2810a5e\" x=\"94.645305\" y=\"60.171618\" style=\"fill: #1f77b4; stroke: #1f77b4\"/>\n     <use xlink:href=\"#mf4b2810a5e\" x=\"69.874124\" y=\"32.462487\" style=\"fill: #1f77b4; stroke: #1f77b4\"/>\n     <use xlink:href=\"#mf4b2810a5e\" x=\"177.150507\" y=\"95.509354\" style=\"fill: #1f77b4; stroke: #1f77b4\"/>\n     <use xlink:href=\"#mf4b2810a5e\" x=\"94.583733\" y=\"55.509797\" style=\"fill: #1f77b4; stroke: #1f77b4\"/>\n     <use xlink:href=\"#mf4b2810a5e\" x=\"66.354888\" y=\"34.826247\" style=\"fill: #1f77b4; stroke: #1f77b4\"/>\n     <use xlink:href=\"#mf4b2810a5e\" x=\"110.665881\" y=\"74.060282\" style=\"fill: #1f77b4; stroke: #1f77b4\"/>\n     <use xlink:href=\"#mf4b2810a5e\" x=\"114.376128\" y=\"80.056736\" style=\"fill: #1f77b4; stroke: #1f77b4\"/>\n     <use xlink:href=\"#mf4b2810a5e\" x=\"117.757484\" y=\"73.405425\" style=\"fill: #1f77b4; stroke: #1f77b4\"/>\n     <use xlink:href=\"#mf4b2810a5e\" x=\"126.639173\" y=\"74.940269\" style=\"fill: #1f77b4; stroke: #1f77b4\"/>\n     <use xlink:href=\"#mf4b2810a5e\" x=\"154.051161\" y=\"90.004512\" style=\"fill: #1f77b4; stroke: #1f77b4\"/>\n     <use xlink:href=\"#mf4b2810a5e\" x=\"99.26232\" y=\"48.951941\" style=\"fill: #1f77b4; stroke: #1f77b4\"/>\n     <use xlink:href=\"#mf4b2810a5e\" x=\"131.03731\" y=\"82.152514\" style=\"fill: #1f77b4; stroke: #1f77b4\"/>\n     <use xlink:href=\"#mf4b2810a5e\" x=\"82.811498\" y=\"70.328876\" style=\"fill: #1f77b4; stroke: #1f77b4\"/>\n     <use xlink:href=\"#mf4b2810a5e\" x=\"133.135668\" y=\"78.611246\" style=\"fill: #1f77b4; stroke: #1f77b4\"/>\n     <use xlink:href=\"#mf4b2810a5e\" x=\"61.255336\" y=\"24.293685\" style=\"fill: #1f77b4; stroke: #1f77b4\"/>\n     <use xlink:href=\"#mf4b2810a5e\" x=\"116.217458\" y=\"81.545085\" style=\"fill: #1f77b4; stroke: #1f77b4\"/>\n     <use xlink:href=\"#mf4b2810a5e\" x=\"105.654728\" y=\"64.062438\" style=\"fill: #1f77b4; stroke: #1f77b4\"/>\n     <use xlink:href=\"#mf4b2810a5e\" x=\"87.133939\" y=\"51.133929\" style=\"fill: #1f77b4; stroke: #1f77b4\"/>\n     <use xlink:href=\"#mf4b2810a5e\" x=\"165.355824\" y=\"88.507988\" style=\"fill: #1f77b4; stroke: #1f77b4\"/>\n     <use xlink:href=\"#mf4b2810a5e\" x=\"181.02233\" y=\"122.753475\" style=\"fill: #1f77b4; stroke: #1f77b4\"/>\n     <use xlink:href=\"#mf4b2810a5e\" x=\"120.894981\" y=\"89.287678\" style=\"fill: #1f77b4; stroke: #1f77b4\"/>\n     <use xlink:href=\"#mf4b2810a5e\" x=\"99.266957\" y=\"66.935573\" style=\"fill: #1f77b4; stroke: #1f77b4\"/>\n     <use xlink:href=\"#mf4b2810a5e\" x=\"157.674024\" y=\"78.66559\" style=\"fill: #1f77b4; stroke: #1f77b4\"/>\n     <use xlink:href=\"#mf4b2810a5e\" x=\"115.061781\" y=\"60.394794\" style=\"fill: #1f77b4; stroke: #1f77b4\"/>\n     <use xlink:href=\"#mf4b2810a5e\" x=\"60.648824\" y=\"29.156061\" style=\"fill: #1f77b4; stroke: #1f77b4\"/>\n     <use xlink:href=\"#mf4b2810a5e\" x=\"116.715076\" y=\"53.025244\" style=\"fill: #1f77b4; stroke: #1f77b4\"/>\n     <use xlink:href=\"#mf4b2810a5e\" x=\"160.448236\" y=\"92.707555\" style=\"fill: #1f77b4; stroke: #1f77b4\"/>\n     <use xlink:href=\"#mf4b2810a5e\" x=\"114.78981\" y=\"70.922647\" style=\"fill: #1f77b4; stroke: #1f77b4\"/>\n     <use xlink:href=\"#mf4b2810a5e\" x=\"83.209604\" y=\"70.345931\" style=\"fill: #1f77b4; stroke: #1f77b4\"/>\n     <use xlink:href=\"#mf4b2810a5e\" x=\"129.546887\" y=\"66.550944\" style=\"fill: #1f77b4; stroke: #1f77b4\"/>\n     <use xlink:href=\"#mf4b2810a5e\" x=\"124.791651\" y=\"65.460144\" style=\"fill: #1f77b4; stroke: #1f77b4\"/>\n     <use xlink:href=\"#mf4b2810a5e\" x=\"121.076425\" y=\"76.14687\" style=\"fill: #1f77b4; stroke: #1f77b4\"/>\n     <use xlink:href=\"#mf4b2810a5e\" x=\"131.856891\" y=\"76.626277\" style=\"fill: #1f77b4; stroke: #1f77b4\"/>\n     <use xlink:href=\"#mf4b2810a5e\" x=\"161.200286\" y=\"96.367129\" style=\"fill: #1f77b4; stroke: #1f77b4\"/>\n     <use xlink:href=\"#mf4b2810a5e\" x=\"137.179021\" y=\"76.601099\" style=\"fill: #1f77b4; stroke: #1f77b4\"/>\n     <use xlink:href=\"#mf4b2810a5e\" x=\"76.936468\" y=\"49.937462\" style=\"fill: #1f77b4; stroke: #1f77b4\"/>\n     <use xlink:href=\"#mf4b2810a5e\" x=\"107.882018\" y=\"82.475279\" style=\"fill: #1f77b4; stroke: #1f77b4\"/>\n     <use xlink:href=\"#mf4b2810a5e\" x=\"137.044425\" y=\"104.683779\" style=\"fill: #1f77b4; stroke: #1f77b4\"/>\n     <use xlink:href=\"#mf4b2810a5e\" x=\"154.316845\" y=\"96.317966\" style=\"fill: #1f77b4; stroke: #1f77b4\"/>\n     <use xlink:href=\"#mf4b2810a5e\" x=\"107.947163\" y=\"70.900119\" style=\"fill: #1f77b4; stroke: #1f77b4\"/>\n     <use xlink:href=\"#mf4b2810a5e\" x=\"133.278252\" y=\"88.744233\" style=\"fill: #1f77b4; stroke: #1f77b4\"/>\n     <use xlink:href=\"#mf4b2810a5e\" x=\"136.880661\" y=\"83.312386\" style=\"fill: #1f77b4; stroke: #1f77b4\"/>\n     <use xlink:href=\"#mf4b2810a5e\" x=\"98.846485\" y=\"51.926211\" style=\"fill: #1f77b4; stroke: #1f77b4\"/>\n     <use xlink:href=\"#mf4b2810a5e\" x=\"102.049267\" y=\"69.359388\" style=\"fill: #1f77b4; stroke: #1f77b4\"/>\n     <use xlink:href=\"#mf4b2810a5e\" x=\"175.793457\" y=\"129.861575\" style=\"fill: #1f77b4; stroke: #1f77b4\"/>\n     <use xlink:href=\"#mf4b2810a5e\" x=\"111.314904\" y=\"83.130662\" style=\"fill: #1f77b4; stroke: #1f77b4\"/>\n     <use xlink:href=\"#mf4b2810a5e\" x=\"158.942113\" y=\"113.126174\" style=\"fill: #1f77b4; stroke: #1f77b4\"/>\n     <use xlink:href=\"#mf4b2810a5e\" x=\"121.441895\" y=\"69.590681\" style=\"fill: #1f77b4; stroke: #1f77b4\"/>\n     <use xlink:href=\"#mf4b2810a5e\" x=\"156.383253\" y=\"74.730143\" style=\"fill: #1f77b4; stroke: #1f77b4\"/>\n     <use xlink:href=\"#mf4b2810a5e\" x=\"149.453963\" y=\"92.198327\" style=\"fill: #1f77b4; stroke: #1f77b4\"/>\n     <use xlink:href=\"#mf4b2810a5e\" x=\"98.885233\" y=\"53.011164\" style=\"fill: #1f77b4; stroke: #1f77b4\"/>\n     <use xlink:href=\"#mf4b2810a5e\" x=\"143.779442\" y=\"105.774047\" style=\"fill: #1f77b4; stroke: #1f77b4\"/>\n     <use xlink:href=\"#mf4b2810a5e\" x=\"148.287195\" y=\"104.560119\" style=\"fill: #1f77b4; stroke: #1f77b4\"/>\n     <use xlink:href=\"#mf4b2810a5e\" x=\"156.015141\" y=\"107.381643\" style=\"fill: #1f77b4; stroke: #1f77b4\"/>\n     <use xlink:href=\"#mf4b2810a5e\" x=\"127.781144\" y=\"45.417418\" style=\"fill: #1f77b4; stroke: #1f77b4\"/>\n     <use xlink:href=\"#mf4b2810a5e\" x=\"134.060728\" y=\"82.492125\" style=\"fill: #1f77b4; stroke: #1f77b4\"/>\n     <use xlink:href=\"#mf4b2810a5e\" x=\"118.071258\" y=\"77.092316\" style=\"fill: #1f77b4; stroke: #1f77b4\"/>\n     <use xlink:href=\"#mf4b2810a5e\" x=\"110.453359\" y=\"63.590737\" style=\"fill: #1f77b4; stroke: #1f77b4\"/>\n     <use xlink:href=\"#mf4b2810a5e\" x=\"125.173595\" y=\"94.293743\" style=\"fill: #1f77b4; stroke: #1f77b4\"/>\n     <use xlink:href=\"#mf4b2810a5e\" x=\"100.853578\" y=\"56.148963\" style=\"fill: #1f77b4; stroke: #1f77b4\"/>\n     <use xlink:href=\"#mf4b2810a5e\" x=\"186.353052\" y=\"126.996798\" style=\"fill: #1f77b4; stroke: #1f77b4\"/>\n     <use xlink:href=\"#mf4b2810a5e\" x=\"144.578576\" y=\"96.534309\" style=\"fill: #1f77b4; stroke: #1f77b4\"/>\n     <use xlink:href=\"#mf4b2810a5e\" x=\"109.913008\" y=\"74.872615\" style=\"fill: #1f77b4; stroke: #1f77b4\"/>\n     <use xlink:href=\"#mf4b2810a5e\" x=\"133.269629\" y=\"59.326728\" style=\"fill: #1f77b4; stroke: #1f77b4\"/>\n     <use xlink:href=\"#mf4b2810a5e\" x=\"154.535821\" y=\"107.192602\" style=\"fill: #1f77b4; stroke: #1f77b4\"/>\n     <use xlink:href=\"#mf4b2810a5e\" x=\"122.67386\" y=\"81.625397\" style=\"fill: #1f77b4; stroke: #1f77b4\"/>\n     <use xlink:href=\"#mf4b2810a5e\" x=\"101.778955\" y=\"69.515353\" style=\"fill: #1f77b4; stroke: #1f77b4\"/>\n     <use xlink:href=\"#mf4b2810a5e\" x=\"172.739172\" y=\"100.687197\" style=\"fill: #1f77b4; stroke: #1f77b4\"/>\n     <use xlink:href=\"#mf4b2810a5e\" x=\"164.081278\" y=\"99.369962\" style=\"fill: #1f77b4; stroke: #1f77b4\"/>\n     <use xlink:href=\"#mf4b2810a5e\" x=\"154.607116\" y=\"92.776198\" style=\"fill: #1f77b4; stroke: #1f77b4\"/>\n     <use xlink:href=\"#mf4b2810a5e\" x=\"92.704943\" y=\"37.815391\" style=\"fill: #1f77b4; stroke: #1f77b4\"/>\n     <use xlink:href=\"#mf4b2810a5e\" x=\"77.786528\" y=\"27.200234\" style=\"fill: #1f77b4; stroke: #1f77b4\"/>\n     <use xlink:href=\"#mf4b2810a5e\" x=\"120.226413\" y=\"57.534083\" style=\"fill: #1f77b4; stroke: #1f77b4\"/>\n     <use xlink:href=\"#mf4b2810a5e\" x=\"77.992442\" y=\"29.791332\" style=\"fill: #1f77b4; stroke: #1f77b4\"/>\n     <use xlink:href=\"#mf4b2810a5e\" x=\"159.795889\" y=\"86.747236\" style=\"fill: #1f77b4; stroke: #1f77b4\"/>\n     <use xlink:href=\"#mf4b2810a5e\" x=\"184.67676\" y=\"123.452156\" style=\"fill: #1f77b4; stroke: #1f77b4\"/>\n     <use xlink:href=\"#mf4b2810a5e\" x=\"128.117241\" y=\"65.416851\" style=\"fill: #1f77b4; stroke: #1f77b4\"/>\n     <use xlink:href=\"#mf4b2810a5e\" x=\"111.312778\" y=\"88.666763\" style=\"fill: #1f77b4; stroke: #1f77b4\"/>\n     <use xlink:href=\"#mf4b2810a5e\" x=\"121.778232\" y=\"78.313425\" style=\"fill: #1f77b4; stroke: #1f77b4\"/>\n     <use xlink:href=\"#mf4b2810a5e\" x=\"128.552075\" y=\"87.35006\" style=\"fill: #1f77b4; stroke: #1f77b4\"/>\n     <use xlink:href=\"#mf4b2810a5e\" x=\"122.726468\" y=\"85.553293\" style=\"fill: #1f77b4; stroke: #1f77b4\"/>\n     <use xlink:href=\"#mf4b2810a5e\" x=\"179.784242\" y=\"132.935932\" style=\"fill: #1f77b4; stroke: #1f77b4\"/>\n     <use xlink:href=\"#mf4b2810a5e\" x=\"190.011136\" y=\"120.840394\" style=\"fill: #1f77b4; stroke: #1f77b4\"/>\n     <use xlink:href=\"#mf4b2810a5e\" x=\"129.159571\" y=\"81.722137\" style=\"fill: #1f77b4; stroke: #1f77b4\"/>\n     <use xlink:href=\"#mf4b2810a5e\" x=\"150.810138\" y=\"93.77853\" style=\"fill: #1f77b4; stroke: #1f77b4\"/>\n     <use xlink:href=\"#mf4b2810a5e\" x=\"128.245793\" y=\"78.216128\" style=\"fill: #1f77b4; stroke: #1f77b4\"/>\n     <use xlink:href=\"#mf4b2810a5e\" x=\"104.211677\" y=\"59.280328\" style=\"fill: #1f77b4; stroke: #1f77b4\"/>\n     <use xlink:href=\"#mf4b2810a5e\" x=\"126.071444\" y=\"73.068334\" style=\"fill: #1f77b4; stroke: #1f77b4\"/>\n     <use xlink:href=\"#mf4b2810a5e\" x=\"161.764315\" y=\"122.033879\" style=\"fill: #1f77b4; stroke: #1f77b4\"/>\n     <use xlink:href=\"#mf4b2810a5e\" x=\"115.319597\" y=\"80.87961\" style=\"fill: #1f77b4; stroke: #1f77b4\"/>\n     <use xlink:href=\"#mf4b2810a5e\" x=\"116.828559\" y=\"75.153489\" style=\"fill: #1f77b4; stroke: #1f77b4\"/>\n     <use xlink:href=\"#mf4b2810a5e\" x=\"107.195582\" y=\"54.967489\" style=\"fill: #1f77b4; stroke: #1f77b4\"/>\n     <use xlink:href=\"#mf4b2810a5e\" x=\"159.480243\" y=\"88.042601\" style=\"fill: #1f77b4; stroke: #1f77b4\"/>\n     <use xlink:href=\"#mf4b2810a5e\" x=\"65.652854\" y=\"49.256115\" style=\"fill: #1f77b4; stroke: #1f77b4\"/>\n     <use xlink:href=\"#mf4b2810a5e\" x=\"179.490122\" y=\"121.773734\" style=\"fill: #1f77b4; stroke: #1f77b4\"/>\n     <use xlink:href=\"#mf4b2810a5e\" x=\"157.311107\" y=\"106.253141\" style=\"fill: #1f77b4; stroke: #1f77b4\"/>\n     <use xlink:href=\"#mf4b2810a5e\" x=\"146.737616\" y=\"106.649818\" style=\"fill: #1f77b4; stroke: #1f77b4\"/>\n     <use xlink:href=\"#mf4b2810a5e\" x=\"154.959609\" y=\"89.171394\" style=\"fill: #1f77b4; stroke: #1f77b4\"/>\n     <use xlink:href=\"#mf4b2810a5e\" x=\"149.200898\" y=\"90.878521\" style=\"fill: #1f77b4; stroke: #1f77b4\"/>\n     <use xlink:href=\"#mf4b2810a5e\" x=\"126.242815\" y=\"80.22145\" style=\"fill: #1f77b4; stroke: #1f77b4\"/>\n     <use xlink:href=\"#mf4b2810a5e\" x=\"129.371995\" y=\"75.014193\" style=\"fill: #1f77b4; stroke: #1f77b4\"/>\n     <use xlink:href=\"#mf4b2810a5e\" x=\"112.760356\" y=\"72.488279\" style=\"fill: #1f77b4; stroke: #1f77b4\"/>\n     <use xlink:href=\"#mf4b2810a5e\" x=\"118.080049\" y=\"72.231639\" style=\"fill: #1f77b4; stroke: #1f77b4\"/>\n     <use xlink:href=\"#mf4b2810a5e\" x=\"118.215705\" y=\"85.006905\" style=\"fill: #1f77b4; stroke: #1f77b4\"/>\n     <use xlink:href=\"#mf4b2810a5e\" x=\"77.626558\" y=\"60.117254\" style=\"fill: #1f77b4; stroke: #1f77b4\"/>\n     <use xlink:href=\"#mf4b2810a5e\" x=\"133.844391\" y=\"67.21399\" style=\"fill: #1f77b4; stroke: #1f77b4\"/>\n     <use xlink:href=\"#mf4b2810a5e\" x=\"110.675163\" y=\"44.108765\" style=\"fill: #1f77b4; stroke: #1f77b4\"/>\n     <use xlink:href=\"#mf4b2810a5e\" x=\"137.174789\" y=\"78.763524\" style=\"fill: #1f77b4; stroke: #1f77b4\"/>\n     <use xlink:href=\"#mf4b2810a5e\" x=\"129.943091\" y=\"81.866617\" style=\"fill: #1f77b4; stroke: #1f77b4\"/>\n     <use xlink:href=\"#mf4b2810a5e\" x=\"132.399487\" y=\"91.724396\" style=\"fill: #1f77b4; stroke: #1f77b4\"/>\n     <use xlink:href=\"#mf4b2810a5e\" x=\"119.175432\" y=\"75.883219\" style=\"fill: #1f77b4; stroke: #1f77b4\"/>\n     <use xlink:href=\"#mf4b2810a5e\" x=\"148.459211\" y=\"87.382213\" style=\"fill: #1f77b4; stroke: #1f77b4\"/>\n     <use xlink:href=\"#mf4b2810a5e\" x=\"158.992151\" y=\"104.627667\" style=\"fill: #1f77b4; stroke: #1f77b4\"/>\n     <use xlink:href=\"#mf4b2810a5e\" x=\"135.928843\" y=\"86.319591\" style=\"fill: #1f77b4; stroke: #1f77b4\"/>\n     <use xlink:href=\"#mf4b2810a5e\" x=\"106.233033\" y=\"45.725039\" style=\"fill: #1f77b4; stroke: #1f77b4\"/>\n     <use xlink:href=\"#mf4b2810a5e\" x=\"108.66607\" y=\"83.552963\" style=\"fill: #1f77b4; stroke: #1f77b4\"/>\n     <use xlink:href=\"#mf4b2810a5e\" x=\"146.371865\" y=\"89.417876\" style=\"fill: #1f77b4; stroke: #1f77b4\"/>\n     <use xlink:href=\"#mf4b2810a5e\" x=\"114.113724\" y=\"86.025715\" style=\"fill: #1f77b4; stroke: #1f77b4\"/>\n     <use xlink:href=\"#mf4b2810a5e\" x=\"85.858649\" y=\"32.519139\" style=\"fill: #1f77b4; stroke: #1f77b4\"/>\n     <use xlink:href=\"#mf4b2810a5e\" x=\"83.842772\" y=\"37.66043\" style=\"fill: #1f77b4; stroke: #1f77b4\"/>\n     <use xlink:href=\"#mf4b2810a5e\" x=\"144.848248\" y=\"93.954357\" style=\"fill: #1f77b4; stroke: #1f77b4\"/>\n     <use xlink:href=\"#mf4b2810a5e\" x=\"120.181944\" y=\"86.993819\" style=\"fill: #1f77b4; stroke: #1f77b4\"/>\n     <use xlink:href=\"#mf4b2810a5e\" x=\"124.911214\" y=\"79.847032\" style=\"fill: #1f77b4; stroke: #1f77b4\"/>\n     <use xlink:href=\"#mf4b2810a5e\" x=\"143.391748\" y=\"98.091239\" style=\"fill: #1f77b4; stroke: #1f77b4\"/>\n     <use xlink:href=\"#mf4b2810a5e\" x=\"166.44616\" y=\"92.731965\" style=\"fill: #1f77b4; stroke: #1f77b4\"/>\n     <use xlink:href=\"#mf4b2810a5e\" x=\"194.293598\" y=\"123.171875\" style=\"fill: #1f77b4; stroke: #1f77b4\"/>\n     <use xlink:href=\"#mf4b2810a5e\" x=\"72.424892\" y=\"42.549236\" style=\"fill: #1f77b4; stroke: #1f77b4\"/>\n     <use xlink:href=\"#mf4b2810a5e\" x=\"99.963893\" y=\"46.203601\" style=\"fill: #1f77b4; stroke: #1f77b4\"/>\n     <use xlink:href=\"#mf4b2810a5e\" x=\"155.28486\" y=\"92.21812\" style=\"fill: #1f77b4; stroke: #1f77b4\"/>\n     <use xlink:href=\"#mf4b2810a5e\" x=\"142.564583\" y=\"88.823937\" style=\"fill: #1f77b4; stroke: #1f77b4\"/>\n     <use xlink:href=\"#mf4b2810a5e\" x=\"119.959369\" y=\"44.244195\" style=\"fill: #1f77b4; stroke: #1f77b4\"/>\n     <use xlink:href=\"#mf4b2810a5e\" x=\"119.603224\" y=\"68.570196\" style=\"fill: #1f77b4; stroke: #1f77b4\"/>\n     <use xlink:href=\"#mf4b2810a5e\" x=\"127.659511\" y=\"96.512415\" style=\"fill: #1f77b4; stroke: #1f77b4\"/>\n     <use xlink:href=\"#mf4b2810a5e\" x=\"171.918366\" y=\"95.063343\" style=\"fill: #1f77b4; stroke: #1f77b4\"/>\n     <use xlink:href=\"#mf4b2810a5e\" x=\"39.199497\" y=\"27.843619\" style=\"fill: #1f77b4; stroke: #1f77b4\"/>\n     <use xlink:href=\"#mf4b2810a5e\" x=\"169.501569\" y=\"125.999719\" style=\"fill: #1f77b4; stroke: #1f77b4\"/>\n     <use xlink:href=\"#mf4b2810a5e\" x=\"86.092184\" y=\"44.189141\" style=\"fill: #1f77b4; stroke: #1f77b4\"/>\n     <use xlink:href=\"#mf4b2810a5e\" x=\"125.73634\" y=\"77.032834\" style=\"fill: #1f77b4; stroke: #1f77b4\"/>\n     <use xlink:href=\"#mf4b2810a5e\" x=\"119.96719\" y=\"74.316478\" style=\"fill: #1f77b4; stroke: #1f77b4\"/>\n     <use xlink:href=\"#mf4b2810a5e\" x=\"94.363725\" y=\"55.445468\" style=\"fill: #1f77b4; stroke: #1f77b4\"/>\n     <use xlink:href=\"#mf4b2810a5e\" x=\"139.145499\" y=\"97.72349\" style=\"fill: #1f77b4; stroke: #1f77b4\"/>\n     <use xlink:href=\"#mf4b2810a5e\" x=\"37.81946\" y=\"22.253607\" style=\"fill: #1f77b4; stroke: #1f77b4\"/>\n     <use xlink:href=\"#mf4b2810a5e\" x=\"132.909777\" y=\"76.057429\" style=\"fill: #1f77b4; stroke: #1f77b4\"/>\n     <use xlink:href=\"#mf4b2810a5e\" x=\"179.220004\" y=\"106.178731\" style=\"fill: #1f77b4; stroke: #1f77b4\"/>\n     <use xlink:href=\"#mf4b2810a5e\" x=\"79.503126\" y=\"70.637806\" style=\"fill: #1f77b4; stroke: #1f77b4\"/>\n     <use xlink:href=\"#mf4b2810a5e\" x=\"168.921619\" y=\"83.179636\" style=\"fill: #1f77b4; stroke: #1f77b4\"/>\n     <use xlink:href=\"#mf4b2810a5e\" x=\"119.37709\" y=\"72.666908\" style=\"fill: #1f77b4; stroke: #1f77b4\"/>\n     <use xlink:href=\"#mf4b2810a5e\" x=\"92.157089\" y=\"37.932199\" style=\"fill: #1f77b4; stroke: #1f77b4\"/>\n     <use xlink:href=\"#mf4b2810a5e\" x=\"130.910387\" y=\"71.155079\" style=\"fill: #1f77b4; stroke: #1f77b4\"/>\n     <use xlink:href=\"#mf4b2810a5e\" x=\"122.938476\" y=\"71.021063\" style=\"fill: #1f77b4; stroke: #1f77b4\"/>\n     <use xlink:href=\"#mf4b2810a5e\" x=\"177.645465\" y=\"107.648059\" style=\"fill: #1f77b4; stroke: #1f77b4\"/>\n     <use xlink:href=\"#mf4b2810a5e\" x=\"132.406765\" y=\"92.714324\" style=\"fill: #1f77b4; stroke: #1f77b4\"/>\n     <use xlink:href=\"#mf4b2810a5e\" x=\"112.515839\" y=\"77.21577\" style=\"fill: #1f77b4; stroke: #1f77b4\"/>\n     <use xlink:href=\"#mf4b2810a5e\" x=\"115.301497\" y=\"69.702737\" style=\"fill: #1f77b4; stroke: #1f77b4\"/>\n     <use xlink:href=\"#mf4b2810a5e\" x=\"119.835491\" y=\"82.99651\" style=\"fill: #1f77b4; stroke: #1f77b4\"/>\n     <use xlink:href=\"#mf4b2810a5e\" x=\"125.907481\" y=\"91.210658\" style=\"fill: #1f77b4; stroke: #1f77b4\"/>\n     <use xlink:href=\"#mf4b2810a5e\" x=\"134.985223\" y=\"86.908365\" style=\"fill: #1f77b4; stroke: #1f77b4\"/>\n     <use xlink:href=\"#mf4b2810a5e\" x=\"176.374824\" y=\"125.983739\" style=\"fill: #1f77b4; stroke: #1f77b4\"/>\n     <use xlink:href=\"#mf4b2810a5e\" x=\"71.322054\" y=\"39.129129\" style=\"fill: #1f77b4; stroke: #1f77b4\"/>\n     <use xlink:href=\"#mf4b2810a5e\" x=\"90.546423\" y=\"65.651628\" style=\"fill: #1f77b4; stroke: #1f77b4\"/>\n     <use xlink:href=\"#mf4b2810a5e\" x=\"139.238951\" y=\"92.407249\" style=\"fill: #1f77b4; stroke: #1f77b4\"/>\n     <use xlink:href=\"#mf4b2810a5e\" x=\"139.993788\" y=\"79.529202\" style=\"fill: #1f77b4; stroke: #1f77b4\"/>\n     <use xlink:href=\"#mf4b2810a5e\" x=\"111.196246\" y=\"75.712018\" style=\"fill: #1f77b4; stroke: #1f77b4\"/>\n     <use xlink:href=\"#mf4b2810a5e\" x=\"157.514683\" y=\"107.633398\" style=\"fill: #1f77b4; stroke: #1f77b4\"/>\n     <use xlink:href=\"#mf4b2810a5e\" x=\"84.227005\" y=\"72.631015\" style=\"fill: #1f77b4; stroke: #1f77b4\"/>\n     <use xlink:href=\"#mf4b2810a5e\" x=\"101.555926\" y=\"59.216329\" style=\"fill: #1f77b4; stroke: #1f77b4\"/>\n     <use xlink:href=\"#mf4b2810a5e\" x=\"91.72226\" y=\"42.198412\" style=\"fill: #1f77b4; stroke: #1f77b4\"/>\n     <use xlink:href=\"#mf4b2810a5e\" x=\"133.107415\" y=\"64.506154\" style=\"fill: #1f77b4; stroke: #1f77b4\"/>\n     <use xlink:href=\"#mf4b2810a5e\" x=\"171.490872\" y=\"101.98305\" style=\"fill: #1f77b4; stroke: #1f77b4\"/>\n     <use xlink:href=\"#mf4b2810a5e\" x=\"121.671434\" y=\"76.434447\" style=\"fill: #1f77b4; stroke: #1f77b4\"/>\n     <use xlink:href=\"#mf4b2810a5e\" x=\"100.041466\" y=\"52.489162\" style=\"fill: #1f77b4; stroke: #1f77b4\"/>\n     <use xlink:href=\"#mf4b2810a5e\" x=\"130.754678\" y=\"84.575641\" style=\"fill: #1f77b4; stroke: #1f77b4\"/>\n     <use xlink:href=\"#mf4b2810a5e\" x=\"177.990634\" y=\"111.947658\" style=\"fill: #1f77b4; stroke: #1f77b4\"/>\n     <use xlink:href=\"#mf4b2810a5e\" x=\"150.059199\" y=\"119.910781\" style=\"fill: #1f77b4; stroke: #1f77b4\"/>\n     <use xlink:href=\"#mf4b2810a5e\" x=\"114.579346\" y=\"43.080279\" style=\"fill: #1f77b4; stroke: #1f77b4\"/>\n     <use xlink:href=\"#mf4b2810a5e\" x=\"102.739255\" y=\"57.255634\" style=\"fill: #1f77b4; stroke: #1f77b4\"/>\n     <use xlink:href=\"#mf4b2810a5e\" x=\"116.665655\" y=\"61.040401\" style=\"fill: #1f77b4; stroke: #1f77b4\"/>\n     <use xlink:href=\"#mf4b2810a5e\" x=\"102.764977\" y=\"73.086767\" style=\"fill: #1f77b4; stroke: #1f77b4\"/>\n     <use xlink:href=\"#mf4b2810a5e\" x=\"64.839597\" y=\"38.696505\" style=\"fill: #1f77b4; stroke: #1f77b4\"/>\n     <use xlink:href=\"#mf4b2810a5e\" x=\"106.758241\" y=\"83.459439\" style=\"fill: #1f77b4; stroke: #1f77b4\"/>\n     <use xlink:href=\"#mf4b2810a5e\" x=\"138.257336\" y=\"100.161774\" style=\"fill: #1f77b4; stroke: #1f77b4\"/>\n     <use xlink:href=\"#mf4b2810a5e\" x=\"115.621923\" y=\"51.047385\" style=\"fill: #1f77b4; stroke: #1f77b4\"/>\n     <use xlink:href=\"#mf4b2810a5e\" x=\"106.511539\" y=\"41.951005\" style=\"fill: #1f77b4; stroke: #1f77b4\"/>\n     <use xlink:href=\"#mf4b2810a5e\" x=\"140.400612\" y=\"74.530433\" style=\"fill: #1f77b4; stroke: #1f77b4\"/>\n     <use xlink:href=\"#mf4b2810a5e\" x=\"163.688889\" y=\"102.809418\" style=\"fill: #1f77b4; stroke: #1f77b4\"/>\n     <use xlink:href=\"#mf4b2810a5e\" x=\"180.386507\" y=\"100.553271\" style=\"fill: #1f77b4; stroke: #1f77b4\"/>\n     <use xlink:href=\"#mf4b2810a5e\" x=\"104.454041\" y=\"76.384051\" style=\"fill: #1f77b4; stroke: #1f77b4\"/>\n     <use xlink:href=\"#mf4b2810a5e\" x=\"70.957048\" y=\"36.290567\" style=\"fill: #1f77b4; stroke: #1f77b4\"/>\n     <use xlink:href=\"#mf4b2810a5e\" x=\"129.018255\" y=\"65.922525\" style=\"fill: #1f77b4; stroke: #1f77b4\"/>\n     <use xlink:href=\"#mf4b2810a5e\" x=\"98.347861\" y=\"67.072902\" style=\"fill: #1f77b4; stroke: #1f77b4\"/>\n     <use xlink:href=\"#mf4b2810a5e\" x=\"136.451135\" y=\"80.821882\" style=\"fill: #1f77b4; stroke: #1f77b4\"/>\n     <use xlink:href=\"#mf4b2810a5e\" x=\"99.760517\" y=\"69.962843\" style=\"fill: #1f77b4; stroke: #1f77b4\"/>\n     <use xlink:href=\"#mf4b2810a5e\" x=\"124.545239\" y=\"79.806039\" style=\"fill: #1f77b4; stroke: #1f77b4\"/>\n     <use xlink:href=\"#mf4b2810a5e\" x=\"109.903433\" y=\"81.687715\" style=\"fill: #1f77b4; stroke: #1f77b4\"/>\n     <use xlink:href=\"#mf4b2810a5e\" x=\"130.44324\" y=\"69.113991\" style=\"fill: #1f77b4; stroke: #1f77b4\"/>\n     <use xlink:href=\"#mf4b2810a5e\" x=\"111.844625\" y=\"65.630461\" style=\"fill: #1f77b4; stroke: #1f77b4\"/>\n     <use xlink:href=\"#mf4b2810a5e\" x=\"154.530314\" y=\"101.62881\" style=\"fill: #1f77b4; stroke: #1f77b4\"/>\n     <use xlink:href=\"#mf4b2810a5e\" x=\"143.962789\" y=\"88.337403\" style=\"fill: #1f77b4; stroke: #1f77b4\"/>\n     <use xlink:href=\"#mf4b2810a5e\" x=\"118.010512\" y=\"62.085464\" style=\"fill: #1f77b4; stroke: #1f77b4\"/>\n     <use xlink:href=\"#mf4b2810a5e\" x=\"123.554809\" y=\"85.798694\" style=\"fill: #1f77b4; stroke: #1f77b4\"/>\n     <use xlink:href=\"#mf4b2810a5e\" x=\"155.519877\" y=\"85.576836\" style=\"fill: #1f77b4; stroke: #1f77b4\"/>\n     <use xlink:href=\"#mf4b2810a5e\" x=\"113.519658\" y=\"65.508898\" style=\"fill: #1f77b4; stroke: #1f77b4\"/>\n     <use xlink:href=\"#mf4b2810a5e\" x=\"144.323184\" y=\"89.035914\" style=\"fill: #1f77b4; stroke: #1f77b4\"/>\n     <use xlink:href=\"#mf4b2810a5e\" x=\"115.762598\" y=\"90.333416\" style=\"fill: #1f77b4; stroke: #1f77b4\"/>\n     <use xlink:href=\"#mf4b2810a5e\" x=\"129.005039\" y=\"82.88405\" style=\"fill: #1f77b4; stroke: #1f77b4\"/>\n     <use xlink:href=\"#mf4b2810a5e\" x=\"121.525998\" y=\"90.788963\" style=\"fill: #1f77b4; stroke: #1f77b4\"/>\n     <use xlink:href=\"#mf4b2810a5e\" x=\"124.756156\" y=\"69.426187\" style=\"fill: #1f77b4; stroke: #1f77b4\"/>\n     <use xlink:href=\"#mf4b2810a5e\" x=\"129.866701\" y=\"78.309539\" style=\"fill: #1f77b4; stroke: #1f77b4\"/>\n     <use xlink:href=\"#mf4b2810a5e\" x=\"105.028739\" y=\"52.858607\" style=\"fill: #1f77b4; stroke: #1f77b4\"/>\n     <use xlink:href=\"#mf4b2810a5e\" x=\"163.284401\" y=\"119.234195\" style=\"fill: #1f77b4; stroke: #1f77b4\"/>\n     <use xlink:href=\"#mf4b2810a5e\" x=\"145.173091\" y=\"103.823898\" style=\"fill: #1f77b4; stroke: #1f77b4\"/>\n     <use xlink:href=\"#mf4b2810a5e\" x=\"99.026397\" y=\"69.653467\" style=\"fill: #1f77b4; stroke: #1f77b4\"/>\n     <use xlink:href=\"#mf4b2810a5e\" x=\"181.981328\" y=\"137.114957\" style=\"fill: #1f77b4; stroke: #1f77b4\"/>\n     <use xlink:href=\"#mf4b2810a5e\" x=\"102.43153\" y=\"59.224281\" style=\"fill: #1f77b4; stroke: #1f77b4\"/>\n     <use xlink:href=\"#mf4b2810a5e\" x=\"136.35756\" y=\"66.047587\" style=\"fill: #1f77b4; stroke: #1f77b4\"/>\n     <use xlink:href=\"#mf4b2810a5e\" x=\"160.966857\" y=\"88.651577\" style=\"fill: #1f77b4; stroke: #1f77b4\"/>\n     <use xlink:href=\"#mf4b2810a5e\" x=\"136.16583\" y=\"90.788594\" style=\"fill: #1f77b4; stroke: #1f77b4\"/>\n     <use xlink:href=\"#mf4b2810a5e\" x=\"181.747192\" y=\"126.808508\" style=\"fill: #1f77b4; stroke: #1f77b4\"/>\n     <use xlink:href=\"#mf4b2810a5e\" x=\"55.501299\" y=\"13.632209\" style=\"fill: #1f77b4; stroke: #1f77b4\"/>\n     <use xlink:href=\"#mf4b2810a5e\" x=\"129.297588\" y=\"65.435441\" style=\"fill: #1f77b4; stroke: #1f77b4\"/>\n     <use xlink:href=\"#mf4b2810a5e\" x=\"139.116921\" y=\"80.276346\" style=\"fill: #1f77b4; stroke: #1f77b4\"/>\n     <use xlink:href=\"#mf4b2810a5e\" x=\"155.382535\" y=\"85.226281\" style=\"fill: #1f77b4; stroke: #1f77b4\"/>\n     <use xlink:href=\"#mf4b2810a5e\" x=\"104.708422\" y=\"85.997173\" style=\"fill: #1f77b4; stroke: #1f77b4\"/>\n     <use xlink:href=\"#mf4b2810a5e\" x=\"155.901876\" y=\"93.38826\" style=\"fill: #1f77b4; stroke: #1f77b4\"/>\n     <use xlink:href=\"#mf4b2810a5e\" x=\"131.33876\" y=\"79.475714\" style=\"fill: #1f77b4; stroke: #1f77b4\"/>\n     <use xlink:href=\"#mf4b2810a5e\" x=\"78.378065\" y=\"38.735914\" style=\"fill: #1f77b4; stroke: #1f77b4\"/>\n     <use xlink:href=\"#mf4b2810a5e\" x=\"126.600128\" y=\"104.23248\" style=\"fill: #1f77b4; stroke: #1f77b4\"/>\n     <use xlink:href=\"#mf4b2810a5e\" x=\"89.547477\" y=\"61.289189\" style=\"fill: #1f77b4; stroke: #1f77b4\"/>\n     <use xlink:href=\"#mf4b2810a5e\" x=\"157.419195\" y=\"103.744397\" style=\"fill: #1f77b4; stroke: #1f77b4\"/>\n     <use xlink:href=\"#mf4b2810a5e\" x=\"158.740459\" y=\"93.373185\" style=\"fill: #1f77b4; stroke: #1f77b4\"/>\n     <use xlink:href=\"#mf4b2810a5e\" x=\"131.991719\" y=\"70.706042\" style=\"fill: #1f77b4; stroke: #1f77b4\"/>\n     <use xlink:href=\"#mf4b2810a5e\" x=\"188.853743\" y=\"131.158543\" style=\"fill: #1f77b4; stroke: #1f77b4\"/>\n     <use xlink:href=\"#mf4b2810a5e\" x=\"128.543219\" y=\"70.88517\" style=\"fill: #1f77b4; stroke: #1f77b4\"/>\n     <use xlink:href=\"#mf4b2810a5e\" x=\"145.22678\" y=\"81.695135\" style=\"fill: #1f77b4; stroke: #1f77b4\"/>\n     <use xlink:href=\"#mf4b2810a5e\" x=\"142.260502\" y=\"75.041091\" style=\"fill: #1f77b4; stroke: #1f77b4\"/>\n     <use xlink:href=\"#mf4b2810a5e\" x=\"156.730747\" y=\"93.974839\" style=\"fill: #1f77b4; stroke: #1f77b4\"/>\n     <use xlink:href=\"#mf4b2810a5e\" x=\"77.282221\" y=\"46.282558\" style=\"fill: #1f77b4; stroke: #1f77b4\"/>\n     <use xlink:href=\"#mf4b2810a5e\" x=\"111.478739\" y=\"63.670742\" style=\"fill: #1f77b4; stroke: #1f77b4\"/>\n     <use xlink:href=\"#mf4b2810a5e\" x=\"92.659242\" y=\"57.318784\" style=\"fill: #1f77b4; stroke: #1f77b4\"/>\n     <use xlink:href=\"#mf4b2810a5e\" x=\"101.367021\" y=\"43.785291\" style=\"fill: #1f77b4; stroke: #1f77b4\"/>\n     <use xlink:href=\"#mf4b2810a5e\" x=\"97.294175\" y=\"50.085315\" style=\"fill: #1f77b4; stroke: #1f77b4\"/>\n     <use xlink:href=\"#mf4b2810a5e\" x=\"84.017015\" y=\"63.088944\" style=\"fill: #1f77b4; stroke: #1f77b4\"/>\n     <use xlink:href=\"#mf4b2810a5e\" x=\"154.043402\" y=\"111.681751\" style=\"fill: #1f77b4; stroke: #1f77b4\"/>\n     <use xlink:href=\"#mf4b2810a5e\" x=\"65.562399\" y=\"42.376094\" style=\"fill: #1f77b4; stroke: #1f77b4\"/>\n     <use xlink:href=\"#mf4b2810a5e\" x=\"161.320744\" y=\"83.822655\" style=\"fill: #1f77b4; stroke: #1f77b4\"/>\n     <use xlink:href=\"#mf4b2810a5e\" x=\"91.137758\" y=\"74.102975\" style=\"fill: #1f77b4; stroke: #1f77b4\"/>\n     <use xlink:href=\"#mf4b2810a5e\" x=\"174.250805\" y=\"111.326363\" style=\"fill: #1f77b4; stroke: #1f77b4\"/>\n     <use xlink:href=\"#mf4b2810a5e\" x=\"155.359134\" y=\"90.903595\" style=\"fill: #1f77b4; stroke: #1f77b4\"/>\n     <use xlink:href=\"#mf4b2810a5e\" x=\"110.324152\" y=\"60.714604\" style=\"fill: #1f77b4; stroke: #1f77b4\"/>\n     <use xlink:href=\"#mf4b2810a5e\" x=\"107.916064\" y=\"70.747143\" style=\"fill: #1f77b4; stroke: #1f77b4\"/>\n     <use xlink:href=\"#mf4b2810a5e\" x=\"124.603146\" y=\"83.585527\" style=\"fill: #1f77b4; stroke: #1f77b4\"/>\n     <use xlink:href=\"#mf4b2810a5e\" x=\"129.402759\" y=\"81.960283\" style=\"fill: #1f77b4; stroke: #1f77b4\"/>\n     <use xlink:href=\"#mf4b2810a5e\" x=\"153.432317\" y=\"102.336834\" style=\"fill: #1f77b4; stroke: #1f77b4\"/>\n     <use xlink:href=\"#mf4b2810a5e\" x=\"106.760798\" y=\"68.595991\" style=\"fill: #1f77b4; stroke: #1f77b4\"/>\n     <use xlink:href=\"#mf4b2810a5e\" x=\"124.399044\" y=\"84.37469\" style=\"fill: #1f77b4; stroke: #1f77b4\"/>\n     <use xlink:href=\"#mf4b2810a5e\" x=\"86.994924\" y=\"38.435533\" style=\"fill: #1f77b4; stroke: #1f77b4\"/>\n     <use xlink:href=\"#mf4b2810a5e\" x=\"154.644229\" y=\"96.012538\" style=\"fill: #1f77b4; stroke: #1f77b4\"/>\n     <use xlink:href=\"#mf4b2810a5e\" x=\"153.833657\" y=\"68.709101\" style=\"fill: #1f77b4; stroke: #1f77b4\"/>\n     <use xlink:href=\"#mf4b2810a5e\" x=\"147.36151\" y=\"89.791047\" style=\"fill: #1f77b4; stroke: #1f77b4\"/>\n     <use xlink:href=\"#mf4b2810a5e\" x=\"188.84594\" y=\"127.76174\" style=\"fill: #1f77b4; stroke: #1f77b4\"/>\n     <use xlink:href=\"#mf4b2810a5e\" x=\"111.48412\" y=\"35.084143\" style=\"fill: #1f77b4; stroke: #1f77b4\"/>\n     <use xlink:href=\"#mf4b2810a5e\" x=\"108.629276\" y=\"54.209537\" style=\"fill: #1f77b4; stroke: #1f77b4\"/>\n     <use xlink:href=\"#mf4b2810a5e\" x=\"110.33464\" y=\"86.240563\" style=\"fill: #1f77b4; stroke: #1f77b4\"/>\n     <use xlink:href=\"#mf4b2810a5e\" x=\"135.514916\" y=\"83.970037\" style=\"fill: #1f77b4; stroke: #1f77b4\"/>\n     <use xlink:href=\"#mf4b2810a5e\" x=\"138.283848\" y=\"89.103164\" style=\"fill: #1f77b4; stroke: #1f77b4\"/>\n     <use xlink:href=\"#mf4b2810a5e\" x=\"100.397792\" y=\"57.611954\" style=\"fill: #1f77b4; stroke: #1f77b4\"/>\n     <use xlink:href=\"#mf4b2810a5e\" x=\"189.888664\" y=\"121.075893\" style=\"fill: #1f77b4; stroke: #1f77b4\"/>\n     <use xlink:href=\"#mf4b2810a5e\" x=\"104.440528\" y=\"51.344626\" style=\"fill: #1f77b4; stroke: #1f77b4\"/>\n     <use xlink:href=\"#mf4b2810a5e\" x=\"125.837792\" y=\"61.627146\" style=\"fill: #1f77b4; stroke: #1f77b4\"/>\n     <use xlink:href=\"#mf4b2810a5e\" x=\"142.954469\" y=\"98.874006\" style=\"fill: #1f77b4; stroke: #1f77b4\"/>\n     <use xlink:href=\"#mf4b2810a5e\" x=\"102.105494\" y=\"50.292439\" style=\"fill: #1f77b4; stroke: #1f77b4\"/>\n     <use xlink:href=\"#mf4b2810a5e\" x=\"78.093184\" y=\"44.106309\" style=\"fill: #1f77b4; stroke: #1f77b4\"/>\n     <use xlink:href=\"#mf4b2810a5e\" x=\"105.148147\" y=\"68.725724\" style=\"fill: #1f77b4; stroke: #1f77b4\"/>\n     <use xlink:href=\"#mf4b2810a5e\" x=\"122.773275\" y=\"80.10116\" style=\"fill: #1f77b4; stroke: #1f77b4\"/>\n     <use xlink:href=\"#mf4b2810a5e\" x=\"71.442862\" y=\"27.588167\" style=\"fill: #1f77b4; stroke: #1f77b4\"/>\n     <use xlink:href=\"#mf4b2810a5e\" x=\"95.906305\" y=\"49.573797\" style=\"fill: #1f77b4; stroke: #1f77b4\"/>\n     <use xlink:href=\"#mf4b2810a5e\" x=\"196.415174\" y=\"121.782962\" style=\"fill: #1f77b4; stroke: #1f77b4\"/>\n     <use xlink:href=\"#mf4b2810a5e\" x=\"175.18261\" y=\"125.525855\" style=\"fill: #1f77b4; stroke: #1f77b4\"/>\n     <use xlink:href=\"#mf4b2810a5e\" x=\"116.633372\" y=\"41.417882\" style=\"fill: #1f77b4; stroke: #1f77b4\"/>\n     <use xlink:href=\"#mf4b2810a5e\" x=\"92.287246\" y=\"53.300331\" style=\"fill: #1f77b4; stroke: #1f77b4\"/>\n     <use xlink:href=\"#mf4b2810a5e\" x=\"114.673713\" y=\"63.572559\" style=\"fill: #1f77b4; stroke: #1f77b4\"/>\n     <use xlink:href=\"#mf4b2810a5e\" x=\"147.72727\" y=\"80.244502\" style=\"fill: #1f77b4; stroke: #1f77b4\"/>\n     <use xlink:href=\"#mf4b2810a5e\" x=\"173.852654\" y=\"100.567704\" style=\"fill: #1f77b4; stroke: #1f77b4\"/>\n     <use xlink:href=\"#mf4b2810a5e\" x=\"90.11888\" y=\"76.126247\" style=\"fill: #1f77b4; stroke: #1f77b4\"/>\n     <use xlink:href=\"#mf4b2810a5e\" x=\"110.046542\" y=\"60.848965\" style=\"fill: #1f77b4; stroke: #1f77b4\"/>\n     <use xlink:href=\"#mf4b2810a5e\" x=\"205.564052\" y=\"135.760715\" style=\"fill: #1f77b4; stroke: #1f77b4\"/>\n     <use xlink:href=\"#mf4b2810a5e\" x=\"89.601926\" y=\"53.722635\" style=\"fill: #1f77b4; stroke: #1f77b4\"/>\n     <use xlink:href=\"#mf4b2810a5e\" x=\"108.866814\" y=\"69.413549\" style=\"fill: #1f77b4; stroke: #1f77b4\"/>\n     <use xlink:href=\"#mf4b2810a5e\" x=\"81.925454\" y=\"39.230994\" style=\"fill: #1f77b4; stroke: #1f77b4\"/>\n     <use xlink:href=\"#mf4b2810a5e\" x=\"170.778068\" y=\"115.890432\" style=\"fill: #1f77b4; stroke: #1f77b4\"/>\n     <use xlink:href=\"#mf4b2810a5e\" x=\"132.77103\" y=\"61.495154\" style=\"fill: #1f77b4; stroke: #1f77b4\"/>\n     <use xlink:href=\"#mf4b2810a5e\" x=\"126.570055\" y=\"96.454876\" style=\"fill: #1f77b4; stroke: #1f77b4\"/>\n     <use xlink:href=\"#mf4b2810a5e\" x=\"81.309077\" y=\"48.209859\" style=\"fill: #1f77b4; stroke: #1f77b4\"/>\n     <use xlink:href=\"#mf4b2810a5e\" x=\"192.929775\" y=\"118.379937\" style=\"fill: #1f77b4; stroke: #1f77b4\"/>\n     <use xlink:href=\"#mf4b2810a5e\" x=\"155.020155\" y=\"103.172639\" style=\"fill: #1f77b4; stroke: #1f77b4\"/>\n     <use xlink:href=\"#mf4b2810a5e\" x=\"148.769005\" y=\"72.068234\" style=\"fill: #1f77b4; stroke: #1f77b4\"/>\n     <use xlink:href=\"#mf4b2810a5e\" x=\"158.51141\" y=\"114.25394\" style=\"fill: #1f77b4; stroke: #1f77b4\"/>\n     <use xlink:href=\"#mf4b2810a5e\" x=\"111.824932\" y=\"69.9967\" style=\"fill: #1f77b4; stroke: #1f77b4\"/>\n     <use xlink:href=\"#mf4b2810a5e\" x=\"105.203475\" y=\"78.364389\" style=\"fill: #1f77b4; stroke: #1f77b4\"/>\n     <use xlink:href=\"#mf4b2810a5e\" x=\"101.522649\" y=\"49.439966\" style=\"fill: #1f77b4; stroke: #1f77b4\"/>\n     <use xlink:href=\"#mf4b2810a5e\" x=\"85.538738\" y=\"33.617958\" style=\"fill: #1f77b4; stroke: #1f77b4\"/>\n     <use xlink:href=\"#mf4b2810a5e\" x=\"99.579239\" y=\"66.356635\" style=\"fill: #1f77b4; stroke: #1f77b4\"/>\n     <use xlink:href=\"#mf4b2810a5e\" x=\"140.191866\" y=\"80.172558\" style=\"fill: #1f77b4; stroke: #1f77b4\"/>\n     <use xlink:href=\"#mf4b2810a5e\" x=\"92.335013\" y=\"56.755685\" style=\"fill: #1f77b4; stroke: #1f77b4\"/>\n     <use xlink:href=\"#mf4b2810a5e\" x=\"176.249267\" y=\"139.5\" style=\"fill: #1f77b4; stroke: #1f77b4\"/>\n     <use xlink:href=\"#mf4b2810a5e\" x=\"161.988118\" y=\"98.281416\" style=\"fill: #1f77b4; stroke: #1f77b4\"/>\n     <use xlink:href=\"#mf4b2810a5e\" x=\"107.466453\" y=\"48.073086\" style=\"fill: #1f77b4; stroke: #1f77b4\"/>\n     <use xlink:href=\"#mf4b2810a5e\" x=\"147.406978\" y=\"93.290458\" style=\"fill: #1f77b4; stroke: #1f77b4\"/>\n     <use xlink:href=\"#mf4b2810a5e\" x=\"125.059039\" y=\"86.855078\" style=\"fill: #1f77b4; stroke: #1f77b4\"/>\n     <use xlink:href=\"#mf4b2810a5e\" x=\"132.510481\" y=\"82.116906\" style=\"fill: #1f77b4; stroke: #1f77b4\"/>\n     <use xlink:href=\"#mf4b2810a5e\" x=\"149.921562\" y=\"98.198487\" style=\"fill: #1f77b4; stroke: #1f77b4\"/>\n     <use xlink:href=\"#mf4b2810a5e\" x=\"148.644425\" y=\"108.674478\" style=\"fill: #1f77b4; stroke: #1f77b4\"/>\n     <use xlink:href=\"#mf4b2810a5e\" x=\"74.195673\" y=\"49.434313\" style=\"fill: #1f77b4; stroke: #1f77b4\"/>\n     <use xlink:href=\"#mf4b2810a5e\" x=\"112.783489\" y=\"67.349142\" style=\"fill: #1f77b4; stroke: #1f77b4\"/>\n     <use xlink:href=\"#mf4b2810a5e\" x=\"108.986744\" y=\"58.040327\" style=\"fill: #1f77b4; stroke: #1f77b4\"/>\n     <use xlink:href=\"#mf4b2810a5e\" x=\"122.865146\" y=\"51.210483\" style=\"fill: #1f77b4; stroke: #1f77b4\"/>\n     <use xlink:href=\"#mf4b2810a5e\" x=\"67.582424\" y=\"39.084056\" style=\"fill: #1f77b4; stroke: #1f77b4\"/>\n     <use xlink:href=\"#mf4b2810a5e\" x=\"119.299786\" y=\"77.232196\" style=\"fill: #1f77b4; stroke: #1f77b4\"/>\n     <use xlink:href=\"#mf4b2810a5e\" x=\"156.09596\" y=\"93.903624\" style=\"fill: #1f77b4; stroke: #1f77b4\"/>\n     <use xlink:href=\"#mf4b2810a5e\" x=\"149.428706\" y=\"88.276058\" style=\"fill: #1f77b4; stroke: #1f77b4\"/>\n     <use xlink:href=\"#mf4b2810a5e\" x=\"179.038217\" y=\"93.480284\" style=\"fill: #1f77b4; stroke: #1f77b4\"/>\n     <use xlink:href=\"#mf4b2810a5e\" x=\"142.079116\" y=\"100.812582\" style=\"fill: #1f77b4; stroke: #1f77b4\"/>\n     <use xlink:href=\"#mf4b2810a5e\" x=\"89.816251\" y=\"42.360797\" style=\"fill: #1f77b4; stroke: #1f77b4\"/>\n     <use xlink:href=\"#mf4b2810a5e\" x=\"109.797878\" y=\"76.460338\" style=\"fill: #1f77b4; stroke: #1f77b4\"/>\n     <use xlink:href=\"#mf4b2810a5e\" x=\"128.18022\" y=\"83.673556\" style=\"fill: #1f77b4; stroke: #1f77b4\"/>\n     <use xlink:href=\"#mf4b2810a5e\" x=\"107.770837\" y=\"66.995019\" style=\"fill: #1f77b4; stroke: #1f77b4\"/>\n     <use xlink:href=\"#mf4b2810a5e\" x=\"132.064664\" y=\"69.671286\" style=\"fill: #1f77b4; stroke: #1f77b4\"/>\n     <use xlink:href=\"#mf4b2810a5e\" x=\"100.566665\" y=\"73.836353\" style=\"fill: #1f77b4; stroke: #1f77b4\"/>\n     <use xlink:href=\"#mf4b2810a5e\" x=\"175.285176\" y=\"132.376027\" style=\"fill: #1f77b4; stroke: #1f77b4\"/>\n     <use xlink:href=\"#mf4b2810a5e\" x=\"102.186023\" y=\"80.712728\" style=\"fill: #1f77b4; stroke: #1f77b4\"/>\n     <use xlink:href=\"#mf4b2810a5e\" x=\"72.912864\" y=\"52.631206\" style=\"fill: #1f77b4; stroke: #1f77b4\"/>\n     <use xlink:href=\"#mf4b2810a5e\" x=\"160.802587\" y=\"100.513281\" style=\"fill: #1f77b4; stroke: #1f77b4\"/>\n     <use xlink:href=\"#mf4b2810a5e\" x=\"94.336799\" y=\"49.38734\" style=\"fill: #1f77b4; stroke: #1f77b4\"/>\n     <use xlink:href=\"#mf4b2810a5e\" x=\"116.208709\" y=\"84.134256\" style=\"fill: #1f77b4; stroke: #1f77b4\"/>\n     <use xlink:href=\"#mf4b2810a5e\" x=\"119.492795\" y=\"85.808645\" style=\"fill: #1f77b4; stroke: #1f77b4\"/>\n     <use xlink:href=\"#mf4b2810a5e\" x=\"141.682332\" y=\"84.608213\" style=\"fill: #1f77b4; stroke: #1f77b4\"/>\n     <use xlink:href=\"#mf4b2810a5e\" x=\"146.05151\" y=\"75.796083\" style=\"fill: #1f77b4; stroke: #1f77b4\"/>\n     <use xlink:href=\"#mf4b2810a5e\" x=\"108.970564\" y=\"45.212125\" style=\"fill: #1f77b4; stroke: #1f77b4\"/>\n     <use xlink:href=\"#mf4b2810a5e\" x=\"132.863237\" y=\"109.645254\" style=\"fill: #1f77b4; stroke: #1f77b4\"/>\n     <use xlink:href=\"#mf4b2810a5e\" x=\"171.166832\" y=\"95.858674\" style=\"fill: #1f77b4; stroke: #1f77b4\"/>\n     <use xlink:href=\"#mf4b2810a5e\" x=\"149.939988\" y=\"95.7474\" style=\"fill: #1f77b4; stroke: #1f77b4\"/>\n     <use xlink:href=\"#mf4b2810a5e\" x=\"146.447865\" y=\"87.707313\" style=\"fill: #1f77b4; stroke: #1f77b4\"/>\n     <use xlink:href=\"#mf4b2810a5e\" x=\"147.194627\" y=\"90.354726\" style=\"fill: #1f77b4; stroke: #1f77b4\"/>\n     <use xlink:href=\"#mf4b2810a5e\" x=\"105.682507\" y=\"52.856493\" style=\"fill: #1f77b4; stroke: #1f77b4\"/>\n     <use xlink:href=\"#mf4b2810a5e\" x=\"177.388445\" y=\"95.48341\" style=\"fill: #1f77b4; stroke: #1f77b4\"/>\n     <use xlink:href=\"#mf4b2810a5e\" x=\"136.435549\" y=\"98.243855\" style=\"fill: #1f77b4; stroke: #1f77b4\"/>\n     <use xlink:href=\"#mf4b2810a5e\" x=\"121.374317\" y=\"83.052513\" style=\"fill: #1f77b4; stroke: #1f77b4\"/>\n     <use xlink:href=\"#mf4b2810a5e\" x=\"169.182479\" y=\"90.868256\" style=\"fill: #1f77b4; stroke: #1f77b4\"/>\n     <use xlink:href=\"#mf4b2810a5e\" x=\"101.822627\" y=\"73.8946\" style=\"fill: #1f77b4; stroke: #1f77b4\"/>\n     <use xlink:href=\"#mf4b2810a5e\" x=\"145.526156\" y=\"101.782465\" style=\"fill: #1f77b4; stroke: #1f77b4\"/>\n     <use xlink:href=\"#mf4b2810a5e\" x=\"144.026591\" y=\"87.601055\" style=\"fill: #1f77b4; stroke: #1f77b4\"/>\n     <use xlink:href=\"#mf4b2810a5e\" x=\"155.678263\" y=\"88.586928\" style=\"fill: #1f77b4; stroke: #1f77b4\"/>\n     <use xlink:href=\"#mf4b2810a5e\" x=\"133.288005\" y=\"83.257268\" style=\"fill: #1f77b4; stroke: #1f77b4\"/>\n     <use xlink:href=\"#mf4b2810a5e\" x=\"144.817961\" y=\"98.153594\" style=\"fill: #1f77b4; stroke: #1f77b4\"/>\n     <use xlink:href=\"#mf4b2810a5e\" x=\"157.885891\" y=\"97.647396\" style=\"fill: #1f77b4; stroke: #1f77b4\"/>\n     <use xlink:href=\"#mf4b2810a5e\" x=\"82.852564\" y=\"46.957649\" style=\"fill: #1f77b4; stroke: #1f77b4\"/>\n     <use xlink:href=\"#mf4b2810a5e\" x=\"135.609627\" y=\"71.419431\" style=\"fill: #1f77b4; stroke: #1f77b4\"/>\n     <use xlink:href=\"#mf4b2810a5e\" x=\"109.68078\" y=\"68.504816\" style=\"fill: #1f77b4; stroke: #1f77b4\"/>\n     <use xlink:href=\"#mf4b2810a5e\" x=\"142.633899\" y=\"100.584967\" style=\"fill: #1f77b4; stroke: #1f77b4\"/>\n     <use xlink:href=\"#mf4b2810a5e\" x=\"199.061441\" y=\"113.790311\" style=\"fill: #1f77b4; stroke: #1f77b4\"/>\n     <use xlink:href=\"#mf4b2810a5e\" x=\"135.698973\" y=\"60.831042\" style=\"fill: #1f77b4; stroke: #1f77b4\"/>\n     <use xlink:href=\"#mf4b2810a5e\" x=\"109.383211\" y=\"77.74805\" style=\"fill: #1f77b4; stroke: #1f77b4\"/>\n     <use xlink:href=\"#mf4b2810a5e\" x=\"113.106914\" y=\"75.850303\" style=\"fill: #1f77b4; stroke: #1f77b4\"/>\n     <use xlink:href=\"#mf4b2810a5e\" x=\"161.764991\" y=\"116.325683\" style=\"fill: #1f77b4; stroke: #1f77b4\"/>\n     <use xlink:href=\"#mf4b2810a5e\" x=\"136.289725\" y=\"49.18518\" style=\"fill: #1f77b4; stroke: #1f77b4\"/>\n     <use xlink:href=\"#mf4b2810a5e\" x=\"114.162311\" y=\"64.719432\" style=\"fill: #1f77b4; stroke: #1f77b4\"/>\n     <use xlink:href=\"#mf4b2810a5e\" x=\"151.354701\" y=\"108.473646\" style=\"fill: #1f77b4; stroke: #1f77b4\"/>\n     <use xlink:href=\"#mf4b2810a5e\" x=\"116.210472\" y=\"89.225335\" style=\"fill: #1f77b4; stroke: #1f77b4\"/>\n     <use xlink:href=\"#mf4b2810a5e\" x=\"179.127338\" y=\"99.450162\" style=\"fill: #1f77b4; stroke: #1f77b4\"/>\n     <use xlink:href=\"#mf4b2810a5e\" x=\"97.649401\" y=\"71.575949\" style=\"fill: #1f77b4; stroke: #1f77b4\"/>\n     <use xlink:href=\"#mf4b2810a5e\" x=\"163.264936\" y=\"88.216097\" style=\"fill: #1f77b4; stroke: #1f77b4\"/>\n     <use xlink:href=\"#mf4b2810a5e\" x=\"172.989582\" y=\"81.958326\" style=\"fill: #1f77b4; stroke: #1f77b4\"/>\n     <use xlink:href=\"#mf4b2810a5e\" x=\"100.955482\" y=\"44.407403\" style=\"fill: #1f77b4; stroke: #1f77b4\"/>\n     <use xlink:href=\"#mf4b2810a5e\" x=\"105.735395\" y=\"83.93646\" style=\"fill: #1f77b4; stroke: #1f77b4\"/>\n     <use xlink:href=\"#mf4b2810a5e\" x=\"100.711643\" y=\"69.611793\" style=\"fill: #1f77b4; stroke: #1f77b4\"/>\n     <use xlink:href=\"#mf4b2810a5e\" x=\"139.023925\" y=\"82.227607\" style=\"fill: #1f77b4; stroke: #1f77b4\"/>\n     <use xlink:href=\"#mf4b2810a5e\" x=\"38.49445\" y=\"23.610346\" style=\"fill: #1f77b4; stroke: #1f77b4\"/>\n     <use xlink:href=\"#mf4b2810a5e\" x=\"137.562092\" y=\"65.915913\" style=\"fill: #1f77b4; stroke: #1f77b4\"/>\n     <use xlink:href=\"#mf4b2810a5e\" x=\"102.158422\" y=\"42.445367\" style=\"fill: #1f77b4; stroke: #1f77b4\"/>\n     <use xlink:href=\"#mf4b2810a5e\" x=\"135.286166\" y=\"76.619436\" style=\"fill: #1f77b4; stroke: #1f77b4\"/>\n     <use xlink:href=\"#mf4b2810a5e\" x=\"141.236994\" y=\"84.337157\" style=\"fill: #1f77b4; stroke: #1f77b4\"/>\n     <use xlink:href=\"#mf4b2810a5e\" x=\"185.725437\" y=\"134.244486\" style=\"fill: #1f77b4; stroke: #1f77b4\"/>\n     <use xlink:href=\"#mf4b2810a5e\" x=\"115.989453\" y=\"96.062556\" style=\"fill: #1f77b4; stroke: #1f77b4\"/>\n     <use xlink:href=\"#mf4b2810a5e\" x=\"81.987638\" y=\"47.233124\" style=\"fill: #1f77b4; stroke: #1f77b4\"/>\n     <use xlink:href=\"#mf4b2810a5e\" x=\"137.663297\" y=\"92.026003\" style=\"fill: #1f77b4; stroke: #1f77b4\"/>\n     <use xlink:href=\"#mf4b2810a5e\" x=\"94.291433\" y=\"46.706356\" style=\"fill: #1f77b4; stroke: #1f77b4\"/>\n     <use xlink:href=\"#mf4b2810a5e\" x=\"145.374716\" y=\"89.655847\" style=\"fill: #1f77b4; stroke: #1f77b4\"/>\n     <use xlink:href=\"#mf4b2810a5e\" x=\"138.624144\" y=\"85.389317\" style=\"fill: #1f77b4; stroke: #1f77b4\"/>\n     <use xlink:href=\"#mf4b2810a5e\" x=\"85.381272\" y=\"66.296369\" style=\"fill: #1f77b4; stroke: #1f77b4\"/>\n     <use xlink:href=\"#mf4b2810a5e\" x=\"98.197733\" y=\"62.382723\" style=\"fill: #1f77b4; stroke: #1f77b4\"/>\n     <use xlink:href=\"#mf4b2810a5e\" x=\"90.973028\" y=\"47.68601\" style=\"fill: #1f77b4; stroke: #1f77b4\"/>\n     <use xlink:href=\"#mf4b2810a5e\" x=\"67.797007\" y=\"50.058892\" style=\"fill: #1f77b4; stroke: #1f77b4\"/>\n     <use xlink:href=\"#mf4b2810a5e\" x=\"95.230304\" y=\"58.37551\" style=\"fill: #1f77b4; stroke: #1f77b4\"/>\n     <use xlink:href=\"#mf4b2810a5e\" x=\"146.945264\" y=\"97.732851\" style=\"fill: #1f77b4; stroke: #1f77b4\"/>\n     <use xlink:href=\"#mf4b2810a5e\" x=\"97.465661\" y=\"56.242554\" style=\"fill: #1f77b4; stroke: #1f77b4\"/>\n     <use xlink:href=\"#mf4b2810a5e\" x=\"130.612627\" y=\"86.031944\" style=\"fill: #1f77b4; stroke: #1f77b4\"/>\n     <use xlink:href=\"#mf4b2810a5e\" x=\"56.613364\" y=\"41.98351\" style=\"fill: #1f77b4; stroke: #1f77b4\"/>\n     <use xlink:href=\"#mf4b2810a5e\" x=\"139.56263\" y=\"99.755916\" style=\"fill: #1f77b4; stroke: #1f77b4\"/>\n     <use xlink:href=\"#mf4b2810a5e\" x=\"182.894518\" y=\"112.953921\" style=\"fill: #1f77b4; stroke: #1f77b4\"/>\n     <use xlink:href=\"#mf4b2810a5e\" x=\"89.588284\" y=\"58.429344\" style=\"fill: #1f77b4; stroke: #1f77b4\"/>\n     <use xlink:href=\"#mf4b2810a5e\" x=\"132.393701\" y=\"49.271829\" style=\"fill: #1f77b4; stroke: #1f77b4\"/>\n     <use xlink:href=\"#mf4b2810a5e\" x=\"144.406668\" y=\"86.312444\" style=\"fill: #1f77b4; stroke: #1f77b4\"/>\n     <use xlink:href=\"#mf4b2810a5e\" x=\"134.72341\" y=\"72.183432\" style=\"fill: #1f77b4; stroke: #1f77b4\"/>\n     <use xlink:href=\"#mf4b2810a5e\" x=\"133.940151\" y=\"79.992424\" style=\"fill: #1f77b4; stroke: #1f77b4\"/>\n     <use xlink:href=\"#mf4b2810a5e\" x=\"128.012538\" y=\"77.307834\" style=\"fill: #1f77b4; stroke: #1f77b4\"/>\n     <use xlink:href=\"#mf4b2810a5e\" x=\"72.440464\" y=\"71.633261\" style=\"fill: #1f77b4; stroke: #1f77b4\"/>\n     <use xlink:href=\"#mf4b2810a5e\" x=\"215.364915\" y=\"122.441908\" style=\"fill: #1f77b4; stroke: #1f77b4\"/>\n     <use xlink:href=\"#mf4b2810a5e\" x=\"116.390739\" y=\"59.519299\" style=\"fill: #1f77b4; stroke: #1f77b4\"/>\n     <use xlink:href=\"#mf4b2810a5e\" x=\"157.004565\" y=\"112.713461\" style=\"fill: #1f77b4; stroke: #1f77b4\"/>\n     <use xlink:href=\"#mf4b2810a5e\" x=\"80.174443\" y=\"37.457367\" style=\"fill: #1f77b4; stroke: #1f77b4\"/>\n     <use xlink:href=\"#mf4b2810a5e\" x=\"98.304611\" y=\"50.544722\" style=\"fill: #1f77b4; stroke: #1f77b4\"/>\n     <use xlink:href=\"#mf4b2810a5e\" x=\"113.276278\" y=\"60.708239\" style=\"fill: #1f77b4; stroke: #1f77b4\"/>\n     <use xlink:href=\"#mf4b2810a5e\" x=\"134.081219\" y=\"85.012631\" style=\"fill: #1f77b4; stroke: #1f77b4\"/>\n     <use xlink:href=\"#mf4b2810a5e\" x=\"122.707235\" y=\"91.789693\" style=\"fill: #1f77b4; stroke: #1f77b4\"/>\n     <use xlink:href=\"#mf4b2810a5e\" x=\"97.11499\" y=\"67.043759\" style=\"fill: #1f77b4; stroke: #1f77b4\"/>\n     <use xlink:href=\"#mf4b2810a5e\" x=\"84.879316\" y=\"55.267586\" style=\"fill: #1f77b4; stroke: #1f77b4\"/>\n     <use xlink:href=\"#mf4b2810a5e\" x=\"149.220869\" y=\"75.139162\" style=\"fill: #1f77b4; stroke: #1f77b4\"/>\n     <use xlink:href=\"#mf4b2810a5e\" x=\"152.504073\" y=\"88.038279\" style=\"fill: #1f77b4; stroke: #1f77b4\"/>\n     <use xlink:href=\"#mf4b2810a5e\" x=\"95.28002\" y=\"57.098745\" style=\"fill: #1f77b4; stroke: #1f77b4\"/>\n     <use xlink:href=\"#mf4b2810a5e\" x=\"159.015638\" y=\"91.606286\" style=\"fill: #1f77b4; stroke: #1f77b4\"/>\n     <use xlink:href=\"#mf4b2810a5e\" x=\"125.075256\" y=\"79.475835\" style=\"fill: #1f77b4; stroke: #1f77b4\"/>\n     <use xlink:href=\"#mf4b2810a5e\" x=\"120.550013\" y=\"60.674532\" style=\"fill: #1f77b4; stroke: #1f77b4\"/>\n     <use xlink:href=\"#mf4b2810a5e\" x=\"138.67542\" y=\"97.115722\" style=\"fill: #1f77b4; stroke: #1f77b4\"/>\n     <use xlink:href=\"#mf4b2810a5e\" x=\"62.6678\" y=\"56.020455\" style=\"fill: #1f77b4; stroke: #1f77b4\"/>\n     <use xlink:href=\"#mf4b2810a5e\" x=\"134.229935\" y=\"100.464258\" style=\"fill: #1f77b4; stroke: #1f77b4\"/>\n     <use xlink:href=\"#mf4b2810a5e\" x=\"101.386204\" y=\"75.748099\" style=\"fill: #1f77b4; stroke: #1f77b4\"/>\n     <use xlink:href=\"#mf4b2810a5e\" x=\"118.35216\" y=\"72.413037\" style=\"fill: #1f77b4; stroke: #1f77b4\"/>\n     <use xlink:href=\"#mf4b2810a5e\" x=\"139.199739\" y=\"84.535805\" style=\"fill: #1f77b4; stroke: #1f77b4\"/>\n     <use xlink:href=\"#mf4b2810a5e\" x=\"77.810742\" y=\"49.484391\" style=\"fill: #1f77b4; stroke: #1f77b4\"/>\n     <use xlink:href=\"#mf4b2810a5e\" x=\"108.341068\" y=\"76.446831\" style=\"fill: #1f77b4; stroke: #1f77b4\"/>\n     <use xlink:href=\"#mf4b2810a5e\" x=\"113.930165\" y=\"94.685785\" style=\"fill: #1f77b4; stroke: #1f77b4\"/>\n     <use xlink:href=\"#mf4b2810a5e\" x=\"83.38219\" y=\"40.478113\" style=\"fill: #1f77b4; stroke: #1f77b4\"/>\n     <use xlink:href=\"#mf4b2810a5e\" x=\"136.958165\" y=\"95.501038\" style=\"fill: #1f77b4; stroke: #1f77b4\"/>\n     <use xlink:href=\"#mf4b2810a5e\" x=\"171.145585\" y=\"129.075798\" style=\"fill: #1f77b4; stroke: #1f77b4\"/>\n     <use xlink:href=\"#mf4b2810a5e\" x=\"152.772488\" y=\"110.904587\" style=\"fill: #1f77b4; stroke: #1f77b4\"/>\n     <use xlink:href=\"#mf4b2810a5e\" x=\"140.971432\" y=\"100.158097\" style=\"fill: #1f77b4; stroke: #1f77b4\"/>\n     <use xlink:href=\"#mf4b2810a5e\" x=\"165.641704\" y=\"99.490896\" style=\"fill: #1f77b4; stroke: #1f77b4\"/>\n     <use xlink:href=\"#mf4b2810a5e\" x=\"87.51242\" y=\"49.984737\" style=\"fill: #1f77b4; stroke: #1f77b4\"/>\n     <use xlink:href=\"#mf4b2810a5e\" x=\"120.632717\" y=\"84.0283\" style=\"fill: #1f77b4; stroke: #1f77b4\"/>\n     <use xlink:href=\"#mf4b2810a5e\" x=\"111.076645\" y=\"62.523348\" style=\"fill: #1f77b4; stroke: #1f77b4\"/>\n     <use xlink:href=\"#mf4b2810a5e\" x=\"125.163145\" y=\"72.483952\" style=\"fill: #1f77b4; stroke: #1f77b4\"/>\n     <use xlink:href=\"#mf4b2810a5e\" x=\"155.123705\" y=\"120.153889\" style=\"fill: #1f77b4; stroke: #1f77b4\"/>\n     <use xlink:href=\"#mf4b2810a5e\" x=\"144.791837\" y=\"98.614151\" style=\"fill: #1f77b4; stroke: #1f77b4\"/>\n     <use xlink:href=\"#mf4b2810a5e\" x=\"100.045268\" y=\"61.571852\" style=\"fill: #1f77b4; stroke: #1f77b4\"/>\n     <use xlink:href=\"#mf4b2810a5e\" x=\"118.563871\" y=\"79.696899\" style=\"fill: #1f77b4; stroke: #1f77b4\"/>\n     <use xlink:href=\"#mf4b2810a5e\" x=\"120.578425\" y=\"88.475504\" style=\"fill: #1f77b4; stroke: #1f77b4\"/>\n     <use xlink:href=\"#mf4b2810a5e\" x=\"166.095828\" y=\"103.91825\" style=\"fill: #1f77b4; stroke: #1f77b4\"/>\n     <use xlink:href=\"#mf4b2810a5e\" x=\"115.47317\" y=\"46.295874\" style=\"fill: #1f77b4; stroke: #1f77b4\"/>\n     <use xlink:href=\"#mf4b2810a5e\" x=\"111.586403\" y=\"34.540803\" style=\"fill: #1f77b4; stroke: #1f77b4\"/>\n     <use xlink:href=\"#mf4b2810a5e\" x=\"119.675599\" y=\"67.754081\" style=\"fill: #1f77b4; stroke: #1f77b4\"/>\n     <use xlink:href=\"#mf4b2810a5e\" x=\"119.779595\" y=\"81.274538\" style=\"fill: #1f77b4; stroke: #1f77b4\"/>\n     <use xlink:href=\"#mf4b2810a5e\" x=\"142.384025\" y=\"73.236254\" style=\"fill: #1f77b4; stroke: #1f77b4\"/>\n     <use xlink:href=\"#mf4b2810a5e\" x=\"142.886211\" y=\"106.050112\" style=\"fill: #1f77b4; stroke: #1f77b4\"/>\n     <use xlink:href=\"#mf4b2810a5e\" x=\"186.202237\" y=\"108.317267\" style=\"fill: #1f77b4; stroke: #1f77b4\"/>\n     <use xlink:href=\"#mf4b2810a5e\" x=\"140.795199\" y=\"95.89918\" style=\"fill: #1f77b4; stroke: #1f77b4\"/>\n     <use xlink:href=\"#mf4b2810a5e\" x=\"150.705306\" y=\"79.798064\" style=\"fill: #1f77b4; stroke: #1f77b4\"/>\n     <use xlink:href=\"#mf4b2810a5e\" x=\"139.507077\" y=\"61.385919\" style=\"fill: #1f77b4; stroke: #1f77b4\"/>\n     <use xlink:href=\"#mf4b2810a5e\" x=\"108.108294\" y=\"53.41769\" style=\"fill: #1f77b4; stroke: #1f77b4\"/>\n     <use xlink:href=\"#mf4b2810a5e\" x=\"140.7862\" y=\"93.145964\" style=\"fill: #1f77b4; stroke: #1f77b4\"/>\n     <use xlink:href=\"#mf4b2810a5e\" x=\"130.547311\" y=\"119.384342\" style=\"fill: #1f77b4; stroke: #1f77b4\"/>\n     <use xlink:href=\"#mf4b2810a5e\" x=\"153.932642\" y=\"88.80671\" style=\"fill: #1f77b4; stroke: #1f77b4\"/>\n     <use xlink:href=\"#mf4b2810a5e\" x=\"91.943369\" y=\"61.702127\" style=\"fill: #1f77b4; stroke: #1f77b4\"/>\n     <use xlink:href=\"#mf4b2810a5e\" x=\"132.869341\" y=\"69.992165\" style=\"fill: #1f77b4; stroke: #1f77b4\"/>\n     <use xlink:href=\"#mf4b2810a5e\" x=\"77.385539\" y=\"47.316211\" style=\"fill: #1f77b4; stroke: #1f77b4\"/>\n     <use xlink:href=\"#mf4b2810a5e\" x=\"76.937053\" y=\"39.829086\" style=\"fill: #1f77b4; stroke: #1f77b4\"/>\n     <use xlink:href=\"#mf4b2810a5e\" x=\"119.572129\" y=\"81.537222\" style=\"fill: #1f77b4; stroke: #1f77b4\"/>\n     <use xlink:href=\"#mf4b2810a5e\" x=\"101.166029\" y=\"56.955412\" style=\"fill: #1f77b4; stroke: #1f77b4\"/>\n     <use xlink:href=\"#mf4b2810a5e\" x=\"71.094339\" y=\"33.869118\" style=\"fill: #1f77b4; stroke: #1f77b4\"/>\n     <use xlink:href=\"#mf4b2810a5e\" x=\"145.846909\" y=\"95.134158\" style=\"fill: #1f77b4; stroke: #1f77b4\"/>\n     <use xlink:href=\"#mf4b2810a5e\" x=\"113.180763\" y=\"81.124109\" style=\"fill: #1f77b4; stroke: #1f77b4\"/>\n     <use xlink:href=\"#mf4b2810a5e\" x=\"106.527314\" y=\"53.218247\" style=\"fill: #1f77b4; stroke: #1f77b4\"/>\n     <use xlink:href=\"#mf4b2810a5e\" x=\"124.400334\" y=\"100.194088\" style=\"fill: #1f77b4; stroke: #1f77b4\"/>\n     <use xlink:href=\"#mf4b2810a5e\" x=\"128.612238\" y=\"70.103508\" style=\"fill: #1f77b4; stroke: #1f77b4\"/>\n     <use xlink:href=\"#mf4b2810a5e\" x=\"84.206339\" y=\"49.042192\" style=\"fill: #1f77b4; stroke: #1f77b4\"/>\n     <use xlink:href=\"#mf4b2810a5e\" x=\"103.276683\" y=\"50.585869\" style=\"fill: #1f77b4; stroke: #1f77b4\"/>\n     <use xlink:href=\"#mf4b2810a5e\" x=\"175.608699\" y=\"117.484098\" style=\"fill: #1f77b4; stroke: #1f77b4\"/>\n    </g>\n   </g>\n   <g id=\"matplotlib.axis_1\">\n    <g id=\"xtick_1\">\n     <g id=\"line2d_1\">\n      <defs>\n       <path id=\"mdae32cda73\" d=\"M 0 0 \nL 0 3.5 \n\" style=\"stroke: #000000; stroke-width: 0.8\"/>\n      </defs>\n      <g>\n       <use xlink:href=\"#mdae32cda73\" x=\"64.205292\" y=\"145.8\" style=\"stroke: #000000; stroke-width: 0.8\"/>\n      </g>\n     </g>\n     <g id=\"text_1\">\n      <!-- −2 -->\n      <g transform=\"translate(56.834199 160.398438) scale(0.1 -0.1)\">\n       <defs>\n        <path id=\"DejaVuSans-2212\" d=\"M 678 2272 \nL 4684 2272 \nL 4684 1741 \nL 678 1741 \nL 678 2272 \nz\n\" transform=\"scale(0.015625)\"/>\n        <path id=\"DejaVuSans-32\" d=\"M 1228 531 \nL 3431 531 \nL 3431 0 \nL 469 0 \nL 469 531 \nQ 828 903 1448 1529 \nQ 2069 2156 2228 2338 \nQ 2531 2678 2651 2914 \nQ 2772 3150 2772 3378 \nQ 2772 3750 2511 3984 \nQ 2250 4219 1831 4219 \nQ 1534 4219 1204 4116 \nQ 875 4013 500 3803 \nL 500 4441 \nQ 881 4594 1212 4672 \nQ 1544 4750 1819 4750 \nQ 2544 4750 2975 4387 \nQ 3406 4025 3406 3419 \nQ 3406 3131 3298 2873 \nQ 3191 2616 2906 2266 \nQ 2828 2175 2409 1742 \nQ 1991 1309 1228 531 \nz\n\" transform=\"scale(0.015625)\"/>\n       </defs>\n       <use xlink:href=\"#DejaVuSans-2212\"/>\n       <use xlink:href=\"#DejaVuSans-32\" x=\"83.789062\"/>\n      </g>\n     </g>\n    </g>\n    <g id=\"xtick_2\">\n     <g id=\"line2d_2\">\n      <g>\n       <use xlink:href=\"#mdae32cda73\" x=\"127.939695\" y=\"145.8\" style=\"stroke: #000000; stroke-width: 0.8\"/>\n      </g>\n     </g>\n     <g id=\"text_2\">\n      <!-- 0 -->\n      <g transform=\"translate(124.758445 160.398438) scale(0.1 -0.1)\">\n       <defs>\n        <path id=\"DejaVuSans-30\" d=\"M 2034 4250 \nQ 1547 4250 1301 3770 \nQ 1056 3291 1056 2328 \nQ 1056 1369 1301 889 \nQ 1547 409 2034 409 \nQ 2525 409 2770 889 \nQ 3016 1369 3016 2328 \nQ 3016 3291 2770 3770 \nQ 2525 4250 2034 4250 \nz\nM 2034 4750 \nQ 2819 4750 3233 4129 \nQ 3647 3509 3647 2328 \nQ 3647 1150 3233 529 \nQ 2819 -91 2034 -91 \nQ 1250 -91 836 529 \nQ 422 1150 422 2328 \nQ 422 3509 836 4129 \nQ 1250 4750 2034 4750 \nz\n\" transform=\"scale(0.015625)\"/>\n       </defs>\n       <use xlink:href=\"#DejaVuSans-30\"/>\n      </g>\n     </g>\n    </g>\n    <g id=\"xtick_3\">\n     <g id=\"line2d_3\">\n      <g>\n       <use xlink:href=\"#mdae32cda73\" x=\"191.674097\" y=\"145.8\" style=\"stroke: #000000; stroke-width: 0.8\"/>\n      </g>\n     </g>\n     <g id=\"text_3\">\n      <!-- 2 -->\n      <g transform=\"translate(188.492847 160.398438) scale(0.1 -0.1)\">\n       <use xlink:href=\"#DejaVuSans-32\"/>\n      </g>\n     </g>\n    </g>\n   </g>\n   <g id=\"matplotlib.axis_2\">\n    <g id=\"ytick_1\">\n     <g id=\"line2d_4\">\n      <defs>\n       <path id=\"m60bb460e81\" d=\"M 0 0 \nL -3.5 0 \n\" style=\"stroke: #000000; stroke-width: 0.8\"/>\n      </defs>\n      <g>\n       <use xlink:href=\"#m60bb460e81\" x=\"28.942188\" y=\"134.185576\" style=\"stroke: #000000; stroke-width: 0.8\"/>\n      </g>\n     </g>\n     <g id=\"text_4\">\n      <!-- −5 -->\n      <g transform=\"translate(7.2 137.984794) scale(0.1 -0.1)\">\n       <defs>\n        <path id=\"DejaVuSans-35\" d=\"M 691 4666 \nL 3169 4666 \nL 3169 4134 \nL 1269 4134 \nL 1269 2991 \nQ 1406 3038 1543 3061 \nQ 1681 3084 1819 3084 \nQ 2600 3084 3056 2656 \nQ 3513 2228 3513 1497 \nQ 3513 744 3044 326 \nQ 2575 -91 1722 -91 \nQ 1428 -91 1123 -41 \nQ 819 9 494 109 \nL 494 744 \nQ 775 591 1075 516 \nQ 1375 441 1709 441 \nQ 2250 441 2565 725 \nQ 2881 1009 2881 1497 \nQ 2881 1984 2565 2268 \nQ 2250 2553 1709 2553 \nQ 1456 2553 1204 2497 \nQ 953 2441 691 2322 \nL 691 4666 \nz\n\" transform=\"scale(0.015625)\"/>\n       </defs>\n       <use xlink:href=\"#DejaVuSans-2212\"/>\n       <use xlink:href=\"#DejaVuSans-35\" x=\"83.789062\"/>\n      </g>\n     </g>\n    </g>\n    <g id=\"ytick_2\">\n     <g id=\"line2d_5\">\n      <g>\n       <use xlink:href=\"#m60bb460e81\" x=\"28.942188\" y=\"103.818611\" style=\"stroke: #000000; stroke-width: 0.8\"/>\n      </g>\n     </g>\n     <g id=\"text_5\">\n      <!-- 0 -->\n      <g transform=\"translate(15.579688 107.617829) scale(0.1 -0.1)\">\n       <use xlink:href=\"#DejaVuSans-30\"/>\n      </g>\n     </g>\n    </g>\n    <g id=\"ytick_3\">\n     <g id=\"line2d_6\">\n      <g>\n       <use xlink:href=\"#m60bb460e81\" x=\"28.942188\" y=\"73.451646\" style=\"stroke: #000000; stroke-width: 0.8\"/>\n      </g>\n     </g>\n     <g id=\"text_6\">\n      <!-- 5 -->\n      <g transform=\"translate(15.579688 77.250864) scale(0.1 -0.1)\">\n       <use xlink:href=\"#DejaVuSans-35\"/>\n      </g>\n     </g>\n    </g>\n    <g id=\"ytick_4\">\n     <g id=\"line2d_7\">\n      <g>\n       <use xlink:href=\"#m60bb460e81\" x=\"28.942188\" y=\"43.084681\" style=\"stroke: #000000; stroke-width: 0.8\"/>\n      </g>\n     </g>\n     <g id=\"text_7\">\n      <!-- 10 -->\n      <g transform=\"translate(9.217188 46.883899) scale(0.1 -0.1)\">\n       <defs>\n        <path id=\"DejaVuSans-31\" d=\"M 794 531 \nL 1825 531 \nL 1825 4091 \nL 703 3866 \nL 703 4441 \nL 1819 4666 \nL 2450 4666 \nL 2450 531 \nL 3481 531 \nL 3481 0 \nL 794 0 \nL 794 531 \nz\n\" transform=\"scale(0.015625)\"/>\n       </defs>\n       <use xlink:href=\"#DejaVuSans-31\"/>\n       <use xlink:href=\"#DejaVuSans-30\" x=\"63.623047\"/>\n      </g>\n     </g>\n    </g>\n    <g id=\"ytick_5\">\n     <g id=\"line2d_8\">\n      <g>\n       <use xlink:href=\"#m60bb460e81\" x=\"28.942188\" y=\"12.717716\" style=\"stroke: #000000; stroke-width: 0.8\"/>\n      </g>\n     </g>\n     <g id=\"text_8\">\n      <!-- 15 -->\n      <g transform=\"translate(9.217188 16.516934) scale(0.1 -0.1)\">\n       <use xlink:href=\"#DejaVuSans-31\"/>\n       <use xlink:href=\"#DejaVuSans-35\" x=\"63.623047\"/>\n      </g>\n     </g>\n    </g>\n   </g>\n   <g id=\"patch_3\">\n    <path d=\"M 28.942188 145.8 \nL 28.942188 7.2 \n\" style=\"fill: none; stroke: #000000; stroke-width: 0.8; stroke-linejoin: miter; stroke-linecap: square\"/>\n   </g>\n   <g id=\"patch_4\">\n    <path d=\"M 224.242188 145.8 \nL 224.242188 7.2 \n\" style=\"fill: none; stroke: #000000; stroke-width: 0.8; stroke-linejoin: miter; stroke-linecap: square\"/>\n   </g>\n   <g id=\"patch_5\">\n    <path d=\"M 28.942188 145.8 \nL 224.242188 145.8 \n\" style=\"fill: none; stroke: #000000; stroke-width: 0.8; stroke-linejoin: miter; stroke-linecap: square\"/>\n   </g>\n   <g id=\"patch_6\">\n    <path d=\"M 28.942188 7.2 \nL 224.242188 7.2 \n\" style=\"fill: none; stroke: #000000; stroke-width: 0.8; stroke-linejoin: miter; stroke-linecap: square\"/>\n   </g>\n  </g>\n </g>\n <defs>\n  <clipPath id=\"pad893eb66b\">\n   <rect x=\"28.942188\" y=\"7.2\" width=\"195.3\" height=\"138.6\"/>\n  </clipPath>\n </defs>\n</svg>\n"
     },
     "metadata": {},
     "output_type": "display_data"
    }
   ],
   "source": [
    "d2l.set_figsize()\n",
    "d2l.plt.scatter(features[:, 1].detach().numpy(), labels.detach().numpy(), 1);"
   ]
  },
  {
   "cell_type": "markdown",
   "id": "d28e67d3",
   "metadata": {
    "origin_pos": 13
   },
   "source": [
    "## 读取数据集\n",
    "\n",
    "回想一下，训练模型时要对数据集进行遍历，每次抽取一小批量样本，并使用它们来更新我们的模型。\n",
    "由于这个过程是训练机器学习算法的基础，所以有必要定义一个函数，\n",
    "该函数能打乱数据集中的样本并以小批量方式获取数据。\n",
    "\n",
    "在下面的代码中，我们[**定义一个`data_iter`函数，\n",
    "该函数接收批量大小、特征矩阵和标签向量作为输入，生成大小为`batch_size`的小批量**]。\n",
    "每个小批量包含一组特征和标签。\n"
   ]
  },
  {
   "cell_type": "code",
   "execution_count": 177,
   "id": "9505ff1c",
   "metadata": {
    "execution": {
     "iopub.execute_input": "2022-12-07T16:43:06.555825Z",
     "iopub.status.busy": "2022-12-07T16:43:06.555541Z",
     "iopub.status.idle": "2022-12-07T16:43:06.561066Z",
     "shell.execute_reply": "2022-12-07T16:43:06.560334Z"
    },
    "origin_pos": 14,
    "tab": [
     "pytorch"
    ],
    "ExecuteTime": {
     "end_time": "2023-07-31T06:51:29.911865Z",
     "start_time": "2023-07-31T06:51:29.804718Z"
    }
   },
   "outputs": [],
   "source": [
    "def data_iter(batch_size, features, labels):\n",
    "    num_examples = len(features)\n",
    "    indices = list(range(num_examples))\n",
    "    # 这些样本是随机读取的，没有特定的顺序\n",
    "    random.shuffle(indices)\n",
    "    for i in range(0, num_examples, batch_size):\n",
    "        batch_indices = torch.tensor(\n",
    "            indices[i: min(i + batch_size, num_examples)])\n",
    "        yield features[batch_indices], labels[batch_indices]"
   ]
  },
  {
   "cell_type": "markdown",
   "id": "edc07979",
   "metadata": {
    "origin_pos": 16
   },
   "source": [
    "通常，我们利用GPU并行运算的优势，处理合理大小的“小批量”。\n",
    "每个样本都可以并行地进行模型计算，且每个样本损失函数的梯度也可以被并行计算。\n",
    "GPU可以在处理几百个样本时，所花费的时间不比处理一个样本时多太多。\n",
    "\n",
    "我们直观感受一下小批量运算：读取第一个小批量数据样本并打印。\n",
    "每个批量的特征维度显示批量大小和输入特征数。\n",
    "同样的，批量的标签形状与`batch_size`相等。\n"
   ]
  },
  {
   "cell_type": "code",
   "execution_count": 178,
   "id": "3934d3c4",
   "metadata": {
    "execution": {
     "iopub.execute_input": "2022-12-07T16:43:06.565191Z",
     "iopub.status.busy": "2022-12-07T16:43:06.564923Z",
     "iopub.status.idle": "2022-12-07T16:43:06.571970Z",
     "shell.execute_reply": "2022-12-07T16:43:06.571038Z"
    },
    "origin_pos": 17,
    "tab": [
     "pytorch"
    ],
    "ExecuteTime": {
     "end_time": "2023-07-31T06:51:29.913233Z",
     "start_time": "2023-07-31T06:51:29.807421Z"
    }
   },
   "outputs": [
    {
     "name": "stdout",
     "output_type": "stream",
     "text": [
      "tensor([[ 0.5223, -0.3065],\n",
      "        [-1.2452, -0.5660],\n",
      "        [ 0.0811,  2.1488],\n",
      "        [-1.7029,  1.3042],\n",
      "        [-0.8336,  0.0747],\n",
      "        [ 0.0442,  1.0889],\n",
      "        [ 0.4879,  1.6371],\n",
      "        [-0.0192,  0.6184],\n",
      "        [ 0.6608, -0.5947],\n",
      "        [ 1.4234, -0.8339]]) \n",
      " tensor([[ 6.2948],\n",
      "        [ 3.6439],\n",
      "        [-2.9579],\n",
      "        [-3.6522],\n",
      "        [ 2.2788],\n",
      "        [ 0.6118],\n",
      "        [-0.4016],\n",
      "        [ 2.0513],\n",
      "        [ 7.5375],\n",
      "        [ 9.8846]])\n"
     ]
    }
   ],
   "source": [
    "batch_size = 10\n",
    "\n",
    "for X, y in data_iter(batch_size, features, labels):\n",
    "    print(X, '\\n', y)\n",
    "    break"
   ]
  },
  {
   "cell_type": "markdown",
   "id": "f959e76b",
   "metadata": {
    "origin_pos": 18
   },
   "source": [
    "当我们运行迭代时，我们会连续地获得不同的小批量，直至遍历完整个数据集。\n",
    "上面实现的迭代对教学来说很好，但它的执行效率很低，可能会在实际问题上陷入麻烦。\n",
    "例如，它要求我们将所有数据加载到内存中，并执行大量的随机内存访问。\n",
    "在深度学习框架中实现的内置迭代器效率要高得多，\n",
    "它可以处理存储在文件中的数据和数据流提供的数据。\n",
    "\n",
    "## 初始化模型参数\n",
    "\n",
    "[**在我们开始用小批量随机梯度下降优化我们的模型参数之前**]，\n",
    "(**我们需要先有一些参数**)。\n",
    "在下面的代码中，我们通过从均值为0、标准差为0.01的正态分布中采样随机数来初始化权重，\n",
    "并将偏置初始化为0。\n"
   ]
  },
  {
   "cell_type": "code",
   "execution_count": 179,
   "id": "23a1437e",
   "metadata": {
    "execution": {
     "iopub.execute_input": "2022-12-07T16:43:06.575915Z",
     "iopub.status.busy": "2022-12-07T16:43:06.575647Z",
     "iopub.status.idle": "2022-12-07T16:43:06.580295Z",
     "shell.execute_reply": "2022-12-07T16:43:06.579544Z"
    },
    "origin_pos": 20,
    "tab": [
     "pytorch"
    ],
    "ExecuteTime": {
     "end_time": "2023-07-31T06:51:29.913275Z",
     "start_time": "2023-07-31T06:51:29.810721Z"
    }
   },
   "outputs": [],
   "source": [
    "w = torch.normal(0, 0.01, size=(2,1), requires_grad=True)\n",
    "b = torch.zeros(1, requires_grad=True)"
   ]
  },
  {
   "cell_type": "markdown",
   "id": "f6ad34a9",
   "metadata": {
    "origin_pos": 23
   },
   "source": [
    "在初始化参数之后，我们的任务是更新这些参数，直到这些参数足够拟合我们的数据。\n",
    "每次更新都需要计算损失函数关于模型参数的梯度。\n",
    "有了这个梯度，我们就可以向减小损失的方向更新每个参数。\n",
    "因为手动计算梯度很枯燥而且容易出错，所以没有人会手动计算梯度。\n",
    "我们使用 :numref:`sec_autograd`中引入的自动微分来计算梯度。\n",
    "\n",
    "## 定义模型\n",
    "\n",
    "接下来，我们必须[**定义模型，将模型的输入和参数同模型的输出关联起来。**]\n",
    "回想一下，要计算线性模型的输出，\n",
    "我们只需计算输入特征$\\mathbf{X}$和模型权重$\\mathbf{w}$的矩阵-向量乘法后加上偏置$b$。\n",
    "注意，上面的$\\mathbf{Xw}$是一个向量，而$b$是一个标量。\n",
    "回想一下 :numref:`subsec_broadcasting`中描述的广播机制：\n",
    "当我们用一个向量加一个标量时，标量会被加到向量的每个分量上。\n"
   ]
  },
  {
   "cell_type": "code",
   "execution_count": 180,
   "id": "67386d14",
   "metadata": {
    "execution": {
     "iopub.execute_input": "2022-12-07T16:43:06.583374Z",
     "iopub.status.busy": "2022-12-07T16:43:06.583103Z",
     "iopub.status.idle": "2022-12-07T16:43:06.587197Z",
     "shell.execute_reply": "2022-12-07T16:43:06.586376Z"
    },
    "origin_pos": 24,
    "tab": [
     "pytorch"
    ],
    "ExecuteTime": {
     "end_time": "2023-07-31T06:51:29.913345Z",
     "start_time": "2023-07-31T06:51:29.812856Z"
    }
   },
   "outputs": [],
   "source": [
    "def linreg(X, w, b):  #@save\n",
    "    \"\"\"线性回归模型\"\"\"\n",
    "    return torch.matmul(X, w) + b"
   ]
  },
  {
   "cell_type": "markdown",
   "id": "7a087a5b",
   "metadata": {
    "origin_pos": 25
   },
   "source": [
    "## [**定义损失函数**]\n",
    "\n",
    "因为需要计算损失函数的梯度，所以我们应该先定义损失函数。\n",
    "这里我们使用 :numref:`sec_linear_regression`中描述的平方损失函数。\n",
    "在实现中，我们需要将真实值`y`的形状转换为和预测值`y_hat`的形状相同。\n"
   ]
  },
  {
   "cell_type": "code",
   "execution_count": 181,
   "id": "b95eb605",
   "metadata": {
    "execution": {
     "iopub.execute_input": "2022-12-07T16:43:06.590200Z",
     "iopub.status.busy": "2022-12-07T16:43:06.589934Z",
     "iopub.status.idle": "2022-12-07T16:43:06.594002Z",
     "shell.execute_reply": "2022-12-07T16:43:06.593170Z"
    },
    "origin_pos": 26,
    "tab": [
     "pytorch"
    ],
    "ExecuteTime": {
     "end_time": "2023-07-31T06:51:29.913417Z",
     "start_time": "2023-07-31T06:51:29.815250Z"
    }
   },
   "outputs": [],
   "source": [
    "def squared_loss(y_hat, y):  #@save\n",
    "    \"\"\"均方损失\"\"\"\n",
    "    return (y_hat - y.reshape(y_hat.shape)) ** 2 / 2"
   ]
  },
  {
   "cell_type": "markdown",
   "id": "1919becd",
   "metadata": {
    "origin_pos": 27
   },
   "source": [
    "## (**定义优化算法**)\n",
    "\n",
    "正如我们在 :numref:`sec_linear_regression`中讨论的，线性回归有解析解。\n",
    "尽管线性回归有解析解，但本书中的其他模型却没有。\n",
    "这里我们介绍小批量随机梯度下降。\n",
    "\n",
    "在每一步中，使用从数据集中随机抽取的一个小批量，然后根据参数计算损失的梯度。\n",
    "接下来，朝着减少损失的方向更新我们的参数。\n",
    "下面的函数实现小批量随机梯度下降更新。\n",
    "该函数接受模型参数集合、学习速率和批量大小作为输入。每\n",
    "一步更新的大小由学习速率`lr`决定。\n",
    "因为我们计算的损失是一个批量样本的总和，所以我们用批量大小（`batch_size`）\n",
    "来规范化步长，这样步长大小就不会取决于我们对批量大小的选择。\n"
   ]
  },
  {
   "cell_type": "code",
   "execution_count": 182,
   "id": "a6360e87",
   "metadata": {
    "execution": {
     "iopub.execute_input": "2022-12-07T16:43:06.597167Z",
     "iopub.status.busy": "2022-12-07T16:43:06.596900Z",
     "iopub.status.idle": "2022-12-07T16:43:06.601385Z",
     "shell.execute_reply": "2022-12-07T16:43:06.600532Z"
    },
    "origin_pos": 29,
    "tab": [
     "pytorch"
    ],
    "ExecuteTime": {
     "end_time": "2023-07-31T06:51:29.913454Z",
     "start_time": "2023-07-31T06:51:29.817431Z"
    }
   },
   "outputs": [],
   "source": [
    "def sgd(params, lr, batch_size):  #@save\n",
    "    \"\"\"小批量随机梯度下降\"\"\"\n",
    "    with torch.no_grad():\n",
    "        for param in params:\n",
    "            param -= lr * param.grad / batch_size\n",
    "            param.grad.zero_()"
   ]
  },
  {
   "cell_type": "markdown",
   "id": "9e466d4d",
   "metadata": {
    "origin_pos": 32
   },
   "source": [
    "## 训练\n",
    "\n",
    "现在我们已经准备好了模型训练所有需要的要素，可以实现主要的[**训练过程**]部分了。\n",
    "理解这段代码至关重要，因为从事深度学习后，\n",
    "相同的训练过程几乎一遍又一遍地出现。\n",
    "在每次迭代中，我们读取一小批量训练样本，并通过我们的模型来获得一组预测。\n",
    "计算完损失后，我们开始反向传播，存储每个参数的梯度。\n",
    "最后，我们调用优化算法`sgd`来更新模型参数。\n",
    "\n",
    "概括一下，我们将执行以下循环：\n",
    "\n",
    "* 初始化参数\n",
    "* 重复以下训练，直到完成\n",
    "    * 计算梯度$\\mathbf{g} \\leftarrow \\partial_{(\\mathbf{w},b)} \\frac{1}{|\\mathcal{B}|} \\sum_{i \\in \\mathcal{B}} l(\\mathbf{x}^{(i)}, y^{(i)}, \\mathbf{w}, b)$\n",
    "    * 更新参数$(\\mathbf{w}, b) \\leftarrow (\\mathbf{w}, b) - \\eta \\mathbf{g}$\n",
    "\n",
    "在每个*迭代周期*（epoch）中，我们使用`data_iter`函数遍历整个数据集，\n",
    "并将训练数据集中所有样本都使用一次（假设样本数能够被批量大小整除）。\n",
    "这里的迭代周期个数`num_epochs`和学习率`lr`都是超参数，分别设为3和0.03。\n",
    "设置超参数很棘手，需要通过反复试验进行调整。\n",
    "我们现在忽略这些细节，以后会在 :numref:`chap_optimization`中详细介绍。\n"
   ]
  },
  {
   "cell_type": "code",
   "execution_count": 183,
   "id": "102331db",
   "metadata": {
    "execution": {
     "iopub.execute_input": "2022-12-07T16:43:06.604403Z",
     "iopub.status.busy": "2022-12-07T16:43:06.604136Z",
     "iopub.status.idle": "2022-12-07T16:43:06.608339Z",
     "shell.execute_reply": "2022-12-07T16:43:06.607465Z"
    },
    "origin_pos": 33,
    "tab": [
     "pytorch"
    ],
    "ExecuteTime": {
     "end_time": "2023-07-31T06:51:29.914336Z",
     "start_time": "2023-07-31T06:51:29.820902Z"
    }
   },
   "outputs": [],
   "source": [
    "lr = 0.03\n",
    "num_epochs = 3\n",
    "net = linreg\n",
    "loss = squared_loss"
   ]
  },
  {
   "cell_type": "code",
   "execution_count": 187,
   "id": "97d6ac25",
   "metadata": {
    "execution": {
     "iopub.execute_input": "2022-12-07T16:43:06.611713Z",
     "iopub.status.busy": "2022-12-07T16:43:06.611103Z",
     "iopub.status.idle": "2022-12-07T16:43:06.718470Z",
     "shell.execute_reply": "2022-12-07T16:43:06.717660Z"
    },
    "origin_pos": 35,
    "tab": [
     "pytorch"
    ],
    "ExecuteTime": {
     "end_time": "2023-07-31T06:51:39.330069Z",
     "start_time": "2023-07-31T06:51:39.300470Z"
    }
   },
   "outputs": [
    {
     "name": "stdout",
     "output_type": "stream",
     "text": [
      "epoch 1, loss 0.000045\n",
      "epoch 2, loss 0.000045\n",
      "epoch 3, loss 0.000045\n"
     ]
    }
   ],
   "source": [
    "for epoch in range(num_epochs):\n",
    "    for X, y in data_iter(batch_size, features, labels):\n",
    "        l = loss(net(X, w, b), y)  # X和y的小批量损失\n",
    "        # 因为l形状是(batch_size,1)，而不是一个标量。l中的所有元素被加到一起，\n",
    "        # 并以此计算关于[w,b]的梯度\n",
    "        l.sum().backward()\n",
    "        sgd([w, b], lr, batch_size)  # 使用参数的梯度更新参数\n",
    "    with torch.no_grad():\n",
    "        train_l = loss(net(features, w, b), labels)\n",
    "        print(f'epoch {epoch + 1}, loss {float(train_l.mean()):f}')"
   ]
  },
  {
   "cell_type": "markdown",
   "id": "c49ff328",
   "metadata": {
    "origin_pos": 38
   },
   "source": [
    "因为我们使用的是自己合成的数据集，所以我们知道真正的参数是什么。\n",
    "因此，我们可以通过[**比较真实参数和通过训练学到的参数来评估训练的成功程度**]。\n",
    "事实上，真实参数和通过训练学到的参数确实非常接近。\n"
   ]
  },
  {
   "cell_type": "code",
   "execution_count": 185,
   "id": "20cfe26e",
   "metadata": {
    "execution": {
     "iopub.execute_input": "2022-12-07T16:43:06.722173Z",
     "iopub.status.busy": "2022-12-07T16:43:06.721608Z",
     "iopub.status.idle": "2022-12-07T16:43:06.727216Z",
     "shell.execute_reply": "2022-12-07T16:43:06.726417Z"
    },
    "origin_pos": 39,
    "tab": [
     "pytorch"
    ],
    "ExecuteTime": {
     "end_time": "2023-07-31T06:51:29.915292Z",
     "start_time": "2023-07-31T06:51:29.844375Z"
    }
   },
   "outputs": [
    {
     "name": "stdout",
     "output_type": "stream",
     "text": [
      "w的估计误差: tensor([-0.0002, -0.0008], grad_fn=<SubBackward0>)\n",
      "b的估计误差: tensor([0.0011], grad_fn=<RsubBackward1>)\n"
     ]
    }
   ],
   "source": [
    "print(f'w的估计误差: {true_w - w.reshape(true_w.shape)}')\n",
    "print(f'b的估计误差: {true_b - b}')"
   ]
  },
  {
   "cell_type": "markdown",
   "id": "256e4aea",
   "metadata": {
    "origin_pos": 40
   },
   "source": [
    "注意，我们不应该想当然地认为我们能够完美地求解参数。\n",
    "在机器学习中，我们通常不太关心恢复真正的参数，而更关心如何高度准确预测参数。\n",
    "幸运的是，即使是在复杂的优化问题上，随机梯度下降通常也能找到非常好的解。\n",
    "其中一个原因是，在深度网络中存在许多参数组合能够实现高度精确的预测。\n",
    "\n",
    "## 小结\n",
    "\n",
    "* 我们学习了深度网络是如何实现和优化的。在这一过程中只使用张量和自动微分，不需要定义层或复杂的优化器。\n",
    "* 这一节只触及到了表面知识。在下面的部分中，我们将基于刚刚介绍的概念描述其他模型，并学习如何更简洁地实现其他模型。\n",
    "\n",
    "## 练习\n",
    "\n",
    "1. 如果我们将权重初始化为零，会发生什么。算法仍然有效吗？\n",
    "1. 假设试图为电压和电流的关系建立一个模型。自动微分可以用来学习模型的参数吗?\n",
    "1. 能基于[普朗克定律](https://en.wikipedia.org/wiki/Planck%27s_law)使用光谱能量密度来确定物体的温度吗？\n",
    "1. 计算二阶导数时可能会遇到什么问题？这些问题可以如何解决？\n",
    "1. 为什么在`squared_loss`函数中需要使用`reshape`函数？\n",
    "1. 尝试使用不同的学习率，观察损失函数值下降的快慢。\n",
    "1. 如果样本个数不能被批量大小整除，`data_iter`函数的行为会有什么变化？\n"
   ]
  },
  {
   "cell_type": "markdown",
   "id": "084dd552",
   "metadata": {
    "origin_pos": 42,
    "tab": [
     "pytorch"
    ]
   },
   "source": [
    "[Discussions](https://discuss.d2l.ai/t/1778)\n"
   ]
  },
  {
   "cell_type": "code",
   "execution_count": 185,
   "outputs": [],
   "source": [],
   "metadata": {
    "collapsed": false,
    "ExecuteTime": {
     "end_time": "2023-07-31T06:51:29.915664Z",
     "start_time": "2023-07-31T06:51:29.847188Z"
    }
   }
  }
 ],
 "metadata": {
  "language_info": {
   "name": "python"
  },
  "kernelspec": {
   "name": "python3",
   "language": "python",
   "display_name": "Python 3 (ipykernel)"
  }
 },
 "nbformat": 4,
 "nbformat_minor": 5
}
